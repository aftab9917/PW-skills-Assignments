{
 "cells": [
  {
   "cell_type": "code",
   "execution_count": 1,
   "id": "45ae739c-da4d-4087-ba7d-4850c3e5ab99",
   "metadata": {},
   "outputs": [
    {
     "ename": "NameError",
     "evalue": "name 'df' is not defined",
     "output_type": "error",
     "traceback": [
      "\u001b[0;31m---------------------------------------------------------------------------\u001b[0m",
      "\u001b[0;31mNameError\u001b[0m                                 Traceback (most recent call last)",
      "Cell \u001b[0;32mIn[1], line 3\u001b[0m\n\u001b[1;32m      1\u001b[0m \u001b[38;5;66;03m#ANSWER 1\u001b[39;00m\n\u001b[0;32m----> 3\u001b[0m \u001b[38;5;28mprint\u001b[39m(\u001b[43mdf\u001b[49m\u001b[38;5;241m.\u001b[39miloc[\u001b[38;5;241m1\u001b[39m])\n",
      "\u001b[0;31mNameError\u001b[0m: name 'df' is not defined"
     ]
    }
   ],
   "source": [
    "#ANSWER 1\n",
    "\n",
    "print(df.iloc[1])\n"
   ]
  },
  {
   "cell_type": "code",
   "execution_count": 2,
   "id": "83196a4d-658b-45ae-ac03-e1a7e4a2ee13",
   "metadata": {},
   "outputs": [
    {
     "data": {
      "text/plain": [
       "'loc: It is used for label-based indexing, i.e., you specify the index labels or row labels and column names to access data.\\niloc: It is used for integer-based indexing, i.e., you specify integer indices to access data.'"
      ]
     },
     "execution_count": 2,
     "metadata": {},
     "output_type": "execute_result"
    }
   ],
   "source": [
    "#ANSWER 2\n",
    "\n",
    "'''loc: It is used for label-based indexing, i.e., you specify the index labels or row labels and column names to access data.\n",
    "iloc: It is used for integer-based indexing, i.e., you specify integer indices to access data.'''"
   ]
  },
  {
   "cell_type": "code",
   "execution_count": 3,
   "id": "1fbc321b-a0b1-493f-8ff9-e8d0a9d3d450",
   "metadata": {},
   "outputs": [
    {
     "ename": "NameError",
     "evalue": "name 'df' is not defined",
     "output_type": "error",
     "traceback": [
      "\u001b[0;31m---------------------------------------------------------------------------\u001b[0m",
      "\u001b[0;31mNameError\u001b[0m                                 Traceback (most recent call last)",
      "Cell \u001b[0;32mIn[3], line 4\u001b[0m\n\u001b[1;32m      1\u001b[0m \u001b[38;5;66;03m#ANSWER 3\u001b[39;00m\n\u001b[1;32m      3\u001b[0m reindex \u001b[38;5;241m=\u001b[39m [\u001b[38;5;241m3\u001b[39m, \u001b[38;5;241m0\u001b[39m, \u001b[38;5;241m1\u001b[39m, \u001b[38;5;241m2\u001b[39m]\n\u001b[0;32m----> 4\u001b[0m new_df \u001b[38;5;241m=\u001b[39m \u001b[43mdf\u001b[49m\u001b[38;5;241m.\u001b[39mreindex(reindex)\n\u001b[1;32m      5\u001b[0m \u001b[38;5;28mprint\u001b[39m(new_df\u001b[38;5;241m.\u001b[39mloc[\u001b[38;5;241m2\u001b[39m])\n\u001b[1;32m      6\u001b[0m \u001b[38;5;28mprint\u001b[39m(new_df\u001b[38;5;241m.\u001b[39miloc[\u001b[38;5;241m2\u001b[39m])\n",
      "\u001b[0;31mNameError\u001b[0m: name 'df' is not defined"
     ]
    }
   ],
   "source": [
    "#ANSWER 3\n",
    "\n",
    "reindex = [3, 0, 1, 2]\n",
    "new_df = df.reindex(reindex)\n",
    "print(new_df.loc[2])\n",
    "print(new_df.iloc[2])\n"
   ]
  },
  {
   "cell_type": "code",
   "execution_count": 4,
   "id": "1e02df1d-8484-4264-badf-fdd34b428d75",
   "metadata": {},
   "outputs": [
    {
     "ename": "NameError",
     "evalue": "name 'df1' is not defined",
     "output_type": "error",
     "traceback": [
      "\u001b[0;31m---------------------------------------------------------------------------\u001b[0m",
      "\u001b[0;31mNameError\u001b[0m                                 Traceback (most recent call last)",
      "Cell \u001b[0;32mIn[4], line 4\u001b[0m\n\u001b[1;32m      1\u001b[0m \u001b[38;5;66;03m#ANSWER 4\u001b[39;00m\n\u001b[1;32m      2\u001b[0m \n\u001b[1;32m      3\u001b[0m \u001b[38;5;66;03m# (i) Mean of each and every column\u001b[39;00m\n\u001b[0;32m----> 4\u001b[0m \u001b[38;5;28mprint\u001b[39m(\u001b[43mdf1\u001b[49m\u001b[38;5;241m.\u001b[39mmean())\n\u001b[1;32m      6\u001b[0m \u001b[38;5;66;03m# (ii) Standard deviation of column 'column_2'\u001b[39;00m\n\u001b[1;32m      7\u001b[0m \u001b[38;5;28mprint\u001b[39m(df1[\u001b[38;5;124m'\u001b[39m\u001b[38;5;124mcolumn_2\u001b[39m\u001b[38;5;124m'\u001b[39m]\u001b[38;5;241m.\u001b[39mstd())\n",
      "\u001b[0;31mNameError\u001b[0m: name 'df1' is not defined"
     ]
    }
   ],
   "source": [
    "#ANSWER 4\n",
    "\n",
    "# (i) Mean of each and every column\n",
    "print(df1.mean())\n",
    "\n",
    "# (ii) Standard deviation of column 'column_2'\n",
    "print(df1['column_2'].std())\n"
   ]
  },
  {
   "cell_type": "code",
   "execution_count": null,
   "id": "29b369b5-38b2-455c-994f-32412b0241a3",
   "metadata": {},
   "outputs": [],
   "source": [
    "#ANSWER 5\n",
    "\n",
    "# Replace data in the second row of 'column_2' with a string variable\n",
    "df1.loc[1, 'column_2'] = 'String Data'\n",
    "\n",
    "# Find the mean of 'column_2'\n",
    "# Note: This will raise an error since you can't calculate the mean of a column containing non-numeric values.\n",
    "print(df1['column_2'].mean())\n"
   ]
  },
  {
   "cell_type": "code",
   "execution_count": 5,
   "id": "6523dc3f-6822-4911-8ec9-5ec31fb576ae",
   "metadata": {},
   "outputs": [
    {
     "data": {
      "text/plain": [
       "'Understanding of windows function in pandas and types of windows functions:\\nIn pandas, a window function is used to perform calculations over a sliding window of data. Some types of window functions include:\\n\\nRolling: Calculates statistics over a rolling window of data.\\nExpanding: Calculates statistics over an expanding window of data.\\nExponentially weighted: Calculates exponentially weighted statistics over a window of data.'"
      ]
     },
     "execution_count": 5,
     "metadata": {},
     "output_type": "execute_result"
    }
   ],
   "source": [
    "#ANSWER 6\n",
    "'''Understanding of windows function in pandas and types of windows functions:\n",
    "In pandas, a window function is used to perform calculations over a sliding window of data. Some types of window functions include:\n",
    "\n",
    "Rolling: Calculates statistics over a rolling window of data.\n",
    "Expanding: Calculates statistics over an expanding window of data.\n",
    "Exponentially weighted: Calculates exponentially weighted statistics over a window of data.'''\n"
   ]
  },
  {
   "cell_type": "code",
   "execution_count": null,
   "id": "2b4192f9-024d-4981-bae2-8ceff526eae8",
   "metadata": {},
   "outputs": [],
   "source": [
    "#ANSWER 7\n",
    "\n",
    "import pandas as pd\n",
    "\n",
    "# Get current date and time\n",
    "current_date = pd.Timestamp.now()\n",
    "\n",
    "# Print current month and year\n",
    "print(\"Current month and year:\", current_date.strftime('%B %Y'))\n"
   ]
  },
  {
   "cell_type": "code",
   "execution_count": null,
   "id": "2063072b-1760-42d0-a4a1-34d16387927c",
   "metadata": {},
   "outputs": [],
   "source": [
    "#ANSWER 8\n",
    "import pandas as pd\n",
    "\n",
    "# Prompt user to enter dates\n",
    "date1 = input(\"Enter the first date (YYYY-MM-DD): \")\n",
    "date2 = input(\"Enter the second date (YYYY-MM-DD): \")\n",
    "\n",
    "# Convert dates to datetime objects\n",
    "date1 = pd.to_datetime(date1)\n",
    "date2 = pd.to_datetime(date2)\n",
    "\n",
    "# Calculate the difference\n",
    "time_difference = date2 - date1\n",
    "\n",
    "# Display the result\n",
    "print(\"Difference in days:\", time_difference.days)\n",
    "print(\"Difference in hours:\", time_difference.seconds // 3600)\n",
    "print(\"Difference in minutes:\", (time_difference.seconds % 3600) // 60)\n",
    "'''Difference in the outputs:\n",
    "\n",
    "The first code snippet calculates the difference between two dates using pandas' Timestamp and to_datetime functions, resulting in a pandas Timedelta object.\n",
    "The second code snippet calculates the difference between two dates using pandas' Timedelta object directly. Both methods provide the same result, but the second method is more straightforward and doesn't require converting the dates to pandas Timestamp objects.'''\n",
    "\n",
    "\n",
    "\n",
    "\n",
    "\n",
    "\n"
   ]
  },
  {
   "cell_type": "code",
   "execution_count": null,
   "id": "c5bfad4a-379b-4d90-bb12-bd6fd8007bca",
   "metadata": {},
   "outputs": [],
   "source": [
    "#ANSWER 9\n",
    "\n",
    "import pandas as pd\n",
    "\n",
    "# Prompt user to enter file path, column name, and category order\n",
    "file_path = input(\"Enter the file path of the CSV file: \")\n",
    "column_name = input(\"Enter the column name to convert to categorical data type: \")\n",
    "category_order = input(\"Enter the category order (comma-separated): \").split(',')\n",
    "\n",
    "# Read CSV file into DataFrame\n",
    "df = pd.read_csv(file_path)\n",
    "\n",
    "# Convert specified column to categorical data type\n",
    "df[column_name] = pd.Categorical(df[column_name], categories=category_order, ordered=True)\n",
    "\n",
    "# Display sorted data\n",
    "sorted_df = df.sort_values(by=column_name)\n",
    "print(sorted_df)\n"
   ]
  },
  {
   "cell_type": "code",
   "execution_count": null,
   "id": "11f614dc-3567-4e74-8f20-2af633eecdaa",
   "metadata": {},
   "outputs": [],
   "source": [
    "#ANSWER 10\n",
    "\n",
    "import pandas as pd\n",
    "import matplotlib.pyplot as plt\n",
    "\n",
    "# Prompt user to enter file path\n",
    "file_path = input(\"Enter the file path of the CSV file: \")\n",
    "\n",
    "# Read CSV file into DataFrame\n",
    "df = pd.read_csv(file_path)\n",
    "\n",
    "# Plot stacked bar chart\n",
    "df.plot(x='Date', kind='bar', stacked=True)\n",
    "plt.xlabel('Date')\n",
    "plt.ylabel('Sales')\n",
    "plt.title('Sales of Each Product Category Over Time')\n",
    "plt.show()\n"
   ]
  },
  {
   "cell_type": "code",
   "execution_count": null,
   "id": "8eac0163-72d4-44a5-9eb5-46a403078454",
   "metadata": {},
   "outputs": [],
   "source": [
    "#ANSWER 11\n",
    "import pandas as pd\n",
    "\n",
    "# Prompt user to enter file path\n",
    "file_path = input(\"Enter the file path of the CSV file containing the student data: \")\n",
    "\n",
    "# Read CSV file into DataFrame\n",
    "df = pd.read_csv(file_path)\n",
    "\n",
    "# Calculate mean, median, and mode of test scores\n",
    "mean_score = df['Test Score'].mean()\n",
    "median_score = df['Test Score'].median()\n",
    "mode_score = df['Test Score'].mode()\n",
    "\n",
    "# Display results in a table\n",
    "results = pd.DataFrame({\n",
    "    'Statistic': ['Mean', 'Median', 'Mode'],\n",
    "    'Value': [mean_score, median_score, ', '.join(map(str, mode_score))]\n",
    "})\n",
    "print(results)\n",
    "\n"
   ]
  }
 ],
 "metadata": {
  "kernelspec": {
   "display_name": "Python 3 (ipykernel)",
   "language": "python",
   "name": "python3"
  },
  "language_info": {
   "codemirror_mode": {
    "name": "ipython",
    "version": 3
   },
   "file_extension": ".py",
   "mimetype": "text/x-python",
   "name": "python",
   "nbconvert_exporter": "python",
   "pygments_lexer": "ipython3",
   "version": "3.10.8"
  }
 },
 "nbformat": 4,
 "nbformat_minor": 5
}
