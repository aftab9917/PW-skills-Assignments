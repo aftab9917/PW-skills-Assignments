{
 "cells": [
  {
   "cell_type": "code",
   "execution_count": null,
   "id": "458118b0-e478-4d6d-ac25-432fc19fcbf7",
   "metadata": {},
   "outputs": [],
   "source": [
    "# ANSWER 1\n",
    "# Data encoding is the process of converting data from one form to another, typically transforming categorical data into numerical form for machine learning algorithms.\n",
    "# It is useful in data science because many algorithms require numerical input, it helps in feature engineering, and it can improve model performance by providing suitable data representations.\n"
   ]
  },
  {
   "cell_type": "code",
   "execution_count": 1,
   "id": "450cc8ec-288b-43c8-85de-339d591fa4c0",
   "metadata": {},
   "outputs": [],
   "source": [
    "# ANSWER 2\n",
    "# Nominal encoding is converting categorical data into numerical form by assigning an integer to each category without implying any order.\n",
    "# Example: If a dataset contains vehicle types such as 'SUV', 'Sedan', 'Truck', and 'Coupe', nominal encoding could convert these to 1, 2, 3, and 4, respectively.\n"
   ]
  },
  {
   "cell_type": "code",
   "execution_count": 2,
   "id": "05a98478-b0f5-4284-baa1-902311f61534",
   "metadata": {},
   "outputs": [],
   "source": [
    "# ANSWER 3\n",
    "# Nominal encoding is preferred over one-hot encoding in situations with high cardinality or when using tree-based algorithms that can handle ordinal relationships.\n",
    "# Practical example: Encoding user IDs in a recommendation system with 10,000 unique users using label encoding to avoid creating 10,000 columns.\n"
   ]
  },
  {
   "cell_type": "code",
   "execution_count": 3,
   "id": "d3d08a84-d7c3-45f2-83c4-41d6679601a6",
   "metadata": {},
   "outputs": [],
   "source": [
    "# ANSWER 4\n",
    "# With 5 unique categorical values, one-hot encoding is suitable as it avoids implying any order and the dimensionality increase is manageable.\n",
    "# This ensures that the categories are treated independently by machine learning algorithms.\n"
   ]
  },
  {
   "cell_type": "code",
   "execution_count": 4,
   "id": "5d6e4d65-c539-4097-8741-25a0c344ae31",
   "metadata": {},
   "outputs": [],
   "source": [
    "# ANSWER 5\n",
    "# If nominal encoding is used on two categorical columns, each categorical column will be replaced by one new column.\n",
    "# Thus, the number of new columns created will be 2, resulting in a total of 5 columns (3 numerical + 2 encoded categorical).\n"
   ]
  },
  {
   "cell_type": "code",
   "execution_count": 5,
   "id": "9e957b74-06fe-46c6-86af-26616584a849",
   "metadata": {},
   "outputs": [],
   "source": [
    "# ANSWER 6\n",
    "# One-Hot Encoding is appropriate for encoding species, habitat, and diet in an animal dataset as these categories do not have a natural order and the increase in dimensionality is manageable.\n",
    "# This ensures that no ordinal relationships are incorrectly inferred by the model.\n"
   ]
  },
  {
   "cell_type": "code",
   "execution_count": 7,
   "id": "eda4bbaa-446d-40b3-aa40-25a5a15381cf",
   "metadata": {},
   "outputs": [
    {
     "ename": "ValueError",
     "evalue": "input_features is not equal to feature_names_in_",
     "output_type": "error",
     "traceback": [
      "\u001b[0;31m---------------------------------------------------------------------------\u001b[0m",
      "\u001b[0;31mValueError\u001b[0m                                Traceback (most recent call last)",
      "Cell \u001b[0;32mIn[7], line 30\u001b[0m\n\u001b[1;32m     28\u001b[0m one_hot_encoder \u001b[38;5;241m=\u001b[39m OneHotEncoder(drop\u001b[38;5;241m=\u001b[39m\u001b[38;5;124m'\u001b[39m\u001b[38;5;124mfirst\u001b[39m\u001b[38;5;124m'\u001b[39m)\n\u001b[1;32m     29\u001b[0m contract_encoded \u001b[38;5;241m=\u001b[39m one_hot_encoder\u001b[38;5;241m.\u001b[39mfit_transform(df[[\u001b[38;5;124m'\u001b[39m\u001b[38;5;124mContract Type\u001b[39m\u001b[38;5;124m'\u001b[39m]])\u001b[38;5;241m.\u001b[39mtoarray()\n\u001b[0;32m---> 30\u001b[0m contract_encoded_df \u001b[38;5;241m=\u001b[39m pd\u001b[38;5;241m.\u001b[39mDataFrame(contract_encoded, columns\u001b[38;5;241m=\u001b[39m\u001b[43mone_hot_encoder\u001b[49m\u001b[38;5;241;43m.\u001b[39;49m\u001b[43mget_feature_names_out\u001b[49m\u001b[43m(\u001b[49m\u001b[43m[\u001b[49m\u001b[38;5;124;43m'\u001b[39;49m\u001b[38;5;124;43mContract\u001b[39;49m\u001b[38;5;124;43m'\u001b[39;49m\u001b[43m]\u001b[49m\u001b[43m)\u001b[49m)\n\u001b[1;32m     31\u001b[0m df \u001b[38;5;241m=\u001b[39m pd\u001b[38;5;241m.\u001b[39mconcat([df, contract_encoded_df], axis\u001b[38;5;241m=\u001b[39m\u001b[38;5;241m1\u001b[39m)\n\u001b[1;32m     32\u001b[0m df\u001b[38;5;241m.\u001b[39mdrop([\u001b[38;5;124m'\u001b[39m\u001b[38;5;124mContract Type\u001b[39m\u001b[38;5;124m'\u001b[39m], axis\u001b[38;5;241m=\u001b[39m\u001b[38;5;241m1\u001b[39m, inplace\u001b[38;5;241m=\u001b[39m\u001b[38;5;28;01mTrue\u001b[39;00m)\n",
      "File \u001b[0;32m/opt/conda/lib/python3.10/site-packages/sklearn/preprocessing/_encoders.py:1037\u001b[0m, in \u001b[0;36mOneHotEncoder.get_feature_names_out\u001b[0;34m(self, input_features)\u001b[0m\n\u001b[1;32m   1017\u001b[0m \u001b[38;5;124;03m\"\"\"Get output feature names for transformation.\u001b[39;00m\n\u001b[1;32m   1018\u001b[0m \n\u001b[1;32m   1019\u001b[0m \u001b[38;5;124;03mParameters\u001b[39;00m\n\u001b[0;32m   (...)\u001b[0m\n\u001b[1;32m   1034\u001b[0m \u001b[38;5;124;03m    Transformed feature names.\u001b[39;00m\n\u001b[1;32m   1035\u001b[0m \u001b[38;5;124;03m\"\"\"\u001b[39;00m\n\u001b[1;32m   1036\u001b[0m check_is_fitted(\u001b[38;5;28mself\u001b[39m)\n\u001b[0;32m-> 1037\u001b[0m input_features \u001b[38;5;241m=\u001b[39m \u001b[43m_check_feature_names_in\u001b[49m\u001b[43m(\u001b[49m\u001b[38;5;28;43mself\u001b[39;49m\u001b[43m,\u001b[49m\u001b[43m \u001b[49m\u001b[43minput_features\u001b[49m\u001b[43m)\u001b[49m\n\u001b[1;32m   1038\u001b[0m cats \u001b[38;5;241m=\u001b[39m [\n\u001b[1;32m   1039\u001b[0m     \u001b[38;5;28mself\u001b[39m\u001b[38;5;241m.\u001b[39m_compute_transformed_categories(i)\n\u001b[1;32m   1040\u001b[0m     \u001b[38;5;28;01mfor\u001b[39;00m i, _ \u001b[38;5;129;01min\u001b[39;00m \u001b[38;5;28menumerate\u001b[39m(\u001b[38;5;28mself\u001b[39m\u001b[38;5;241m.\u001b[39mcategories_)\n\u001b[1;32m   1041\u001b[0m ]\n\u001b[1;32m   1043\u001b[0m feature_names \u001b[38;5;241m=\u001b[39m []\n",
      "File \u001b[0;32m/opt/conda/lib/python3.10/site-packages/sklearn/utils/validation.py:1944\u001b[0m, in \u001b[0;36m_check_feature_names_in\u001b[0;34m(estimator, input_features, generate_names)\u001b[0m\n\u001b[1;32m   1940\u001b[0m input_features \u001b[38;5;241m=\u001b[39m np\u001b[38;5;241m.\u001b[39masarray(input_features, dtype\u001b[38;5;241m=\u001b[39m\u001b[38;5;28mobject\u001b[39m)\n\u001b[1;32m   1941\u001b[0m \u001b[38;5;28;01mif\u001b[39;00m feature_names_in_ \u001b[38;5;129;01mis\u001b[39;00m \u001b[38;5;129;01mnot\u001b[39;00m \u001b[38;5;28;01mNone\u001b[39;00m \u001b[38;5;129;01mand\u001b[39;00m \u001b[38;5;129;01mnot\u001b[39;00m np\u001b[38;5;241m.\u001b[39marray_equal(\n\u001b[1;32m   1942\u001b[0m     feature_names_in_, input_features\n\u001b[1;32m   1943\u001b[0m ):\n\u001b[0;32m-> 1944\u001b[0m     \u001b[38;5;28;01mraise\u001b[39;00m \u001b[38;5;167;01mValueError\u001b[39;00m(\u001b[38;5;124m\"\u001b[39m\u001b[38;5;124minput_features is not equal to feature_names_in_\u001b[39m\u001b[38;5;124m\"\u001b[39m)\n\u001b[1;32m   1946\u001b[0m \u001b[38;5;28;01mif\u001b[39;00m n_features_in_ \u001b[38;5;129;01mis\u001b[39;00m \u001b[38;5;129;01mnot\u001b[39;00m \u001b[38;5;28;01mNone\u001b[39;00m \u001b[38;5;129;01mand\u001b[39;00m \u001b[38;5;28mlen\u001b[39m(input_features) \u001b[38;5;241m!=\u001b[39m n_features_in_:\n\u001b[1;32m   1947\u001b[0m     \u001b[38;5;28;01mraise\u001b[39;00m \u001b[38;5;167;01mValueError\u001b[39;00m(\n\u001b[1;32m   1948\u001b[0m         \u001b[38;5;124m\"\u001b[39m\u001b[38;5;124minput_features should have length equal to number of \u001b[39m\u001b[38;5;124m\"\u001b[39m\n\u001b[1;32m   1949\u001b[0m         \u001b[38;5;124mf\u001b[39m\u001b[38;5;124m\"\u001b[39m\u001b[38;5;124mfeatures (\u001b[39m\u001b[38;5;132;01m{\u001b[39;00mn_features_in_\u001b[38;5;132;01m}\u001b[39;00m\u001b[38;5;124m), got \u001b[39m\u001b[38;5;132;01m{\u001b[39;00m\u001b[38;5;28mlen\u001b[39m(input_features)\u001b[38;5;132;01m}\u001b[39;00m\u001b[38;5;124m\"\u001b[39m\n\u001b[1;32m   1950\u001b[0m     )\n",
      "\u001b[0;31mValueError\u001b[0m: input_features is not equal to feature_names_in_"
     ]
    }
   ],
   "source": [
    "# ANSWER 7\n",
    "# For predicting customer churn with features including gender, age, contract type, monthly charges, and tenure:\n",
    "# - Use Label Encoding for binary gender: Male -> 0, Female -> 1.\n",
    "# - Use One-Hot Encoding for contract type to avoid implying any order.\n",
    "# Step-by-step:\n",
    "# 1. Encode gender using LabelEncoder.\n",
    "# 2. Encode contract type using OneHotEncoder.\n",
    "# 3. Combine encoded columns with numerical columns for final dataset.\n",
    "\n",
    "# Example implementation:\n",
    "from sklearn.preprocessing import LabelEncoder, OneHotEncoder\n",
    "import pandas as pd\n",
    "\n",
    "# Sample dataframe\n",
    "df = pd.DataFrame({\n",
    "    'Gender': ['Male', 'Female', 'Female', 'Male'],\n",
    "    'Age': [34, 26, 45, 23],\n",
    "    'Contract Type': ['Month-to-month', 'One year', 'Month-to-month', 'Two year'],\n",
    "    'Monthly Charges': [70.35, 89.90, 68.75, 105.50],\n",
    "    'Tenure': [12, 24, 5, 3]\n",
    "})\n",
    "\n",
    "# Label Encoding for Gender\n",
    "label_encoder = LabelEncoder()\n",
    "df['Gender'] = label_encoder.fit_transform(df['Gender'])\n",
    "\n",
    "# One-Hot Encoding for Contract Type\n",
    "one_hot_encoder = OneHotEncoder(drop='first')\n",
    "contract_encoded = one_hot_encoder.fit_transform(df[['Contract Type']]).toarray()\n",
    "contract_encoded_df = pd.DataFrame(contract_encoded, columns=one_hot_encoder.get_feature_names_out(['Contract']))\n",
    "df = pd.concat([df, contract_encoded_df], axis=1)\n",
    "df.drop(['Contract Type'], axis=1, inplace=True)\n",
    "\n"
   ]
  },
  {
   "cell_type": "code",
   "execution_count": null,
   "id": "9235cbfb-433b-4ae2-8869-ca0eeb999782",
   "metadata": {},
   "outputs": [],
   "source": []
  }
 ],
 "metadata": {
  "kernelspec": {
   "display_name": "Python 3 (ipykernel)",
   "language": "python",
   "name": "python3"
  },
  "language_info": {
   "codemirror_mode": {
    "name": "ipython",
    "version": 3
   },
   "file_extension": ".py",
   "mimetype": "text/x-python",
   "name": "python",
   "nbconvert_exporter": "python",
   "pygments_lexer": "ipython3",
   "version": "3.10.8"
  }
 },
 "nbformat": 4,
 "nbformat_minor": 5
}
