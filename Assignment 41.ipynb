{
 "cells": [
  {
   "cell_type": "code",
   "execution_count": 1,
   "id": "d9f4c25d-de2f-4c16-9a88-3dbeaaf6d407",
   "metadata": {},
   "outputs": [
    {
     "name": "stdout",
     "output_type": "stream",
     "text": [
      "Pearson correlation coefficient: 1.00\n"
     ]
    }
   ],
   "source": [
    "#ANSWER 1\n",
    "\n",
    "import numpy as np\n",
    "from scipy.stats import pearsonr\n",
    "\n",
    "# Sample data: hours studied and exam scores\n",
    "hours_studied = np.array([1, 2, 3, 4, 5, 6, 7, 8, 9, 10])\n",
    "exam_scores = np.array([55, 60, 65, 70, 75, 80, 85, 90, 95, 100])\n",
    "\n",
    "# Calculate Pearson correlation coefficient\n",
    "pearson_corr, _ = pearsonr(hours_studied, exam_scores)\n",
    "print(f'Pearson correlation coefficient: {pearson_corr:.2f}')\n"
   ]
  },
  {
   "cell_type": "code",
   "execution_count": 2,
   "id": "826ba5a2-06b9-472f-8436-ba4705f7af5a",
   "metadata": {},
   "outputs": [
    {
     "name": "stdout",
     "output_type": "stream",
     "text": [
      "Spearman's rank correlation coefficient: 1.00\n"
     ]
    }
   ],
   "source": [
    "#ANSWER 2\n",
    "\n",
    "from scipy.stats import spearmanr\n",
    "\n",
    "# Sample data: hours of sleep and job satisfaction\n",
    "hours_sleep = np.array([6, 7, 8, 5, 6, 7, 8, 9, 10, 5])\n",
    "job_satisfaction = np.array([5, 6, 7, 4, 5, 6, 8, 9, 10, 4])\n",
    "\n",
    "# Calculate Spearman's rank correlation coefficient\n",
    "spearman_corr, _ = spearmanr(hours_sleep, job_satisfaction)\n",
    "print(f'Spearman\\'s rank correlation coefficient: {spearman_corr:.2f}')\n"
   ]
  },
  {
   "cell_type": "code",
   "execution_count": 3,
   "id": "54ad7474-fe36-4894-a040-5dcf183546a2",
   "metadata": {},
   "outputs": [
    {
     "name": "stdout",
     "output_type": "stream",
     "text": [
      "Pearson correlation coefficient: -0.28\n",
      "Spearman's rank correlation coefficient: -0.28\n"
     ]
    }
   ],
   "source": [
    "#ANSWER 3\n",
    "\n",
    "import pandas as pd\n",
    "np.random.seed(42)\n",
    "\n",
    "# Generate sample data\n",
    "exercise_hours = np.random.randint(0, 10, 50)\n",
    "bmi = np.random.uniform(18, 35, 50)\n",
    "\n",
    "# Calculate Pearson correlation coefficient\n",
    "pearson_corr, _ = pearsonr(exercise_hours, bmi)\n",
    "print(f'Pearson correlation coefficient: {pearson_corr:.2f}')\n",
    "\n",
    "# Calculate Spearman's rank correlation coefficient\n",
    "spearman_corr, _ = spearmanr(exercise_hours, bmi)\n",
    "print(f'Spearman\\'s rank correlation coefficient: {spearman_corr:.2f}')\n"
   ]
  },
  {
   "cell_type": "code",
   "execution_count": 4,
   "id": "61c699da-7bfd-491b-9154-c062f0b24447",
   "metadata": {},
   "outputs": [
    {
     "name": "stdout",
     "output_type": "stream",
     "text": [
      "Pearson correlation coefficient: 0.05\n"
     ]
    }
   ],
   "source": [
    "#ANSWER 4\n",
    "\n",
    "# Generate sample data\n",
    "tv_hours = np.random.randint(0, 10, 50)\n",
    "physical_activity = np.random.randint(0, 10, 50)\n",
    "\n",
    "# Calculate Pearson correlation coefficient\n",
    "pearson_corr, _ = pearsonr(tv_hours, physical_activity)\n",
    "print(f'Pearson correlation coefficient: {pearson_corr:.2f}')\n"
   ]
  },
  {
   "cell_type": "code",
   "execution_count": 5,
   "id": "fc5070b6-9f97-4a66-b085-219f45bef20b",
   "metadata": {},
   "outputs": [
    {
     "name": "stdout",
     "output_type": "stream",
     "text": [
      "   Age (Years) Soft Drink Preference\n",
      "0           25                  Coke\n",
      "1           42                 Pepsi\n",
      "2           37          Mountain Dew\n",
      "3           19                  Coke\n",
      "4           31                 Pepsi\n",
      "5           28                  Coke\n"
     ]
    }
   ],
   "source": [
    "#ANSWER 5\n",
    "\n",
    "import pandas as pd\n",
    "\n",
    "# Create a DataFrame with the given data\n",
    "data = {\n",
    "    'Age (Years)': [25, 42, 37, 19, 31, 28],\n",
    "    'Soft Drink Preference': ['Coke', 'Pepsi', 'Mountain Dew', 'Coke', 'Pepsi', 'Coke']\n",
    "}\n",
    "\n",
    "df = pd.DataFrame(data)\n",
    "print(df)\n"
   ]
  },
  {
   "cell_type": "code",
   "execution_count": 6,
   "id": "9b12cf5d-455c-4d42-8a26-4e06ded05534",
   "metadata": {},
   "outputs": [
    {
     "name": "stdout",
     "output_type": "stream",
     "text": [
      "Pearson correlation coefficient: 0.16\n"
     ]
    }
   ],
   "source": [
    "#ANSWER 6\n",
    "\n",
    "import numpy as np\n",
    "\n",
    "# Generate sample data for sales calls per day and sales per week\n",
    "np.random.seed(42)\n",
    "sales_calls_per_day = np.random.randint(20, 50, 30)\n",
    "sales_per_week = np.random.randint(5, 20, 30)\n",
    "\n",
    "# Calculate Pearson correlation coefficient\n",
    "pearson_corr, _ = pearsonr(sales_calls_per_day, sales_per_week)\n",
    "print(f'Pearson correlation coefficient: {pearson_corr:.2f}')\n"
   ]
  },
  {
   "cell_type": "code",
   "execution_count": null,
   "id": "b7f99052-61a9-4dc2-a56a-11ba802cf4b3",
   "metadata": {},
   "outputs": [],
   "source": []
  }
 ],
 "metadata": {
  "kernelspec": {
   "display_name": "Python 3 (ipykernel)",
   "language": "python",
   "name": "python3"
  },
  "language_info": {
   "codemirror_mode": {
    "name": "ipython",
    "version": 3
   },
   "file_extension": ".py",
   "mimetype": "text/x-python",
   "name": "python",
   "nbconvert_exporter": "python",
   "pygments_lexer": "ipython3",
   "version": "3.10.8"
  }
 },
 "nbformat": 4,
 "nbformat_minor": 5
}
