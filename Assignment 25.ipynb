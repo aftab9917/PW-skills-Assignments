{
 "cells": [
  {
   "cell_type": "code",
   "execution_count": 1,
   "id": "2fc0bdd5-7990-4675-a011-23a9c558856a",
   "metadata": {},
   "outputs": [
    {
     "data": {
      "text/plain": [
       "'To create a Bokeh plot using Python code, you first need to import the necessary modules from the Bokeh library. Then, you can create a figure object, add glyphs (visual markers) to it, and customize various aspects of the plot such as axes, title, and legend. Finally, you can either display the plot in a Jupyter notebook or save it as an HTML file for web deployment.'"
      ]
     },
     "execution_count": 1,
     "metadata": {},
     "output_type": "execute_result"
    }
   ],
   "source": [
    "#ANSWER 1\n",
    "\n",
    "'''To create a Bokeh plot using Python code, you first need to import the necessary modules from the Bokeh library. Then, you can create a figure object, add glyphs (visual markers) to it, and customize various aspects of the plot such as axes, title, and legend. Finally, you can either display the plot in a Jupyter notebook or save it as an HTML file for web deployment.'''"
   ]
  },
  {
   "cell_type": "code",
   "execution_count": 3,
   "id": "72598ebb-f644-4f2e-b88b-e15615a250bd",
   "metadata": {},
   "outputs": [],
   "source": [
    "#ANSWER 2\n",
    "\n",
    "'''Glyphs in Bokeh are visual markers such as circles, squares, lines, etc., that represent data points in a plot. You can add glyphs to a Bokeh plot by specifying the data source and mapping the glyph properties to columns in the data source. Here's an example of adding circles as glyphs to a Bokeh plot:'''\n",
    "\n",
    "from bokeh.plotting import figure, show\n",
    "from bokeh.models import ColumnDataSource\n",
    "\n",
    "# Create a data source\n",
    "source = ColumnDataSource(data=dict(x=[1, 2, 3], y=[4, 5, 6]))\n",
    "\n",
    "# Create a figure object\n",
    "p = figure()\n",
    "\n",
    "# Add circles as glyphs to the plot\n",
    "p.circle(x='x', y='y', source=source, size=10, color='blue')\n",
    "\n",
    "# Show the plot\n",
    "show(p)"
   ]
  },
  {
   "cell_type": "code",
   "execution_count": 4,
   "id": "37bef957-4ac2-4c88-ab1b-0985f9f0515d",
   "metadata": {},
   "outputs": [
    {
     "name": "stderr",
     "output_type": "stream",
     "text": [
      "/tmp/ipykernel_2459/176864198.py:9: UserWarning: \n",
      "You are attempting to set `plot.legend.title` on a plot that has zero legends added, this will have no effect.\n",
      "\n",
      "Before legend properties can be set, you must add a Legend explicitly, or call a glyph method with a legend parameter set.\n",
      "\n",
      "  p.legend.title = \"Legend Title\"\n"
     ]
    }
   ],
   "source": [
    "#ANSWER 3\n",
    "\n",
    "'''You can customize the appearance of a Bokeh plot by accessing various attributes of the figure object. For example, to customize the axes, you can set attributes such as axis labels, ticks, and ranges. Similarly, you can set the title of the plot and customize the legend. Here's an example:'''\n",
    "\n",
    "# Customize the appearance of the plot\n",
    "p.title.text = \"Custom Title\"\n",
    "p.xaxis.axis_label = \"X-axis Label\"\n",
    "p.yaxis.axis_label = \"Y-axis Label\"\n",
    "p.legend.title = \"Legend Title\""
   ]
  },
  {
   "cell_type": "code",
   "execution_count": 5,
   "id": "0c16eb9b-e415-4d14-960b-1fc42817d209",
   "metadata": {},
   "outputs": [
    {
     "data": {
      "text/plain": [
       "'A Bokeh server is a Python process that allows you to create and serve interactive Bokeh plots dynamically. With a Bokeh server, you can create interactive plots that respond to user input or data changes in real time. You can use the Bokeh server to update the data or properties of the plot based on user interactions or changes in external data sources.'"
      ]
     },
     "execution_count": 5,
     "metadata": {},
     "output_type": "execute_result"
    }
   ],
   "source": [
    "#AMSWER 4\n",
    "\n",
    "'''A Bokeh server is a Python process that allows you to create and serve interactive Bokeh plots dynamically. With a Bokeh server, you can create interactive plots that respond to user input or data changes in real time. You can use the Bokeh server to update the data or properties of the plot based on user interactions or changes in external data sources.'''"
   ]
  },
  {
   "cell_type": "code",
   "execution_count": 6,
   "id": "5fca8e38-c16e-44d2-aeab-6e85ad4ffbbe",
   "metadata": {},
   "outputs": [
    {
     "data": {
      "text/plain": [
       "'To embed a Bokeh plot into a web page or dashboard using Flask or Django, you can first create the Bokeh plot in Python code and save it as an HTML file. Then, you can use Flask or Django to serve the HTML file along with any additional web content. You can also use the Bokeh server to create interactive plots that can be embedded into Flask or Django applications dynamically.'"
      ]
     },
     "execution_count": 6,
     "metadata": {},
     "output_type": "execute_result"
    }
   ],
   "source": [
    "#ANSWER 5\n",
    "\n",
    "'''To embed a Bokeh plot into a web page or dashboard using Flask or Django, you can first create the Bokeh plot in Python code and save it as an HTML file. Then, you can use Flask or Django to serve the HTML file along with any additional web content. You can also use the Bokeh server to create interactive plots that can be embedded into Flask or Django applications dynamically.'''"
   ]
  },
  {
   "cell_type": "code",
   "execution_count": null,
   "id": "2a327dde-1c96-49ab-a5a4-11f9ff093593",
   "metadata": {},
   "outputs": [],
   "source": []
  }
 ],
 "metadata": {
  "kernelspec": {
   "display_name": "Python 3 (ipykernel)",
   "language": "python",
   "name": "python3"
  },
  "language_info": {
   "codemirror_mode": {
    "name": "ipython",
    "version": 3
   },
   "file_extension": ".py",
   "mimetype": "text/x-python",
   "name": "python",
   "nbconvert_exporter": "python",
   "pygments_lexer": "ipython3",
   "version": "3.10.8"
  }
 },
 "nbformat": 4,
 "nbformat_minor": 5
}
