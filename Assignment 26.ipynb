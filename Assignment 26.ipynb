{
 "cells": [
  {
   "cell_type": "code",
   "execution_count": 1,
   "id": "5c684212-a2b1-49f3-88ea-120cfe791dd8",
   "metadata": {},
   "outputs": [
    {
     "data": {
      "text/plain": [
       "'Statistics is a branch of mathematics that deals with the collection, analysis, interpretation, presentation, and organization of data. It provides methods for making inferences and decisions in the face of uncertainty.'"
      ]
     },
     "execution_count": 1,
     "metadata": {},
     "output_type": "execute_result"
    }
   ],
   "source": [
    "#ANSWER 1\n",
    "\n",
    "'''Statistics is a branch of mathematics that deals with the collection, analysis, interpretation, presentation, and organization of data. It provides methods for making inferences and decisions in the face of uncertainty.'''"
   ]
  },
  {
   "cell_type": "code",
   "execution_count": 2,
   "id": "7c89b98d-b5b4-48c6-aeb9-d55f09b7e219",
   "metadata": {},
   "outputs": [
    {
     "data": {
      "text/plain": [
       "'Descriptive Statistics: Descriptive statistics summarizes and describes data through numerical summaries, tables, or graphs. For example, calculating the mean, median, and mode of a dataset.\\nInferential Statistics: Inferential statistics involves making predictions or inferences about a population based on a sample of data. For instance, using hypothesis testing to determine if a new drug is effective based on the results of a clinical trial.'"
      ]
     },
     "execution_count": 2,
     "metadata": {},
     "output_type": "execute_result"
    }
   ],
   "source": [
    "#ANSWER 2\n",
    "\n",
    "'''Descriptive Statistics: Descriptive statistics summarizes and describes data through numerical summaries, tables, or graphs. For example, calculating the mean, median, and mode of a dataset.\n",
    "Inferential Statistics: Inferential statistics involves making predictions or inferences about a population based on a sample of data. For instance, using hypothesis testing to determine if a new drug is effective based on the results of a clinical trial.'''"
   ]
  },
  {
   "cell_type": "code",
   "execution_count": 3,
   "id": "3950497f-5805-44e2-8836-1675d0c29676",
   "metadata": {},
   "outputs": [
    {
     "data": {
      "text/plain": [
       "'Qualitative (or categorical) data: This type of data describes qualities or characteristics and cannot be measured numerically. For example, colors, gender, or types of fruit.\\nQuantitative (or numerical) data: Quantitative data consists of numerical measurements or counts. It can be further categorized as discrete or continuous. For example, the number of students in a class (discrete) or the height of individuals (continuous).'"
      ]
     },
     "execution_count": 3,
     "metadata": {},
     "output_type": "execute_result"
    }
   ],
   "source": [
    "#ANSWER 3\n",
    "\n",
    "'''Qualitative (or categorical) data: This type of data describes qualities or characteristics and cannot be measured numerically. For example, colors, gender, or types of fruit.\n",
    "Quantitative (or numerical) data: Quantitative data consists of numerical measurements or counts. It can be further categorized as discrete or continuous. For example, the number of students in a class (discrete) or the height of individuals (continuous).'''"
   ]
  },
  {
   "cell_type": "code",
   "execution_count": 4,
   "id": "9a5305e2-8601-4898-87e5-98d393d50ba1",
   "metadata": {},
   "outputs": [
    {
     "data": {
      "text/plain": [
       "'(i) Grading in an exam: Qualitative\\n(ii) Color of mangoes: Qualitative\\n(iii) Height data of a class: Quantitative (Continuous)\\n(iv) Number of mangoes exported by a farm: Quantitative (Discrete)'"
      ]
     },
     "execution_count": 4,
     "metadata": {},
     "output_type": "execute_result"
    }
   ],
   "source": [
    "#ANSWER 4\n",
    "\n",
    "'''(i) Grading in an exam: Qualitative\n",
    "(ii) Color of mangoes: Qualitative\n",
    "(iii) Height data of a class: Quantitative (Continuous)\n",
    "(iv) Number of mangoes exported by a farm: Quantitative (Discrete)'''"
   ]
  },
  {
   "cell_type": "code",
   "execution_count": 5,
   "id": "484ccd38-93b7-4947-92eb-3de9cc0dff0d",
   "metadata": {},
   "outputs": [
    {
     "data": {
      "text/plain": [
       "\"Levels of measurement classify variables into different categories based on the nature of the data and the mathematical operations that can be performed on them. The four levels are:\\n\\nNominal: Variables that are categorized without any order or ranking. Example: Blood type (A, B, AB, O).\\nOrdinal: Variables with a natural order but with no consistent unit of measurement. Example: Educational level (High school diploma, Bachelor's degree, Master's degree).\\nInterval: Variables with a meaningful order and consistent intervals between values but no true zero point. Example: Temperature measured in Celsius or Fahrenheit.\\nRatio: Variables with a meaningful order, consistent intervals, and a true zero point. Example: Height, weight.\""
      ]
     },
     "execution_count": 5,
     "metadata": {},
     "output_type": "execute_result"
    }
   ],
   "source": [
    "#ANSWER 5\n",
    "\n",
    "'''Levels of measurement classify variables into different categories based on the nature of the data and the mathematical operations that can be performed on them. The four levels are:\n",
    "\n",
    "Nominal: Variables that are categorized without any order or ranking. Example: Blood type (A, B, AB, O).\n",
    "Ordinal: Variables with a natural order but with no consistent unit of measurement. Example: Educational level (High school diploma, Bachelor's degree, Master's degree).\n",
    "Interval: Variables with a meaningful order and consistent intervals between values but no true zero point. Example: Temperature measured in Celsius or Fahrenheit.\n",
    "Ratio: Variables with a meaningful order, consistent intervals, and a true zero point. Example: Height, weight.'''"
   ]
  },
  {
   "cell_type": "code",
   "execution_count": 6,
   "id": "becb9e27-b34b-4cb2-8dde-2229c524c9c9",
   "metadata": {},
   "outputs": [
    {
     "data": {
      "text/plain": [
       "'Understanding the level of measurement is crucial because it determines the type of statistical analysis that can be applied to the data. For example, you can calculate the mean and median for ratio data but not for ordinal data because ordinal data lacks the consistent intervals required for these calculations.'"
      ]
     },
     "execution_count": 6,
     "metadata": {},
     "output_type": "execute_result"
    }
   ],
   "source": [
    "#ANSWER 6\n",
    "\n",
    "'''Understanding the level of measurement is crucial because it determines the type of statistical analysis that can be applied to the data. For example, you can calculate the mean and median for ratio data but not for ordinal data because ordinal data lacks the consistent intervals required for these calculations.'''"
   ]
  },
  {
   "cell_type": "code",
   "execution_count": 7,
   "id": "9cde5a45-3744-4e8e-bba6-ebf32e219fc8",
   "metadata": {},
   "outputs": [
    {
     "data": {
      "text/plain": [
       "'Nominal data simply categorizes variables without any order or ranking, whereas ordinal data categorizes variables with a natural order but no consistent unit of measurement. In nominal data, the categories have no quantitative significance, whereas in ordinal data, there is a clear order or ranking between the categories.'"
      ]
     },
     "execution_count": 7,
     "metadata": {},
     "output_type": "execute_result"
    }
   ],
   "source": [
    "#ANSWER 7\n",
    "\n",
    "'''Nominal data simply categorizes variables without any order or ranking, whereas ordinal data categorizes variables with a natural order but no consistent unit of measurement. In nominal data, the categories have no quantitative significance, whereas in ordinal data, there is a clear order or ranking between the categories.'''"
   ]
  },
  {
   "cell_type": "code",
   "execution_count": 8,
   "id": "938cb7d1-6b8e-43b1-bf42-295448ca15ce",
   "metadata": {},
   "outputs": [
    {
     "data": {
      "text/plain": [
       "'A box plot (also known as a box-and-whisker plot) is commonly used to display the range of a dataset, showing the minimum, first quartile, median, third quartile, and maximum values.'"
      ]
     },
     "execution_count": 8,
     "metadata": {},
     "output_type": "execute_result"
    }
   ],
   "source": [
    "#ANSWER 8\n",
    "\n",
    "'''A box plot (also known as a box-and-whisker plot) is commonly used to display the range of a dataset, showing the minimum, first quartile, median, third quartile, and maximum values.'''"
   ]
  },
  {
   "cell_type": "code",
   "execution_count": 9,
   "id": "b9e9e103-b898-47d5-9623-c8e03f1fb5e1",
   "metadata": {},
   "outputs": [
    {
     "data": {
      "text/plain": [
       "'Descriptive statistics describes and summarizes data, while inferential statistics makes inferences or predictions about a population based on a sample of data. For example, calculating the mean height of students in a class is descriptive, whereas using that mean to estimate the average height of all students in a school is inferential.'"
      ]
     },
     "execution_count": 9,
     "metadata": {},
     "output_type": "execute_result"
    }
   ],
   "source": [
    "#ANSWER 9\n",
    "\n",
    "'''Descriptive statistics describes and summarizes data, while inferential statistics makes inferences or predictions about a population based on a sample of data. For example, calculating the mean height of students in a class is descriptive, whereas using that mean to estimate the average height of all students in a school is inferential.'''"
   ]
  },
  {
   "cell_type": "code",
   "execution_count": 10,
   "id": "bdc7b4b6-3015-4f2a-8f8c-a6803c29159b",
   "metadata": {},
   "outputs": [
    {
     "data": {
      "text/plain": [
       "'Measures of central tendency: Mean, Median, Mode. They provide a single value that represents the center of a dataset.\\nMeasures of variability: Range, Variance, Standard Deviation. They quantify the spread or dispersion of data points around the central tendency. For example, the standard deviation measures how much the data points deviate from the mean.'"
      ]
     },
     "execution_count": 10,
     "metadata": {},
     "output_type": "execute_result"
    }
   ],
   "source": [
    "#ANSWER 10\n",
    "\n",
    "'''Measures of central tendency: Mean, Median, Mode. They provide a single value that represents the center of a dataset.\n",
    "Measures of variability: Range, Variance, Standard Deviation. They quantify the spread or dispersion of data points around the central tendency. For example, the standard deviation measures how much the data points deviate from the mean.'''"
   ]
  },
  {
   "cell_type": "code",
   "execution_count": null,
   "id": "49499544-7ba4-420d-98b0-0ae0cf60dda2",
   "metadata": {},
   "outputs": [],
   "source": []
  }
 ],
 "metadata": {
  "kernelspec": {
   "display_name": "Python 3 (ipykernel)",
   "language": "python",
   "name": "python3"
  },
  "language_info": {
   "codemirror_mode": {
    "name": "ipython",
    "version": 3
   },
   "file_extension": ".py",
   "mimetype": "text/x-python",
   "name": "python",
   "nbconvert_exporter": "python",
   "pygments_lexer": "ipython3",
   "version": "3.10.8"
  }
 },
 "nbformat": 4,
 "nbformat_minor": 5
}
