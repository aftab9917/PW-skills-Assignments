{
 "cells": [
  {
   "cell_type": "code",
   "execution_count": 1,
   "id": "8c29e0a6-384a-47c7-bdcd-f0acca002290",
   "metadata": {},
   "outputs": [
    {
     "data": {
      "text/plain": [
       "'Multithreading in Python:\\n\\nMultithreading in Python refers to the concurrent execution of multiple threads (smaller units of a process) to achieve parallelism.\\nIt is used to improve the performance of applications by allowing them to perform multiple tasks concurrently.\\nThe threading module is used to handle threads in Python.'"
      ]
     },
     "execution_count": 1,
     "metadata": {},
     "output_type": "execute_result"
    }
   ],
   "source": [
    "#ANSWER 1\n",
    "\n",
    "'''Multithreading in Python:\n",
    "\n",
    "Multithreading in Python refers to the concurrent execution of multiple threads (smaller units of a process) to achieve parallelism.\n",
    "It is used to improve the performance of applications by allowing them to perform multiple tasks concurrently.\n",
    "The threading module is used to handle threads in Python.'''\n",
    "\n"
   ]
  },
  {
   "cell_type": "code",
   "execution_count": 4,
   "id": "14c39e8f-2159-413c-acae-08c5d93f4bd6",
   "metadata": {},
   "outputs": [
    {
     "data": {
      "text/plain": [
       "\"Threading Module and Functions:\\n\\nthreading Module:\\n\\nThe threading module provides a way to create and manage threads in Python.\\nFunctions:\\n\\n1.activeCount: Returns the number of Thread objects currently alive.\\n2.currentThread: Returns the current Thread object corresponding to the caller's thread of control.\\n3.enumerate: Returns a list of all Thread objects currently alive.\""
      ]
     },
     "execution_count": 4,
     "metadata": {},
     "output_type": "execute_result"
    }
   ],
   "source": [
    "#ANSWER 2\n",
    "'''Threading Module and Functions:\n",
    "\n",
    "threading Module:\n",
    "\n",
    "The threading module provides a way to create and manage threads in Python.\n",
    "Functions:\n",
    "\n",
    "1.activeCount: Returns the number of Thread objects currently alive.\n",
    "2.currentThread: Returns the current Thread object corresponding to the caller's thread of control.\n",
    "3.enumerate: Returns a list of all Thread objects currently alive.'''\n"
   ]
  },
  {
   "cell_type": "code",
   "execution_count": 6,
   "id": "8aa44475-fc67-4139-9e56-430cf800c17c",
   "metadata": {},
   "outputs": [
    {
     "data": {
      "text/plain": [
       "\"Thread Functions:\\n\\n1.run: This method is the entry point for the thread and needs to be overridden in a subclass. It contains the code that will be executed when the thread is started.\\n2.start: Initiates the thread's activity. It invokes the run method in a separate thread of control.\\n3.join: Waits for the thread to complete its execution.\\n4.isAlive: Returns True if the thread is still alive.\""
      ]
     },
     "execution_count": 6,
     "metadata": {},
     "output_type": "execute_result"
    }
   ],
   "source": [
    "#ANSWER 3\n",
    "'''Thread Functions:\n",
    "\n",
    "1.run: This method is the entry point for the thread and needs to be overridden in a subclass. It contains the code that will be executed when the thread is started.\n",
    "2.start: Initiates the thread's activity. It invokes the run method in a separate thread of control.\n",
    "3.join: Waits for the thread to complete its execution.\n",
    "4.isAlive: Returns True if the thread is still alive.'''"
   ]
  },
  {
   "cell_type": "code",
   "execution_count": 7,
   "id": "c568876e-23e4-4b19-afe4-3620fc7cf038",
   "metadata": {},
   "outputs": [
    {
     "name": "stdout",
     "output_type": "stream",
     "text": [
      "Square of 1: 1\n",
      "Square of 2: 4\n",
      "Square of 3: 9\n",
      "Square of 4: 16\n",
      "Square of 5: 25\n",
      "Cube of 1: 1\n",
      "Cube of 2: 8\n",
      "Cube of 3: 27\n",
      "Cube of 4: 64\n",
      "Cube of 5: 125\n"
     ]
    }
   ],
   "source": [
    "#ANSWER 4\n",
    "\n",
    "import threading\n",
    "\n",
    "def print_squares():\n",
    "    for i in range(1, 6):\n",
    "        print(f\"Square of {i}: {i**2}\")\n",
    "\n",
    "def print_cubes():\n",
    "    for i in range(1, 6):\n",
    "        print(f\"Cube of {i}: {i**3}\")\n",
    "\n",
    "# Creating threads\n",
    "thread1 = threading.Thread(target=print_squares)\n",
    "thread2 = threading.Thread(target=print_cubes)\n",
    "\n",
    "# Starting threads\n",
    "thread1.start()\n",
    "thread2.start()\n",
    "\n",
    "# Waiting for both threads to finish\n",
    "thread1.join()\n",
    "thread2.join()\n"
   ]
  },
  {
   "cell_type": "code",
   "execution_count": 8,
   "id": "dd803bc4-c5ad-4150-ab38-eb79f310119f",
   "metadata": {},
   "outputs": [
    {
     "data": {
      "text/plain": [
       "'Advantages:\\n\\nImproved performance through parallelism.\\nEfficient utilization of resources.\\nResponsiveness in GUI applications.\\nDisadvantages:\\n\\nComplexity in writing and debugging multithreaded code.\\nPotential for race conditions and deadlocks.\\nGlobal interpreter lock (GIL) in CPython can limit the effectiveness of multithreading for CPU-bound tasks.'"
      ]
     },
     "execution_count": 8,
     "metadata": {},
     "output_type": "execute_result"
    }
   ],
   "source": [
    "#ANSWER 5\n",
    "'''Advantages:\n",
    "\n",
    "Improved performance through parallelism.\n",
    "Efficient utilization of resources.\n",
    "Responsiveness in GUI applications.\n",
    "Disadvantages:\n",
    "\n",
    "Complexity in writing and debugging multithreaded code.\n",
    "Potential for race conditions and deadlocks.\n",
    "Global interpreter lock (GIL) in CPython can limit the effectiveness of multithreading for CPU-bound tasks.'''"
   ]
  },
  {
   "cell_type": "code",
   "execution_count": 9,
   "id": "7dc6cecf-6f36-40db-96c6-b5af915fedf3",
   "metadata": {},
   "outputs": [
    {
     "data": {
      "text/plain": [
       "'Deadlocks and Race Conditions:\\n\\nDeadlock: A deadlock occurs when two or more threads are blocked indefinitely, each waiting for the other to release a resource.\\n\\nRace Condition: A race condition occurs when multiple threads access shared data concurrently, and the final outcome depends on the order of execution.\\n\\nPreventing Deadlocks and Race Conditions:\\n\\nUse locks and synchronization mechanisms to control access to shared resources.\\nFollow a consistent order when acquiring multiple locks to avoid deadlock.\\nUse thread-safe data structures and avoid shared mutable state when possible.\\n'"
      ]
     },
     "execution_count": 9,
     "metadata": {},
     "output_type": "execute_result"
    }
   ],
   "source": [
    "#ANSWER 6\n",
    "\n",
    "'''Deadlocks and Race Conditions:\n",
    "\n",
    "Deadlock: A deadlock occurs when two or more threads are blocked indefinitely, each waiting for the other to release a resource.\n",
    "\n",
    "Race Condition: A race condition occurs when multiple threads access shared data concurrently, and the final outcome depends on the order of execution.\n",
    "\n",
    "Preventing Deadlocks and Race Conditions:\n",
    "\n",
    "Use locks and synchronization mechanisms to control access to shared resources.\n",
    "Follow a consistent order when acquiring multiple locks to avoid deadlock.\n",
    "Use thread-safe data structures and avoid shared mutable state when possible.\n",
    "'''\n",
    "\n",
    "\n",
    "\n"
   ]
  },
  {
   "cell_type": "code",
   "execution_count": null,
   "id": "679c34a8-47f0-4649-97a9-0112114e6efc",
   "metadata": {},
   "outputs": [],
   "source": []
  }
 ],
 "metadata": {
  "kernelspec": {
   "display_name": "Python 3 (ipykernel)",
   "language": "python",
   "name": "python3"
  },
  "language_info": {
   "codemirror_mode": {
    "name": "ipython",
    "version": 3
   },
   "file_extension": ".py",
   "mimetype": "text/x-python",
   "name": "python",
   "nbconvert_exporter": "python",
   "pygments_lexer": "ipython3",
   "version": "3.10.8"
  }
 },
 "nbformat": 4,
 "nbformat_minor": 5
}
