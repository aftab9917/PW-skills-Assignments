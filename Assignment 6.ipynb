{
 "cells": [
  {
   "cell_type": "code",
   "execution_count": 1,
   "id": "f782df0f-30ef-4f1b-a18d-999767cb8955",
   "metadata": {},
   "outputs": [
    {
     "ename": "SyntaxError",
     "evalue": "invalid character '–' (U+2013) (4231253089.py, line 3)",
     "output_type": "error",
     "traceback": [
      "\u001b[0;36m  Cell \u001b[0;32mIn[1], line 3\u001b[0;36m\u001b[0m\n\u001b[0;31m    In Object-Oriented Programming (OOP), a class is a blueprint or template for creating objects. It defines a set of attributes (data members) and methods (functions) that characterize any object created from that class. An object, on the other hand, is an instance of a class – a concrete realization of the class blueprint with specific values assigned to its attributes.\u001b[0m\n\u001b[0m                                                                                                                                                                                                                                                                                       ^\u001b[0m\n\u001b[0;31mSyntaxError\u001b[0m\u001b[0;31m:\u001b[0m invalid character '–' (U+2013)\n"
     ]
    }
   ],
   "source": [
    "#ANSWER 1\n",
    "\n",
    "In Object-Oriented Programming (OOP), a class is a blueprint or template for creating objects. It defines a set of attributes (data members) and methods (functions) that characterize any object created from that class. An object, on the other hand, is an instance of a class – a concrete realization of the class blueprint with specific values assigned to its attributes.\n",
    "\n",
    "Let's illustrate this with an example using a hypothetical programming language:"
   ]
  },
  {
   "cell_type": "code",
   "execution_count": 2,
   "id": "8ff647bd-01c4-4a2b-b0dc-984a4167182e",
   "metadata": {},
   "outputs": [
    {
     "name": "stdout",
     "output_type": "stream",
     "text": [
      "2022 Toyota Camry in Blue color\n",
      "The car accelerated to 20 mph\n",
      "The car slowed down to 15 mph\n",
      "2023 Ford Mustang in Red color\n",
      "The car accelerated to 15 mph\n",
      "The car slowed down to 7 mph\n"
     ]
    }
   ],
   "source": [
    "# Define a class named \"Car\"\n",
    "class Car:\n",
    "    # Constructor method to initialize the attributes\n",
    "    def __init__(self, make, model, year, color):\n",
    "        self.make = make\n",
    "        self.model = model\n",
    "        self.year = year\n",
    "        self.color = color\n",
    "        self.speed = 0  # Additional attribute to track speed\n",
    "\n",
    "    # Method to display information about the car\n",
    "    def display_info(self):\n",
    "        print(f\"{self.year} {self.make} {self.model} in {self.color} color\")\n",
    "\n",
    "    # Method to accelerate the car\n",
    "    def accelerate(self, speed_increase):\n",
    "        self.speed += speed_increase\n",
    "        print(f\"The car accelerated to {self.speed} mph\")\n",
    "\n",
    "    # Method to brake the car\n",
    "    def brake(self, speed_decrease):\n",
    "        self.speed -= speed_decrease\n",
    "        if self.speed < 0:\n",
    "            self.speed = 0\n",
    "        print(f\"The car slowed down to {self.speed} mph\")\n",
    "\n",
    "\n",
    "# Creating instances (objects) of the Car class\n",
    "car1 = Car(\"Toyota\", \"Camry\", 2022, \"Blue\")\n",
    "car2 = Car(\"Ford\", \"Mustang\", 2023, \"Red\")\n",
    "\n",
    "# Accessing attributes and calling methods on objects\n",
    "car1.display_info()\n",
    "car1.accelerate(20)\n",
    "car1.brake(5)\n",
    "\n",
    "car2.display_info()\n",
    "car2.accelerate(15)\n",
    "car2.brake(8)\n"
   ]
  },
  {
   "cell_type": "code",
   "execution_count": 3,
   "id": "44cc8a25-1515-4f2b-b7dd-7efcbb508249",
   "metadata": {},
   "outputs": [
    {
     "ename": "SyntaxError",
     "evalue": "invalid syntax (1089933527.py, line 1)",
     "output_type": "error",
     "traceback": [
      "\u001b[0;36m  Cell \u001b[0;32mIn[3], line 1\u001b[0;36m\u001b[0m\n\u001b[0;31m    In this example, the Car class serves as a blueprint for creating car objects. Each car object (such as car1 and car2) has attributes like make, model, year, color, and speed, and methods like display_info, accelerate, and brake. The objects are created based on the class and can be manipulated independently, demonstrating the encapsulation and reusability aspects of OOP.\u001b[0m\n\u001b[0m       ^\u001b[0m\n\u001b[0;31mSyntaxError\u001b[0m\u001b[0;31m:\u001b[0m invalid syntax\n"
     ]
    }
   ],
   "source": [
    "In this example, the Car class serves as a blueprint for creating car objects. Each car object (such as car1 and car2) has attributes like make, model, year, color, and speed, and methods like display_info, accelerate, and brake. The objects are created based on the class and can be manipulated independently, demonstrating the encapsulation and reusability aspects of OOP."
   ]
  },
  {
   "cell_type": "code",
   "execution_count": 4,
   "id": "c095c49b-1a61-4fb5-986b-467ed121ce0b",
   "metadata": {},
   "outputs": [
    {
     "data": {
      "text/plain": [
       "'The four pillars of Object-Oriented Programming (OOP):\\n\\n1.Encapsulation\\n2.Abstraction\\n3.Inheritance\\n4.Polymorphism'"
      ]
     },
     "execution_count": 4,
     "metadata": {},
     "output_type": "execute_result"
    }
   ],
   "source": [
    "#ANSWER 2\n",
    "\n",
    "\"\"\"The four pillars of Object-Oriented Programming (OOP):\n",
    "\n",
    "1.Encapsulation\n",
    "2.Abstraction\n",
    "3.Inheritance\n",
    "4.Polymorphism\"\"\"\n"
   ]
  },
  {
   "cell_type": "code",
   "execution_count": 5,
   "id": "394abf9f-6dcb-44df-ab8f-fb78076938ae",
   "metadata": {},
   "outputs": [
    {
     "data": {
      "text/plain": [
       "\"The __init__() function in Python is a special method, also known as a constructor. It is automatically called when an object is created from a class and is used to initialize the attributes (properties) of the object. The primary purpose of __init__() is to set up the initial state of the object by assigning values to its attributes.\\n\\nHere's an example to illustrate the use of __init__():\""
      ]
     },
     "execution_count": 5,
     "metadata": {},
     "output_type": "execute_result"
    }
   ],
   "source": [
    "#ANSWER 3\n",
    "\n",
    "'''The __init__() function in Python is a special method, also known as a constructor. It is automatically called when an object is created from a class and is used to initialize the attributes (properties) of the object. The primary purpose of __init__() is to set up the initial state of the object by assigning values to its attributes.\n",
    "\n",
    "Here's an example to illustrate the use of __init__():'''"
   ]
  },
  {
   "cell_type": "code",
   "execution_count": 6,
   "id": "d58f5c5c-e36b-445c-b640-0e43e576dbe0",
   "metadata": {},
   "outputs": [
    {
     "name": "stdout",
     "output_type": "stream",
     "text": [
      "Buddy is a 3-year-old Golden Retriever with energy level 50\n",
      "Buddy played and energy level is now 30\n"
     ]
    }
   ],
   "source": [
    "class Dog:\n",
    "    # Constructor (__init__) method\n",
    "    def __init__(self, name, age, breed):\n",
    "        self.name = name\n",
    "        self.age = age\n",
    "        self.breed = breed\n",
    "        self.energy_level = 50  # Initial energy level\n",
    "\n",
    "    # Method to display information about the dog\n",
    "    def display_info(self):\n",
    "        print(f\"{self.name} is a {self.age}-year-old {self.breed} with energy level {self.energy_level}\")\n",
    "\n",
    "    # Method to play, reducing energy level\n",
    "    def play(self, energy_consumed):\n",
    "        self.energy_level -= energy_consumed\n",
    "        print(f\"{self.name} played and energy level is now {self.energy_level}\")\n",
    "\n",
    "# Creating an instance of the Dog class\n",
    "my_dog = Dog(name=\"Buddy\", age=3, breed=\"Golden Retriever\")\n",
    "\n",
    "# Accessing attributes and calling methods on the object\n",
    "my_dog.display_info()\n",
    "my_dog.play(20)\n"
   ]
  },
  {
   "cell_type": "code",
   "execution_count": 7,
   "id": "8094c587-f6cd-4624-b561-90d8cd944b53",
   "metadata": {},
   "outputs": [
    {
     "data": {
      "text/plain": [
       "\"In Object-Oriented Programming (OOP), self is a convention used to represent the instance of the class within its methods. It is a reference to the object itself, allowing you to access and manipulate the object's attributes and methods. The use of self helps distinguish between instance variables (attributes specific to an object) and local variables within a method.\\n\\nHere are a couple of reasons why self is used in OOP:\\n\\nInstance Specific Reference:\\n\\nIn a class, you define attributes and methods that operate on those attributes. When a method is called on an object, self refers to that specific instance of the object.\\nFor example, if you have a class Car with an attribute color, using self.color within a method ensures that you are accessing the color attribute of the specific instance of the car.\\nDifferentiating Instance and Local Variables:\\n\\nInside a method, you might have both instance variables (attributes) and local variables. The use of self helps distinguish between the two.\\nWithout self, a variable might be treated as a local variable, leading to potential confusion. self makes it clear that you are referring to an attribute of the object.\\nHere's a simple example to illustrate the use of self:\""
      ]
     },
     "execution_count": 7,
     "metadata": {},
     "output_type": "execute_result"
    }
   ],
   "source": [
    "#ANSWER 4\n",
    "\n",
    "'''In Object-Oriented Programming (OOP), self is a convention used to represent the instance of the class within its methods. It is a reference to the object itself, allowing you to access and manipulate the object's attributes and methods. The use of self helps distinguish between instance variables (attributes specific to an object) and local variables within a method.\n",
    "\n",
    "Here are a couple of reasons why self is used in OOP:\n",
    "\n",
    "Instance Specific Reference:\n",
    "\n",
    "In a class, you define attributes and methods that operate on those attributes. When a method is called on an object, self refers to that specific instance of the object.\n",
    "For example, if you have a class Car with an attribute color, using self.color within a method ensures that you are accessing the color attribute of the specific instance of the car.\n",
    "Differentiating Instance and Local Variables:\n",
    "\n",
    "Inside a method, you might have both instance variables (attributes) and local variables. The use of self helps distinguish between the two.\n",
    "Without self, a variable might be treated as a local variable, leading to potential confusion. self makes it clear that you are referring to an attribute of the object.\n",
    "Here's a simple example to illustrate the use of self:'''"
   ]
  },
  {
   "cell_type": "code",
   "execution_count": 8,
   "id": "8b8ce9ce-e1b8-4c38-8861-6fba356a7087",
   "metadata": {},
   "outputs": [
    {
     "name": "stdout",
     "output_type": "stream",
     "text": [
      "Result: 8\n"
     ]
    }
   ],
   "source": [
    "class MyClass:\n",
    "    def __init__(self, x):\n",
    "        self.x = x  # 'self.x' refers to the instance variable 'x'\n",
    "\n",
    "    def display_x(self, y):\n",
    "        result = self.x + y  # 'self.x' refers to the instance variable 'x'\n",
    "        print(f\"Result: {result}\")\n",
    "\n",
    "# Creating an instance of MyClass\n",
    "obj = MyClass(x=5)\n",
    "\n",
    "# Calling the display_x method\n",
    "obj.display_x(y=3)\n"
   ]
  },
  {
   "cell_type": "code",
   "execution_count": 9,
   "id": "b5dc8945-5c26-40a3-acb3-fa30b38c876e",
   "metadata": {},
   "outputs": [
    {
     "data": {
      "text/plain": [
       "'Inheritance is a fundamental concept in Object-Oriented Programming (OOP) that allows a new class (derived or subclass) to inherit attributes and methods from an existing class (base or superclass). This promotes code reuse and establishes a relationship between classes, where the derived class inherits the properties and behaviors of the base class.\\n\\nThere are different types of inheritance, and here are examples for each type:\\n\\nSingle Inheritance:\\nIn single inheritance, a class inherits from only one base class.'"
      ]
     },
     "execution_count": 9,
     "metadata": {},
     "output_type": "execute_result"
    }
   ],
   "source": [
    "#ANSWER 5\n",
    "\n",
    "\n",
    "'''Inheritance is a fundamental concept in Object-Oriented Programming (OOP) that allows a new class (derived or subclass) to inherit attributes and methods from an existing class (base or superclass). This promotes code reuse and establishes a relationship between classes, where the derived class inherits the properties and behaviors of the base class.\n",
    "\n",
    "There are different types of inheritance, and here are examples for each type:\n",
    "\n",
    "1.Single Inheritance:\n",
    "In single inheritance, a class inherits from only one base class.'''"
   ]
  },
  {
   "cell_type": "code",
   "execution_count": 11,
   "id": "273e0e53-c709-433b-ba2f-d31b8455224d",
   "metadata": {},
   "outputs": [
    {
     "name": "stdout",
     "output_type": "stream",
     "text": [
      "Animal speaks\n",
      "Dog barks\n"
     ]
    }
   ],
   "source": [
    "# Base class\n",
    "class Animal:\n",
    "    def speak(self):\n",
    "        print(\"Animal speaks\")\n",
    "\n",
    "# Derived class inheriting from Animal\n",
    "class Dog(Animal):\n",
    "    def bark(self):\n",
    "        print(\"Dog barks\")\n",
    "\n",
    "# Creating an instance of Dog\n",
    "my_dog = Dog()\n",
    "\n",
    "# Accessing methods from both base and derived classes\n",
    "my_dog.speak()  # Output: \"Animal speaks\"\n",
    "my_dog.bark()   # Output: \"Dog barks\"\n"
   ]
  },
  {
   "cell_type": "code",
   "execution_count": 12,
   "id": "7a31c8c0-4e1a-430a-a72a-ff9d8c682979",
   "metadata": {},
   "outputs": [
    {
     "data": {
      "text/plain": [
       "'2.Multiple Inheritance:\\nIn multiple inheritance, a class can inherit from more than one base class.'"
      ]
     },
     "execution_count": 12,
     "metadata": {},
     "output_type": "execute_result"
    }
   ],
   "source": [
    "'''2.Multiple Inheritance:\n",
    "In multiple inheritance, a class can inherit from more than one base class.'''"
   ]
  },
  {
   "cell_type": "code",
   "execution_count": 13,
   "id": "c6cd4646-3406-47e6-8e47-9eec305df6a9",
   "metadata": {},
   "outputs": [
    {
     "name": "stdout",
     "output_type": "stream",
     "text": [
      "Method from class A\n",
      "Method from class B\n",
      "Method from class C\n"
     ]
    }
   ],
   "source": [
    "# Base classes\n",
    "class A:\n",
    "    def method_A(self):\n",
    "        print(\"Method from class A\")\n",
    "\n",
    "class B:\n",
    "    def method_B(self):\n",
    "        print(\"Method from class B\")\n",
    "\n",
    "# Derived class inheriting from both A and B\n",
    "class C(A, B):\n",
    "    def method_C(self):\n",
    "        print(\"Method from class C\")\n",
    "\n",
    "# Creating an instance of C\n",
    "obj_c = C()\n",
    "\n",
    "# Accessing methods from all classes\n",
    "obj_c.method_A()  # Output: \"Method from class A\"\n",
    "obj_c.method_B()  # Output: \"Method from class B\"\n",
    "obj_c.method_C()  # Output: \"Method from class C\"\n"
   ]
  },
  {
   "cell_type": "code",
   "execution_count": 14,
   "id": "10639bd2-446a-459a-867f-cf2609440640",
   "metadata": {},
   "outputs": [
    {
     "data": {
      "text/plain": [
       "'3.Multilevel Inheritance:\\nIn multilevel inheritance, a class inherits from another class, and then a new class inherits from that derived class.'"
      ]
     },
     "execution_count": 14,
     "metadata": {},
     "output_type": "execute_result"
    }
   ],
   "source": [
    "'''3.Multilevel Inheritance:\n",
    "In multilevel inheritance, a class inherits from another class, and then a new class inherits from that derived class.'''"
   ]
  },
  {
   "cell_type": "code",
   "execution_count": 15,
   "id": "ddc5525a-5df7-4fd4-a7ac-effb0574e89e",
   "metadata": {},
   "outputs": [
    {
     "name": "stdout",
     "output_type": "stream",
     "text": [
      "Animal speaks\n",
      "Mammal gives birth\n",
      "Dog barks\n"
     ]
    }
   ],
   "source": [
    "# Base class\n",
    "class Animal:\n",
    "    def speak(self):\n",
    "        print(\"Animal speaks\")\n",
    "\n",
    "# Intermediate class inheriting from Animal\n",
    "class Mammal(Animal):\n",
    "    def give_birth(self):\n",
    "        print(\"Mammal gives birth\")\n",
    "\n",
    "# Derived class inheriting from Mammal\n",
    "class Dog(Mammal):\n",
    "    def bark(self):\n",
    "        print(\"Dog barks\")\n",
    "\n",
    "# Creating an instance of Dog\n",
    "my_dog = Dog()\n",
    "\n",
    "# Accessing methods from all classes\n",
    "my_dog.speak()      # Output: \"Animal speaks\"\n",
    "my_dog.give_birth() # Output: \"Mammal gives birth\"\n",
    "my_dog.bark()       # Output: \"Dog barks\"\n"
   ]
  },
  {
   "cell_type": "code",
   "execution_count": 16,
   "id": "146050a4-deea-42d9-80f0-c0793a846974",
   "metadata": {},
   "outputs": [
    {
     "data": {
      "text/plain": [
       "'These examples demonstrate different types of inheritance in OOP, namely single inheritance, multiple inheritance, and multilevel inheritance. Each type of inheritance provides a way to reuse and extend the functionality of existing classes in a structured manner.'"
      ]
     },
     "execution_count": 16,
     "metadata": {},
     "output_type": "execute_result"
    }
   ],
   "source": [
    "'''These examples demonstrate different types of inheritance in OOP, namely single inheritance, multiple inheritance, and multilevel inheritance. Each type of inheritance provides a way to reuse and extend the functionality of existing classes in a structured manner.'''"
   ]
  },
  {
   "cell_type": "code",
   "execution_count": null,
   "id": "13f22601-12ce-402b-a8c7-6d88258b496d",
   "metadata": {},
   "outputs": [],
   "source": []
  }
 ],
 "metadata": {
  "kernelspec": {
   "display_name": "Python 3 (ipykernel)",
   "language": "python",
   "name": "python3"
  },
  "language_info": {
   "codemirror_mode": {
    "name": "ipython",
    "version": 3
   },
   "file_extension": ".py",
   "mimetype": "text/x-python",
   "name": "python",
   "nbconvert_exporter": "python",
   "pygments_lexer": "ipython3",
   "version": "3.10.8"
  }
 },
 "nbformat": 4,
 "nbformat_minor": 5
}
