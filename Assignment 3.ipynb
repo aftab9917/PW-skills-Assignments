{
 "cells": [
  {
   "cell_type": "code",
   "execution_count": 1,
   "id": "eade98e3-aed8-4ee7-8112-9843df0f1f1c",
   "metadata": {},
   "outputs": [],
   "source": [
    "#ANSWER 1\n",
    "\n",
    "#In Python, the keyword used to create a function is def."
   ]
  },
  {
   "cell_type": "code",
   "execution_count": 2,
   "id": "233d4f8f-9050-4456-9e8d-8c2b617f2d36",
   "metadata": {},
   "outputs": [
    {
     "name": "stdout",
     "output_type": "stream",
     "text": [
      "[1, 3, 5, 7, 9, 11, 13, 15, 17, 19, 21, 23, 25]\n"
     ]
    }
   ],
   "source": [
    "def get_odd_numbers():\n",
    "    odd_numbers = [num for num in range(1, 26) if num % 2 != 0]\n",
    "    return odd_numbers\n",
    "\n",
    "# Call the function and print the result\n",
    "result = get_odd_numbers()\n",
    "print(result)\n"
   ]
  },
  {
   "cell_type": "code",
   "execution_count": 3,
   "id": "550569a9-3b59-43f9-b566-e4bea68db39b",
   "metadata": {},
   "outputs": [
    {
     "data": {
      "text/plain": [
       "\"*args and **kwargs are used in Python functions to handle variable numbers of arguments.\\n\\n*args is used to pass a variable number of non-keyword (positional) arguments to a function. The *args collects these arguments into a tuple.\\n\\n**kwargs is used to pass a variable number of keyword arguments to a function. The **kwargs collects these arguments into a dictionary.\\n\\nHere's an example demonstrating the use of *args and **kwargs:\""
      ]
     },
     "execution_count": 3,
     "metadata": {},
     "output_type": "execute_result"
    }
   ],
   "source": [
    "#ANSWER 2\n",
    "'''*args and **kwargs are used in Python functions to handle variable numbers of arguments.\n",
    "\n",
    "*args is used to pass a variable number of non-keyword (positional) arguments to a function. The *args collects these arguments into a tuple.\n",
    "\n",
    "**kwargs is used to pass a variable number of keyword arguments to a function. The **kwargs collects these arguments into a dictionary.\n",
    "\n",
    "Here's an example demonstrating the use of *args and **kwargs:'''"
   ]
  },
  {
   "cell_type": "code",
   "execution_count": 4,
   "id": "6f6349cf-cf74-4ebb-a82e-02fc312f0f38",
   "metadata": {},
   "outputs": [
    {
     "name": "stdout",
     "output_type": "stream",
     "text": [
      "15\n",
      "name: Aftab\n",
      "age: 29\n",
      "city: Bareilly\n"
     ]
    }
   ],
   "source": [
    "# Example function using *args\n",
    "def sum_all_numbers(*args):\n",
    "    total = 0\n",
    "    for num in args:\n",
    "        total += num\n",
    "    return total\n",
    "\n",
    "result1 = sum_all_numbers(1, 2, 3, 4, 5)\n",
    "print(result1)  # Output: 15\n",
    "\n",
    "\n",
    "# Example function using **kwargs\n",
    "def print_person_info(**kwargs):\n",
    "    for key, value in kwargs.items():\n",
    "        print(f\"{key}: {value}\")\n",
    "\n",
    "print_person_info(name=\"Aftab\", age=29, city=\"Bareilly\")\n",
    "\n",
    "\n"
   ]
  },
  {
   "cell_type": "code",
   "execution_count": 5,
   "id": "e877ca0d-a9a7-4fcf-92ef-2aa600b8caac",
   "metadata": {},
   "outputs": [
    {
     "name": "stdout",
     "output_type": "stream",
     "text": [
      "2\n",
      "4\n",
      "6\n",
      "8\n",
      "10\n"
     ]
    }
   ],
   "source": [
    "#ANSWER 3\n",
    "'''In Python, an iterator is an object that implements the iterator protocol, which consists of two methods: __iter__() and __next__().\n",
    "\n",
    "The __iter__() method initializes the iterator object and returns it.\n",
    "The __next__() method is called to get the next value from the iterator.\n",
    "Here's an example of using an iterator to print the first five elements of the given list:'''\n",
    "# Define a simple iterator class\n",
    "class MyIterator:\n",
    "    def __init__(self, data):\n",
    "        self.data = data\n",
    "        self.index = 0\n",
    "\n",
    "    def __iter__(self):\n",
    "        return self\n",
    "\n",
    "    def __next__(self):\n",
    "        if self.index < len(self.data):\n",
    "            result = self.data[self.index]\n",
    "            self.index += 1\n",
    "            return result\n",
    "        else:\n",
    "            raise StopIteration  # To signal the end of iteration\n",
    "\n",
    "# Create an iterator object\n",
    "my_iterator = MyIterator([2, 4, 6, 8, 10, 12, 14, 16, 18, 20])\n",
    "\n",
    "# Use the iterator to print the first five elements\n",
    "for _ in range(5):\n",
    "    print(next(my_iterator))\n"
   ]
  },
  {
   "cell_type": "code",
   "execution_count": 6,
   "id": "e9df86ef-2bc8-406c-8f3b-b202f80d9dc3",
   "metadata": {},
   "outputs": [
    {
     "data": {
      "text/plain": [
       "'In this example, the MyIterator class is defined with __iter__() and __next__() methods. The iterator is initialized with the given list, and the for loop is used to iterate and print the first five elements. The next() function is used to get the next value from the iterator.'"
      ]
     },
     "execution_count": 6,
     "metadata": {},
     "output_type": "execute_result"
    }
   ],
   "source": [
    "'''In this example, the MyIterator class is defined with __iter__() and __next__() methods. The iterator is initialized with the given list, and the for loop is used to iterate and print the first five elements. The next() function is used to get the next value from the iterator.'''"
   ]
  },
  {
   "cell_type": "code",
   "execution_count": 7,
   "id": "7304cc78-b489-4d5e-9461-0ff45c0a7f33",
   "metadata": {},
   "outputs": [
    {
     "data": {
      "text/plain": [
       "\"A generator function in Python is a special kind of function that allows you to iterate over a potentially large sequence of data, producing values on-the-fly rather than generating and storing all of them in memory at once. It uses the yield keyword to produce a series of values and temporarily suspends its state, allowing it to resume from where it left off when the next value is requested.\\n\\nThe yield keyword is used to produce a value from the generator and temporarily suspend the function's state. When the generator is iterated over, it returns the yielded value, and the function's state is saved. The next time the generator is iterated over, it resumes execution from where it was suspended, maintaining its internal state.\\n\\nHere's an example of a simple generator function:\""
      ]
     },
     "execution_count": 7,
     "metadata": {},
     "output_type": "execute_result"
    }
   ],
   "source": [
    "#ANSWER 4\n",
    "\n",
    "'''A generator function in Python is a special kind of function that allows you to iterate over a potentially large sequence of data, producing values on-the-fly rather than generating and storing all of them in memory at once. It uses the yield keyword to produce a series of values and temporarily suspends its state, allowing it to resume from where it left off when the next value is requested.\n",
    "\n",
    "The yield keyword is used to produce a value from the generator and temporarily suspend the function's state. When the generator is iterated over, it returns the yielded value, and the function's state is saved. The next time the generator is iterated over, it resumes execution from where it was suspended, maintaining its internal state.\n",
    "\n",
    "Here's an example of a simple generator function:'''"
   ]
  },
  {
   "cell_type": "code",
   "execution_count": 8,
   "id": "2c8a0208-ade4-44ef-a8f8-77b5a6ecf90e",
   "metadata": {},
   "outputs": [
    {
     "name": "stdout",
     "output_type": "stream",
     "text": [
      "0\n",
      "2\n",
      "4\n",
      "6\n",
      "8\n"
     ]
    }
   ],
   "source": [
    "def generate_even_numbers(limit):\n",
    "    num = 0\n",
    "    while num < limit:\n",
    "        yield num\n",
    "        num += 2\n",
    "\n",
    "# Using the generator function\n",
    "even_generator = generate_even_numbers(10)\n",
    "\n",
    "# Iterating over the generator\n",
    "for even_num in even_generator:\n",
    "    print(even_num)\n"
   ]
  },
  {
   "cell_type": "code",
   "execution_count": 9,
   "id": "477843ad-b54a-4279-a533-87890939864e",
   "metadata": {},
   "outputs": [
    {
     "data": {
      "text/plain": [
       "'In this example, generate_even_numbers is a generator function that yields even numbers less than the specified limit. When iterated over in the for loop, it produces and prints the even numbers on-the-fly. The state of the function is maintained between calls, thanks to the yield keyword. This allows the generator to efficiently handle large sequences without consuming a significant amount of memory.'"
      ]
     },
     "execution_count": 9,
     "metadata": {},
     "output_type": "execute_result"
    }
   ],
   "source": [
    "'''In this example, generate_even_numbers is a generator function that yields even numbers less than the specified limit. When iterated over in the for loop, it produces and prints the even numbers on-the-fly. The state of the function is maintained between calls, thanks to the yield keyword. This allows the generator to efficiently handle large sequences without consuming a significant amount of memory.'''"
   ]
  },
  {
   "cell_type": "code",
   "execution_count": 10,
   "id": "73008974-e6d1-4bd5-a965-cd5d47b3e737",
   "metadata": {},
   "outputs": [
    {
     "name": "stdout",
     "output_type": "stream",
     "text": [
      "2\n",
      "3\n",
      "5\n",
      "7\n",
      "11\n",
      "13\n",
      "17\n",
      "19\n",
      "23\n",
      "29\n",
      "31\n",
      "37\n",
      "41\n",
      "43\n",
      "47\n",
      "53\n",
      "59\n",
      "61\n",
      "67\n",
      "71\n"
     ]
    }
   ],
   "source": [
    "#ANSWER 5\n",
    "def is_prime(num):\n",
    "    \"\"\"Check if a number is prime.\"\"\"\n",
    "    if num < 2:\n",
    "        return False\n",
    "    for i in range(2, int(num**0.5) + 1):\n",
    "        if num % i == 0:\n",
    "            return False\n",
    "    return True\n",
    "\n",
    "def generate_primes(limit):\n",
    "    \"\"\"Generator function to yield prime numbers less than the specified limit.\"\"\"\n",
    "    num = 2\n",
    "    count = 0\n",
    "    while num < limit and count < 20:\n",
    "        if is_prime(num):\n",
    "            yield num\n",
    "            count += 1\n",
    "        num += 1\n",
    "\n",
    "# Using the generator function\n",
    "prime_generator = generate_primes(1000)\n",
    "\n",
    "# Printing the first 20 prime numbers\n",
    "for _ in range(20):\n",
    "    print(next(prime_generator))\n",
    "\n"
   ]
  },
  {
   "cell_type": "code",
   "execution_count": 11,
   "id": "903f9bd9-e8ad-49b6-b93c-b2db8fa3d86e",
   "metadata": {},
   "outputs": [],
   "source": [
    "#ANSWER 6\n",
    "\n",
    "#Here's a Python program that prints the first 10 Fibonacci numbers using a while loop:"
   ]
  },
  {
   "cell_type": "code",
   "execution_count": 12,
   "id": "7145195e-e858-4d34-bd42-6843ed60ee3f",
   "metadata": {},
   "outputs": [
    {
     "name": "stdout",
     "output_type": "stream",
     "text": [
      "0\n",
      "1\n",
      "1\n",
      "2\n",
      "3\n",
      "5\n",
      "8\n",
      "13\n",
      "21\n",
      "34\n"
     ]
    }
   ],
   "source": [
    "# Function to generate the next Fibonacci number\n",
    "def generate_fibonacci(n):\n",
    "    fib_sequence = [0, 1]\n",
    "    while len(fib_sequence) < n:\n",
    "        next_fib = fib_sequence[-1] + fib_sequence[-2]\n",
    "        fib_sequence.append(next_fib)\n",
    "    return fib_sequence\n",
    "\n",
    "# Printing the first 10 Fibonacci numbers\n",
    "fibonacci_numbers = generate_fibonacci(10)\n",
    "for num in fibonacci_numbers:\n",
    "    print(num)\n"
   ]
  },
  {
   "cell_type": "code",
   "execution_count": 14,
   "id": "8816752b-dfc8-4de1-98de-4f80f4551350",
   "metadata": {},
   "outputs": [
    {
     "name": "stdout",
     "output_type": "stream",
     "text": [
      "['p', 'w', 's', 'k', 'i', 'l', 'l', 's']\n"
     ]
    }
   ],
   "source": [
    "#ANSWER 7\n",
    "original_string = 'pwskills'\n",
    "result_list = [i for i in original_string]\n",
    "print(result_list)\n"
   ]
  },
  {
   "cell_type": "code",
   "execution_count": null,
   "id": "28882cb3-2c3b-4880-8426-b8593652c464",
   "metadata": {},
   "outputs": [],
   "source": [
    "#ANSWER 8\n",
    "\n",
    "def is_palindrome(num):\n",
    "    original_num = num\n",
    "    reversed_num = 0\n",
    "\n",
    "    while num > 0:\n",
    "        digit = num % 10\n",
    "        reversed_num = reversed_num * 10 + digit\n",
    "        num = num // 10\n",
    "\n",
    "    return original_num == reversed_num\n",
    "\n",
    "# Taking user input\n",
    "number = int(input(\"Enter a number: \"))\n",
    "\n",
    "# Checking if the number is a palindrome\n",
    "if is_palindrome(number):\n",
    "    print(f\"{number} is a palindrome.\")\n",
    "else:\n",
    "    print(f\"{number} is not a palindrome.\")\n",
    "\n",
    "\n"
   ]
  },
  {
   "cell_type": "code",
   "execution_count": null,
   "id": "343037a8-773e-4018-a3ff-7f78f10458ba",
   "metadata": {},
   "outputs": [],
   "source": [
    "#147 is not palindrome(this kernal is not executing so i execute it on different kernal."
   ]
  },
  {
   "cell_type": "code",
   "execution_count": null,
   "id": "a09b0dc6-9676-4800-8c85-4d08f5ea0f0d",
   "metadata": {},
   "outputs": [],
   "source": [
    "#ANSWER 9\n",
    "# Using list comprehension to create a list from 1 to 100\n",
    "numbers = [num for num in range(1, 101)]\n",
    "\n",
    "# Using another list comprehension to filter out odd numbers\n",
    "odd_numbers = [num for num in numbers if num % 2 != 0]\n",
    "\n",
    "# Print the list of odd numbers\n",
    "print(odd_numbers)\n",
    "\n"
   ]
  },
  {
   "cell_type": "code",
   "execution_count": null,
   "id": "fa550ca7-8058-477a-97d6-bd80a1984bdb",
   "metadata": {},
   "outputs": [],
   "source": [
    "#[1, 3, 5, 7, 9, 11, 13, 15, 17, 19, 21, 23, 25, 27, 29, 31, 33, 35, 37, 39, 41, 43, 45, 47, 49, 51, 53, 55, 57, 59, 61, 63, 65, 67, 69, 71, 73, 75, 77, 79, 81, 83, 85, 87, 89, 91, 93, 95, 97, 99]\n",
    "#I executed it on another kernal because this page is not executing."
   ]
  }
 ],
 "metadata": {
  "kernelspec": {
   "display_name": "Python 3 (ipykernel)",
   "language": "python",
   "name": "python3"
  },
  "language_info": {
   "codemirror_mode": {
    "name": "ipython",
    "version": 3
   },
   "file_extension": ".py",
   "mimetype": "text/x-python",
   "name": "python",
   "nbconvert_exporter": "python",
   "pygments_lexer": "ipython3",
   "version": "3.10.8"
  }
 },
 "nbformat": 4,
 "nbformat_minor": 5
}
