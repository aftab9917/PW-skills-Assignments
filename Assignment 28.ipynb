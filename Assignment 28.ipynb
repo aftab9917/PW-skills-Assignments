{
 "cells": [
  {
   "cell_type": "code",
   "execution_count": 1,
   "id": "7b70b82e-9ac5-4b52-895a-ed79bcd94c87",
   "metadata": {},
   "outputs": [
    {
     "data": {
      "text/plain": [
       "'The Probability Density Function (PDF) is a function that describes the likelihood of a continuous random variable falling within a particular range. It gives the probability that the value of a random variable falls within a particular range, as opposed to taking on any one specific value.'"
      ]
     },
     "execution_count": 1,
     "metadata": {},
     "output_type": "execute_result"
    }
   ],
   "source": [
    "#ANSWER 1\n",
    "\n",
    "'''The Probability Density Function (PDF) is a function that describes the likelihood of a continuous random variable falling within a particular range. It gives the probability that the value of a random variable falls within a particular range, as opposed to taking on any one specific value.'''"
   ]
  },
  {
   "cell_type": "code",
   "execution_count": 3,
   "id": "1f626fd9-b76d-4291-a8be-ceea6bfb6581",
   "metadata": {},
   "outputs": [
    {
     "data": {
      "text/plain": [
       "'The Probability Density Function (PDF) is a function that describes the likelihood of a continuous random variable falling within a particular range. It gives the probability that the value of a random variable falls within a particular range, as opposed to taking on any one specific value'"
      ]
     },
     "execution_count": 3,
     "metadata": {},
     "output_type": "execute_result"
    }
   ],
   "source": [
    "#ANSWER 2\n",
    "\n",
    "'''The Probability Density Function (PDF) is a function that describes the likelihood of a continuous random variable falling within a particular range. It gives the probability that the value of a random variable falls within a particular range, as opposed to taking on any one specific value'''"
   ]
  },
  {
   "cell_type": "code",
   "execution_count": 4,
   "id": "c7b5e1c1-0c0b-4d84-92b8-3bbb504f3abe",
   "metadata": {},
   "outputs": [],
   "source": [
    "#ANSWER 3\n",
    "\n",
    "import math\n",
    "\n",
    "def normal_pdf(x, mean, std_dev):\n",
    "    return (1 / (std_dev * math.sqrt(2 * math.pi))) * math.exp(-0.5 * ((x - mean) / std_dev) ** 2)\n"
   ]
  },
  {
   "cell_type": "code",
   "execution_count": 5,
   "id": "e134424e-771e-4dfb-a37d-a9c075b9d22f",
   "metadata": {},
   "outputs": [
    {
     "data": {
      "text/plain": [
       "'Properties of Binomial Distribution:\\nIt models the number of successes in a fixed number of independent Bernoulli trials.\\nIt has two parameters: n (number of trials) and p (probability of success).\\nExamples where Binomial distribution can be applied:\\nCoin tosses (success = heads, failure = tails)\\nDrug testing (success = recovery, failure = no recovery)'"
      ]
     },
     "execution_count": 5,
     "metadata": {},
     "output_type": "execute_result"
    }
   ],
   "source": [
    "#ANSWER 4\n",
    "\n",
    "'''Properties of Binomial Distribution:\n",
    "It models the number of successes in a fixed number of independent Bernoulli trials.\n",
    "It has two parameters: n (number of trials) and p (probability of success).\n",
    "Examples where Binomial distribution can be applied:\n",
    "Coin tosses (success = heads, failure = tails)\n",
    "Drug testing (success = recovery, failure = no recovery)'''"
   ]
  },
  {
   "cell_type": "code",
   "execution_count": 6,
   "id": "46019415-fbc8-4620-b780-d89536893136",
   "metadata": {},
   "outputs": [
    {
     "data": {
      "image/png": "[encoded data removed]",
      "text/plain": [
       "<Figure size 640x480 with 1 Axes>"
      ]
     },
     "metadata": {},
     "output_type": "display_data"
    }
   ],
   "source": [
    "#ANSWER 5\n",
    "\n",
    "import numpy as np\n",
    "import matplotlib.pyplot as plt\n",
    "\n",
    "n = 1000\n",
    "p = 0.4\n",
    "sample = np.random.binomial(n, p, 1000)\n",
    "plt.hist(sample, bins=20, density=True)\n",
    "plt.xlabel('Number of Successes')\n",
    "plt.ylabel('Probability')\n",
    "plt.title('Histogram of Binomial Distribution')\n",
    "plt.show()\n"
   ]
  },
  {
   "cell_type": "code",
   "execution_count": 7,
   "id": "24096980-0013-4e84-8a6a-523062265b2e",
   "metadata": {},
   "outputs": [],
   "source": [
    "#ANSWER 6\n",
    "\n",
    "import math\n",
    "\n",
    "def poisson_cdf(k, mean):\n",
    "    cdf = 0\n",
    "    for i in range(k + 1):\n",
    "        cdf += (math.exp(-mean) * (mean ** i)) / math.factorial(i)\n",
    "    return cdf\n"
   ]
  },
  {
   "cell_type": "code",
   "execution_count": 8,
   "id": "72d274b5-47a3-4109-aa42-257e480d04a0",
   "metadata": {},
   "outputs": [
    {
     "data": {
      "text/plain": [
       "'Binomial Distribution:\\nModels the number of successes in a fixed number of independent Bernoulli trials.\\nRequires two parameters: n (number of trials) and p (probability of success).\\nApplicable when there are a fixed number of trials and each trial has two possible outcomes.\\nPoisson Distribution:\\nModels the number of events occurring in a fixed interval of time or space.\\nRequires one parameter: λ (average rate of occurrence).\\nApplicable when the events occur independently and at a constant average rate.'"
      ]
     },
     "execution_count": 8,
     "metadata": {},
     "output_type": "execute_result"
    }
   ],
   "source": [
    "#ANSWER 7\n",
    "\n",
    "'''Binomial Distribution:\n",
    "Models the number of successes in a fixed number of independent Bernoulli trials.\n",
    "Requires two parameters: n (number of trials) and p (probability of success).\n",
    "Applicable when there are a fixed number of trials and each trial has two possible outcomes.\n",
    "Poisson Distribution:\n",
    "Models the number of events occurring in a fixed interval of time or space.\n",
    "Requires one parameter: λ (average rate of occurrence).\n",
    "Applicable when the events occur independently and at a constant average rate.'''"
   ]
  },
  {
   "cell_type": "code",
   "execution_count": 9,
   "id": "d05a7c7a-fc46-47db-9fe5-08ceb8709969",
   "metadata": {},
   "outputs": [
    {
     "name": "stdout",
     "output_type": "stream",
     "text": [
      "Sample mean: 5.027\n",
      "Sample variance: 4.642271000000001\n"
     ]
    }
   ],
   "source": [
    "#ANSWER 8\n",
    "\n",
    "sample_poisson = np.random.poisson(5, 1000)\n",
    "sample_mean = np.mean(sample_poisson)\n",
    "sample_variance = np.var(sample_poisson)\n",
    "print(\"Sample mean:\", sample_mean)\n",
    "print(\"Sample variance:\", sample_variance)\n"
   ]
  },
  {
   "cell_type": "code",
   "execution_count": 10,
   "id": "8a35b85e-6dbf-4d19-a0b0-14c4baaef8b9",
   "metadata": {},
   "outputs": [
    {
     "data": {
      "text/plain": [
       "'In a Binomial distribution, both the mean and variance are related to the parameters n (number of trials) and p (probability of success), where mean = n * p and variance = n * p * (1 - p).\\nIn a Poisson distribution, the mean and variance are both equal to λ, the average rate of occurrence.'"
      ]
     },
     "execution_count": 10,
     "metadata": {},
     "output_type": "execute_result"
    }
   ],
   "source": [
    "#ANSWER 9\n",
    "'''In a Binomial distribution, both the mean and variance are related to the parameters n (number of trials) and p (probability of success), where mean = n * p and variance = n * p * (1 - p).\n",
    "In a Poisson distribution, the mean and variance are both equal to λ, the average rate of occurrence.'''\n"
   ]
  },
  {
   "cell_type": "code",
   "execution_count": 11,
   "id": "aa082051-0e30-4ee2-897b-a238f58f598f",
   "metadata": {},
   "outputs": [
    {
     "data": {
      "text/plain": [
       "'In a normal distribution, the data points become less frequent as you move away from the mean in both directions. Therefore, the least frequent data points appear at the extreme tails of the distribution, farthest from the mean.'"
      ]
     },
     "execution_count": 11,
     "metadata": {},
     "output_type": "execute_result"
    }
   ],
   "source": [
    "#ANSWER 10\n",
    "\n",
    "'''In a normal distribution, the data points become less frequent as you move away from the mean in both directions. Therefore, the least frequent data points appear at the extreme tails of the distribution, farthest from the mean.'''"
   ]
  },
  {
   "cell_type": "code",
   "execution_count": null,
   "id": "dcd47c3a-9836-420d-95a3-b12bfb886b8c",
   "metadata": {},
   "outputs": [],
   "source": []
  }
 ],
 "metadata": {
  "kernelspec": {
   "display_name": "Python 3 (ipykernel)",
   "language": "python",
   "name": "python3"
  },
  "language_info": {
   "codemirror_mode": {
    "name": "ipython",
    "version": 3
   },
   "file_extension": ".py",
   "mimetype": "text/x-python",
   "name": "python",
   "nbconvert_exporter": "python",
   "pygments_lexer": "ipython3",
   "version": "3.10.8"
  }
 },
 "nbformat": 4,
 "nbformat_minor": 5
}
