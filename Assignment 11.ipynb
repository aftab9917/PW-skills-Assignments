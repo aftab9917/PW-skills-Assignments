{
 "cells": [
  {
   "cell_type": "code",
   "execution_count": 1,
   "id": "d6a378bc-3404-42b0-a537-7e3f91f28ebf",
   "metadata": {},
   "outputs": [
    {
     "data": {
      "text/plain": [
       "'Multiprocessing in Python refers to the ability of a program to create and run multiple processes simultaneously. It allows parallel execution of tasks, taking advantage of multiple CPU cores. This is particularly useful for computationally intensive tasks, as it can significantly improve performance and reduce execution time.'"
      ]
     },
     "execution_count": 1,
     "metadata": {},
     "output_type": "execute_result"
    }
   ],
   "source": [
    "#ANSWER 1\n",
    "\n",
    "'''Multiprocessing in Python refers to the ability of a program to create and run multiple processes simultaneously. It allows parallel execution of tasks, taking advantage of multiple CPU cores. This is particularly useful for computationally intensive tasks, as it can significantly improve performance and reduce execution time.'''"
   ]
  },
  {
   "cell_type": "code",
   "execution_count": 2,
   "id": "fa36cbf7-007e-4cb4-8146-1b7f7278abce",
   "metadata": {},
   "outputs": [
    {
     "data": {
      "text/plain": [
       "'Multiprocessing:\\n\\nInvolves the execution of multiple processes.\\nEach process has its own memory space.\\nProcesses are independent and communicate via inter-process communication mechanisms.\\nSuitable for CPU-bound tasks that require a lot of processing power.\\nMultithreading:\\n\\nInvolves the execution of multiple threads within the same process.\\nThreads share the same memory space.\\nThreads within a process share data, making communication easier but potentially more error-prone.\\nSuitable for I/O-bound tasks where tasks involve waiting for external resources.'"
      ]
     },
     "execution_count": 2,
     "metadata": {},
     "output_type": "execute_result"
    }
   ],
   "source": [
    "#ANSWER 2\n",
    "\n",
    "'''Multiprocessing:\n",
    "\n",
    "Involves the execution of multiple processes.\n",
    "Each process has its own memory space.\n",
    "Processes are independent and communicate via inter-process communication mechanisms.\n",
    "Suitable for CPU-bound tasks that require a lot of processing power.\n",
    "Multithreading:\n",
    "\n",
    "Involves the execution of multiple threads within the same process.\n",
    "Threads share the same memory space.\n",
    "Threads within a process share data, making communication easier but potentially more error-prone.\n",
    "Suitable for I/O-bound tasks where tasks involve waiting for external resources.'''"
   ]
  },
  {
   "cell_type": "code",
   "execution_count": 3,
   "id": "b457bb81-1c32-4921-a310-b2b308ffb745",
   "metadata": {},
   "outputs": [
    {
     "name": "stdout",
     "output_type": "stream",
     "text": [
      "This is a process.\n"
     ]
    }
   ],
   "source": [
    "#ANSWER 3\n",
    "\n",
    "import multiprocessing\n",
    "\n",
    "def my_function():\n",
    "    print(\"This is a process.\")\n",
    "\n",
    "if __name__ == \"__main__\":\n",
    "    # Create a process\n",
    "    my_process = multiprocessing.Process(target=my_function)\n",
    "    \n",
    "    # Start the process\n",
    "    my_process.start()\n",
    "    \n",
    "    # Wait for the process to finish\n",
    "    my_process.join()\n"
   ]
  },
  {
   "cell_type": "code",
   "execution_count": 4,
   "id": "cb54aaf3-32a9-4c76-a104-caa2f5453c94",
   "metadata": {},
   "outputs": [
    {
     "data": {
      "text/plain": [
       "'A multiprocessing pool is a way to parallelize the execution of a function across multiple input values by distributing the workload among a pool of worker processes. It is useful for handling parallelizable tasks, such as applying a function to multiple elements in a list concurrently.'"
      ]
     },
     "execution_count": 4,
     "metadata": {},
     "output_type": "execute_result"
    }
   ],
   "source": [
    "#ANSWER 4\n",
    "\n",
    "'''A multiprocessing pool is a way to parallelize the execution of a function across multiple input values by distributing the workload among a pool of worker processes. It is useful for handling parallelizable tasks, such as applying a function to multiple elements in a list concurrently.'''"
   ]
  },
  {
   "cell_type": "code",
   "execution_count": 5,
   "id": "6cf9ecc9-4615-4cf9-ae89-54d526d31670",
   "metadata": {},
   "outputs": [
    {
     "name": "stdout",
     "output_type": "stream",
     "text": [
      "[1, 4, 9, 16, 25]\n"
     ]
    }
   ],
   "source": [
    "#ABNSWER 5\n",
    "\n",
    "import multiprocessing\n",
    "\n",
    "def square(number):\n",
    "    return number * number\n",
    "\n",
    "if __name__ == \"__main__\":\n",
    "    # Create a pool of worker processes\n",
    "    with multiprocessing.Pool(processes=3) as pool:\n",
    "        # Input data\n",
    "        data = [1, 2, 3, 4, 5]\n",
    "        \n",
    "        # Apply the square function to each element in parallel\n",
    "        results = pool.map(square, data)\n",
    "        \n",
    "        # Close the pool and wait for the worker processes to finish\n",
    "        pool.close()\n",
    "        pool.join()\n",
    "\n",
    "    print(results)\n"
   ]
  },
  {
   "cell_type": "code",
   "execution_count": 6,
   "id": "c1592443-f6eb-4e8a-b4b6-d98895588e72",
   "metadata": {},
   "outputs": [
    {
     "name": "stdout",
     "output_type": "stream",
     "text": [
      "Process 1: 1\n",
      "Process 2: 2\n",
      "Process 3: 3\n",
      "Process 4: 4\n"
     ]
    }
   ],
   "source": [
    "#ANSWER 6\n",
    "\n",
    "import multiprocessing\n",
    "\n",
    "def print_number(number):\n",
    "    print(f\"Process {number}: {number}\")\n",
    "\n",
    "if __name__ == \"__main__\":\n",
    "    processes = []\n",
    "\n",
    "    for i in range(1, 5):\n",
    "        process = multiprocessing.Process(target=print_number, args=(i,))\n",
    "        processes.append(process)\n",
    "        process.start()\n",
    "\n",
    "    for process in processes:\n",
    "        process.join()\n"
   ]
  },
  {
   "cell_type": "code",
   "execution_count": null,
   "id": "e5c7693c-d449-4e97-8b55-4e156cca04ef",
   "metadata": {},
   "outputs": [],
   "source": []
  }
 ],
 "metadata": {
  "kernelspec": {
   "display_name": "Python 3 (ipykernel)",
   "language": "python",
   "name": "python3"
  },
  "language_info": {
   "codemirror_mode": {
    "name": "ipython",
    "version": 3
   },
   "file_extension": ".py",
   "mimetype": "text/x-python",
   "name": "python",
   "nbconvert_exporter": "python",
   "pygments_lexer": "ipython3",
   "version": "3.10.8"
  }
 },
 "nbformat": 4,
 "nbformat_minor": 5
}
