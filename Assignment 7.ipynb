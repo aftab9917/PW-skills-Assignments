{
 "cells": [
  {
   "cell_type": "code",
   "execution_count": 1,
   "id": "6674fcb8-2519-41f8-9abd-9ca9767759c6",
   "metadata": {},
   "outputs": [
    {
     "data": {
      "text/plain": [
       "\"Abstraction in Object-Oriented Programming (OOP) is the concept of simplifying complex systems by modeling classes based on the essential properties and behaviors relevant to the program, while ignoring the non-essential details. It involves creating abstract representations of objects to focus on what an object does rather than how it achieves its functionality.\\n\\nIn practical terms, abstraction allows you to create a high-level view of an object, providing only the necessary details and hiding the unnecessary complexities. This helps in managing and understanding the complexity of a system by providing a clear and simplified interface.\\n\\nHere's an example to illustrate abstraction:\""
      ]
     },
     "execution_count": 1,
     "metadata": {},
     "output_type": "execute_result"
    }
   ],
   "source": [
    "#ANSWER 1\n",
    "\n",
    "'''Abstraction in Object-Oriented Programming (OOP) is the concept of simplifying complex systems by modeling classes based on the essential properties and behaviors relevant to the program, while ignoring the non-essential details. It involves creating abstract representations of objects to focus on what an object does rather than how it achieves its functionality.\n",
    "\n",
    "In practical terms, abstraction allows you to create a high-level view of an object, providing only the necessary details and hiding the unnecessary complexities. This helps in managing and understanding the complexity of a system by providing a clear and simplified interface.\n",
    "\n",
    "Here's an example to illustrate abstraction:'''"
   ]
  },
  {
   "cell_type": "code",
   "execution_count": 2,
   "id": "59792a53-eae5-4345-9ccf-908f7cd59e94",
   "metadata": {},
   "outputs": [
    {
     "name": "stdout",
     "output_type": "stream",
     "text": [
      "Area of the circle: 78.5\n",
      "Area of the rectangle: 24\n"
     ]
    }
   ],
   "source": [
    "from abc import ABC, abstractmethod\n",
    "\n",
    "# Abstract class representing a Shape\n",
    "class Shape(ABC):\n",
    "    # Abstract method to get the area of the shape\n",
    "    @abstractmethod\n",
    "    def calculate_area(self):\n",
    "        pass\n",
    "\n",
    "# Concrete class representing a Circle\n",
    "class Circle(Shape):\n",
    "    def __init__(self, radius):\n",
    "        self.radius = radius\n",
    "\n",
    "    # Implementation of the abstract method for calculating the area\n",
    "    def calculate_area(self):\n",
    "        return 3.14 * self.radius**2\n",
    "\n",
    "# Concrete class representing a Rectangle\n",
    "class Rectangle(Shape):\n",
    "    def __init__(self, length, width):\n",
    "        self.length = length\n",
    "        self.width = width\n",
    "\n",
    "    # Implementation of the abstract method for calculating the area\n",
    "    def calculate_area(self):\n",
    "        return self.length * self.width\n",
    "\n",
    "# Creating instances of Circle and Rectangle\n",
    "circle = Circle(radius=5)\n",
    "rectangle = Rectangle(length=4, width=6)\n",
    "\n",
    "# Using the abstraction to get the area without worrying about implementation details\n",
    "print(f\"Area of the circle: {circle.calculate_area()}\")\n",
    "print(f\"Area of the rectangle: {rectangle.calculate_area()}\")\n"
   ]
  },
  {
   "cell_type": "code",
   "execution_count": 5,
   "id": "d570e97a-2b58-443a-85b8-3ac855908283",
   "metadata": {},
   "outputs": [
    {
     "data": {
      "text/plain": [
       "\"Abstraction and Encapsulation are two fundamental concepts in Object-Oriented Programming (OOP), but they address different aspects of designing and organizing code.\\n\\nAbstraction:\\n\\nAbstraction is about simplifying complex systems by modeling classes based on essential properties and behaviors, while ignoring unnecessary details.\\nIt involves creating abstract representations of objects to focus on what an object does rather than how it achieves its functionality.\\nAbstraction is achieved through abstract classes and interfaces in OOP.\\nIt provides a high-level view of an object, allowing users to interact with it without worrying about the internal complexities.\\nEncapsulation:\\n\\nEncapsulation is the bundling of data (attributes) and the methods (functions) that operate on the data within a single unit, i.e., a class.\\nIt involves hiding the internal details of how an object works and exposing only what is necessary. This helps in preventing direct access to the internal state of an object from outside the class.\\nEncapsulation is achieved by using access modifiers (e.g., private, public) to control the visibility of attributes and methods.\\nIt provides data security and maintains the integrity of the object's state.\\nNow, let's illustrate the difference with an example:\""
      ]
     },
     "execution_count": 5,
     "metadata": {},
     "output_type": "execute_result"
    }
   ],
   "source": [
    "#ANSWER 2\n",
    "\n",
    "'''Abstraction and Encapsulation are two fundamental concepts in Object-Oriented Programming (OOP), but they address different aspects of designing and organizing code.\n",
    "\n",
    "Abstraction:\n",
    "\n",
    "Abstraction is about simplifying complex systems by modeling classes based on essential properties and behaviors, while ignoring unnecessary details.\n",
    "It involves creating abstract representations of objects to focus on what an object does rather than how it achieves its functionality.\n",
    "Abstraction is achieved through abstract classes and interfaces in OOP.\n",
    "It provides a high-level view of an object, allowing users to interact with it without worrying about the internal complexities.\n",
    "Encapsulation:\n",
    "\n",
    "Encapsulation is the bundling of data (attributes) and the methods (functions) that operate on the data within a single unit, i.e., a class.\n",
    "It involves hiding the internal details of how an object works and exposing only what is necessary. This helps in preventing direct access to the internal state of an object from outside the class.\n",
    "Encapsulation is achieved by using access modifiers (e.g., private, public) to control the visibility of attributes and methods.\n",
    "It provides data security and maintains the integrity of the object's state.\n",
    "Now, let's illustrate the difference with an example:'''\n"
   ]
  },
  {
   "cell_type": "code",
   "execution_count": 6,
   "id": "a4a07e4d-d317-4070-ac01-b372bea6e294",
   "metadata": {},
   "outputs": [
    {
     "name": "stdout",
     "output_type": "stream",
     "text": [
      "Area of the circle: 78.5\n",
      "Make of the car: Toyota\n"
     ]
    }
   ],
   "source": [
    "# Abstraction Example\n",
    "\n",
    "from abc import ABC, abstractmethod\n",
    "\n",
    "# Abstract class representing a Shape\n",
    "class Shape(ABC):\n",
    "    # Abstract method to get the area of the shape\n",
    "    @abstractmethod\n",
    "    def calculate_area(self):\n",
    "        pass\n",
    "\n",
    "# Concrete class representing a Circle\n",
    "class Circle(Shape):\n",
    "    def __init__(self, radius):\n",
    "        self.radius = radius\n",
    "\n",
    "    # Implementation of the abstract method for calculating the area\n",
    "    def calculate_area(self):\n",
    "        return 3.14 * self.radius**2\n",
    "\n",
    "# Encapsulation Example\n",
    "\n",
    "# Class representing a Car with encapsulated attributes\n",
    "class Car:\n",
    "    def __init__(self, make, model, year):\n",
    "        # Encapsulated attributes\n",
    "        self._make = make  # Using a single leading underscore convention for 'protected' attributes\n",
    "        self._model = model\n",
    "        self._year = year\n",
    "        self._speed = 0\n",
    "\n",
    "    # Encapsulated method to accelerate\n",
    "    def accelerate(self, speed_increase):\n",
    "        self._speed += speed_increase\n",
    "\n",
    "    # Encapsulated method to get the make of the car\n",
    "    def get_make(self):\n",
    "        return self._make\n",
    "\n",
    "# Creating instances and using abstraction and encapsulation\n",
    "\n",
    "# Abstraction: Using Shape abstraction\n",
    "circle = Circle(radius=5)\n",
    "print(f\"Area of the circle: {circle.calculate_area()}\")\n",
    "\n",
    "# Encapsulation: Using Car encapsulation\n",
    "my_car = Car(make=\"Toyota\", model=\"Camry\", year=2022)\n",
    "my_car.accelerate(20)\n",
    "print(f\"Make of the car: {my_car.get_make()}\")\n"
   ]
  },
  {
   "cell_type": "code",
   "execution_count": 7,
   "id": "839b52c4-d939-45df-985a-183c5eb90160",
   "metadata": {},
   "outputs": [
    {
     "data": {
      "text/plain": [
       "'The abc module in Python stands for \"Abstract Base Classes.\" It provides the infrastructure for defining abstract base classes and abstract methods. Abstract base classes are classes that cannot be instantiated and are meant to be subclassed by other classes. The abc module allows you to enforce a certain interface or structure in derived classes by defining abstract methods that must be implemented in the concrete subclasses.\\n\\nKey components of the abc module include:\\n\\nABC (Abstract Base Class): The ABC class in the abc module is a metaclass for defining abstract base classes. Abstract base classes can be created by subclassing ABC and using the @abstractmethod decorator to declare abstract methods.\\n\\n@abstractmethod decorator: This decorator is used to declare abstract methods within an abstract base class. Any concrete subclass inheriting from this abstract base class must provide an implementation for these abstract methods.\\n\\nHere\\'s a simple example demonstrating the use of the abc module:'"
      ]
     },
     "execution_count": 7,
     "metadata": {},
     "output_type": "execute_result"
    }
   ],
   "source": [
    "#ANSWER 3\n",
    "\n",
    "'''The abc module in Python stands for \"Abstract Base Classes.\" It provides the infrastructure for defining abstract base classes and abstract methods. Abstract base classes are classes that cannot be instantiated and are meant to be subclassed by other classes. The abc module allows you to enforce a certain interface or structure in derived classes by defining abstract methods that must be implemented in the concrete subclasses.\n",
    "\n",
    "Key components of the abc module include:\n",
    "\n",
    "ABC (Abstract Base Class): The ABC class in the abc module is a metaclass for defining abstract base classes. Abstract base classes can be created by subclassing ABC and using the @abstractmethod decorator to declare abstract methods.\n",
    "\n",
    "@abstractmethod decorator: This decorator is used to declare abstract methods within an abstract base class. Any concrete subclass inheriting from this abstract base class must provide an implementation for these abstract methods.\n",
    "\n",
    "Here's a simple example demonstrating the use of the abc module:'''"
   ]
  },
  {
   "cell_type": "code",
   "execution_count": 8,
   "id": "e2902161-66e5-4d92-8439-7efbdd6a7c50",
   "metadata": {},
   "outputs": [
    {
     "name": "stdout",
     "output_type": "stream",
     "text": [
      "Area of the circle: 78.5\n",
      "Area of the rectangle: 24\n"
     ]
    }
   ],
   "source": [
    "from abc import ABC, abstractmethod\n",
    "\n",
    "# Abstract base class for a Shape\n",
    "class Shape(ABC):\n",
    "    @abstractmethod\n",
    "    def calculate_area(self):\n",
    "        pass\n",
    "\n",
    "# Concrete class representing a Circle\n",
    "class Circle(Shape):\n",
    "    def __init__(self, radius):\n",
    "        self.radius = radius\n",
    "\n",
    "    # Implementation of the abstract method for calculating the area\n",
    "    def calculate_area(self):\n",
    "        return 3.14 * self.radius**2\n",
    "\n",
    "# Concrete class representing a Rectangle\n",
    "class Rectangle(Shape):\n",
    "    def __init__(self, length, width):\n",
    "        self.length = length\n",
    "        self.width = width\n",
    "\n",
    "    # Implementation of the abstract method for calculating the area\n",
    "    def calculate_area(self):\n",
    "        return self.length * self.width\n",
    "\n",
    "# Creating instances of Circle and Rectangle\n",
    "circle = Circle(radius=5)\n",
    "rectangle = Rectangle(length=4, width=6)\n",
    "\n",
    "# Using the abstraction to get the area without worrying about implementation details\n",
    "print(f\"Area of the circle: {circle.calculate_area()}\")\n",
    "print(f\"Area of the rectangle: {rectangle.calculate_area()}\")\n"
   ]
  },
  {
   "cell_type": "code",
   "execution_count": 9,
   "id": "240e939f-41cc-41ec-ae05-2ce58d3a767b",
   "metadata": {},
   "outputs": [
    {
     "data": {
      "text/plain": [
       "'Data abstraction can be achieved in Python through the use of classes and encapsulation. By defining classes that encapsulate data and provide methods to interact with that data, you can abstract away the implementation details and expose only the essential functionalities to the outside world. Use access modifiers (e.g., private attributes) to control access to the internal state and provide public methods for interacting with the data.'"
      ]
     },
     "execution_count": 9,
     "metadata": {},
     "output_type": "execute_result"
    }
   ],
   "source": [
    "#ANSWER 4\n",
    "\n",
    "'''Data abstraction can be achieved in Python through the use of classes and encapsulation. By defining classes that encapsulate data and provide methods to interact with that data, you can abstract away the implementation details and expose only the essential functionalities to the outside world. Use access modifiers (e.g., private attributes) to control access to the internal state and provide public methods for interacting with the data.'''"
   ]
  },
  {
   "cell_type": "code",
   "execution_count": 10,
   "id": "b2ca789d-4fd9-41ba-a121-611ad30dd582",
   "metadata": {},
   "outputs": [
    {
     "data": {
      "text/plain": [
       "\"No, we cannot create an instance of an abstract class directly in Python. Abstract classes are meant to be subclassed, and they typically contain abstract methods that have no implementation in the abstract base class itself. An abstract class is meant to provide a common interface for its concrete subclasses.\\n\\nAttempting to instantiate an abstract class directly would result in a TypeError. To create an instance of a class that inherits from an abstract class, you need to provide concrete implementations for all abstract methods in the derived class. This ensures that the derived class is complete and can be instantiated.\\n\\nHere's a simple example:\""
      ]
     },
     "execution_count": 10,
     "metadata": {},
     "output_type": "execute_result"
    }
   ],
   "source": [
    "#ANSWER 5\n",
    "\n",
    "'''No, we cannot create an instance of an abstract class directly in Python. Abstract classes are meant to be subclassed, and they typically contain abstract methods that have no implementation in the abstract base class itself. An abstract class is meant to provide a common interface for its concrete subclasses.\n",
    "\n",
    "Attempting to instantiate an abstract class directly would result in a TypeError. To create an instance of a class that inherits from an abstract class, you need to provide concrete implementations for all abstract methods in the derived class. This ensures that the derived class is complete and can be instantiated.\n",
    "\n",
    "Here's a simple example:'''"
   ]
  },
  {
   "cell_type": "code",
   "execution_count": 11,
   "id": "e39ec7f6-c0dd-4da8-b9ab-36dc10a96778",
   "metadata": {},
   "outputs": [],
   "source": [
    "from abc import ABC, abstractmethod\n",
    "\n",
    "# Abstract base class\n",
    "class MyAbstractClass(ABC):\n",
    "    @abstractmethod\n",
    "    def my_abstract_method(self):\n",
    "        pass\n",
    "\n",
    "# Concrete class inheriting from the abstract class\n",
    "class MyConcreteClass(MyAbstractClass):\n",
    "    def my_abstract_method(self):\n",
    "        print(\"Concrete implementation of the abstract method\")\n",
    "\n",
    "# Creating an instance of the concrete class\n",
    "my_instance = MyConcreteClass()\n"
   ]
  },
  {
   "cell_type": "code",
   "execution_count": null,
   "id": "da1693af-7a99-44a2-9adc-239fe81d5337",
   "metadata": {},
   "outputs": [],
   "source": []
  }
 ],
 "metadata": {
  "kernelspec": {
   "display_name": "Python 3 (ipykernel)",
   "language": "python",
   "name": "python3"
  },
  "language_info": {
   "codemirror_mode": {
    "name": "ipython",
    "version": 3
   },
   "file_extension": ".py",
   "mimetype": "text/x-python",
   "name": "python",
   "nbconvert_exporter": "python",
   "pygments_lexer": "ipython3",
   "version": "3.10.8"
  }
 },
 "nbformat": 4,
 "nbformat_minor": 5
}
