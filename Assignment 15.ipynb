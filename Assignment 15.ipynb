{
 "cells": [
  {
   "cell_type": "code",
   "execution_count": 1,
   "id": "22a023f5-6cf6-4312-a34c-e09f7f5d8b20",
   "metadata": {},
   "outputs": [
    {
     "data": {
      "text/plain": [
       "\"Flask is a lightweight web application framework written in Python. It is designed to be simple and easy to use, making it ideal for building small to medium-sized web applications.\\nAdvantages of Flask:\\nLightweight: Flask has a minimalistic design and doesn't impose any dependencies, making it lightweight and easy to learn.\\nFlexibility: Flask allows developers to choose the components they need and structure their applications according to their preferences.\\nExtensibility: Flask is highly extensible and provides numerous extensions for adding additional functionality such as authentication, database integration, and more.\\nEasy to get started: Flask provides a simple and intuitive API, making it easy for developers to get started with web development.\""
      ]
     },
     "execution_count": 1,
     "metadata": {},
     "output_type": "execute_result"
    }
   ],
   "source": [
    "#ANSWER 1\n",
    "\n",
    "'''Flask is a lightweight web application framework written in Python. It is designed to be simple and easy to use, making it ideal for building small to medium-sized web applications.\n",
    "Advantages of Flask:\n",
    "Lightweight: Flask has a minimalistic design and doesn't impose any dependencies, making it lightweight and easy to learn.\n",
    "Flexibility: Flask allows developers to choose the components they need and structure their applications according to their preferences.\n",
    "Extensibility: Flask is highly extensible and provides numerous extensions for adding additional functionality such as authentication, database integration, and more.\n",
    "Easy to get started: Flask provides a simple and intuitive API, making it easy for developers to get started with web development.'''"
   ]
  },
  {
   "cell_type": "code",
   "execution_count": 2,
   "id": "455cd436-4467-4586-b433-7467cfbbea41",
   "metadata": {},
   "outputs": [
    {
     "ename": "ModuleNotFoundError",
     "evalue": "No module named 'flask'",
     "output_type": "error",
     "traceback": [
      "\u001b[0;31m---------------------------------------------------------------------------\u001b[0m",
      "\u001b[0;31mModuleNotFoundError\u001b[0m                       Traceback (most recent call last)",
      "Cell \u001b[0;32mIn[2], line 3\u001b[0m\n\u001b[1;32m      1\u001b[0m \u001b[38;5;66;03m#ANSWER 2\u001b[39;00m\n\u001b[0;32m----> 3\u001b[0m \u001b[38;5;28;01mfrom\u001b[39;00m \u001b[38;5;21;01mflask\u001b[39;00m \u001b[38;5;28;01mimport\u001b[39;00m Flask\n\u001b[1;32m      5\u001b[0m app \u001b[38;5;241m=\u001b[39m Flask(\u001b[38;5;18m__name__\u001b[39m)\n\u001b[1;32m      7\u001b[0m \u001b[38;5;129m@app\u001b[39m\u001b[38;5;241m.\u001b[39mroute(\u001b[38;5;124m'\u001b[39m\u001b[38;5;124m/\u001b[39m\u001b[38;5;124m'\u001b[39m)\n\u001b[1;32m      8\u001b[0m \u001b[38;5;28;01mdef\u001b[39;00m \u001b[38;5;21mhello_world\u001b[39m():\n",
      "\u001b[0;31mModuleNotFoundError\u001b[0m: No module named 'flask'"
     ]
    }
   ],
   "source": [
    "#ANSWER 2\n",
    "\n",
    "from flask import Flask\n",
    "\n",
    "app = Flask(__name__)\n",
    "\n",
    "@app.route('/')\n",
    "def hello_world():\n",
    "    return 'Hello World!!'\n",
    "\n",
    "if __name__ == '__main__':\n",
    "    app.run(debug=True)\n"
   ]
  },
  {
   "cell_type": "code",
   "execution_count": null,
   "id": "6f62e714-f1bd-4fdb-aa48-64caccd9a95e",
   "metadata": {},
   "outputs": [],
   "source": []
  },
  {
   "cell_type": "code",
   "execution_count": null,
   "id": "e61fcb83-032c-4a5f-8f2b-0b3ec39836c5",
   "metadata": {},
   "outputs": [],
   "source": [
    "#ANSWER 3\n",
    "\n",
    "'''App routing in Flask refers to mapping URL routes to view functions within a Flask application. It allows you to define different endpoints (URLs) for your application and specify the actions to be taken when a request is made to those endpoints.\n",
    "We use app routes in Flask to define the behavior of our web application. Each route corresponds to a specific URL, and when a request is made to that URL, Flask invokes the associated view function to generate the response.'''"
   ]
  },
  {
   "cell_type": "code",
   "execution_count": null,
   "id": "cf009b27-1c1b-4373-bb4f-31a553fff58e",
   "metadata": {},
   "outputs": [],
   "source": [
    "#ANSWER 4 \n",
    "from flask import Flask\n",
    "\n",
    "app = Flask(__name__)\n",
    "\n",
    "@app.route('/welcome')\n",
    "def welcome():\n",
    "    return 'Welcome to ABC Corporation'\n",
    "\n",
    "@app.route('/')\n",
    "def company_details():\n",
    "    return \"\"\"Company Name: ABC Corporation\n",
    "Location: India\n",
    "Contact Detail: 999-999-9999\"\"\"\n",
    "\n",
    "if __name__ == '__main__':\n",
    "    app.run(debug=True)\n"
   ]
  },
  {
   "cell_type": "code",
   "execution_count": 3,
   "id": "7757e411-aec4-4a68-be90-9b09af9e6b6e",
   "metadata": {},
   "outputs": [
    {
     "data": {
      "text/plain": [
       "'The url_for() function in Flask is used for URL building. It generates a URL for the specified endpoint.'"
      ]
     },
     "execution_count": 3,
     "metadata": {},
     "output_type": "execute_result"
    }
   ],
   "source": [
    "#ANSWER 5\n",
    "'''The url_for() function in Flask is used for URL building. It generates a URL for the specified endpoint.'''\n"
   ]
  },
  {
   "cell_type": "code",
   "execution_count": null,
   "id": "42c6e3bf-af0b-47e7-91a4-e9662baf10ad",
   "metadata": {},
   "outputs": [],
   "source": [
    "from flask import Flask, url_for\n",
    "\n",
    "app = Flask(__name__)\n",
    "\n",
    "@app.route('/')\n",
    "def index():\n",
    "    return 'Index Page'\n",
    "\n",
    "@app.route('/hello')\n",
    "def hello():\n",
    "    return 'Hello, World'\n",
    "\n",
    "@app.route('/user/<username>')\n",
    "def profile(username):\n",
    "    return f'{username}\\'s profile'\n",
    "\n",
    "@app.route('/test')\n",
    "def test():\n",
    "    return url_for('index')  # Generates URL for 'index' endpoint\n",
    "\n",
    "if __name__ == '__main__':\n",
    "    app.run(debug=True)\n"
   ]
  },
  {
   "cell_type": "code",
   "execution_count": null,
   "id": "b42fa511-9403-4123-8781-60a40655c46a",
   "metadata": {},
   "outputs": [],
   "source": []
  }
 ],
 "metadata": {
  "kernelspec": {
   "display_name": "Python 3 (ipykernel)",
   "language": "python",
   "name": "python3"
  },
  "language_info": {
   "codemirror_mode": {
    "name": "ipython",
    "version": 3
   },
   "file_extension": ".py",
   "mimetype": "text/x-python",
   "name": "python",
   "nbconvert_exporter": "python",
   "pygments_lexer": "ipython3",
   "version": "3.10.8"
  }
 },
 "nbformat": 4,
 "nbformat_minor": 5
}
