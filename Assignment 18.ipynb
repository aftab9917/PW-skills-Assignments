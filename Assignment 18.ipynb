{
 "cells": [
  {
   "cell_type": "code",
   "execution_count": 1,
   "id": "2018d476-a5c0-4d31-b313-13a4103ff17c",
   "metadata": {},
   "outputs": [
    {
     "name": "stdout",
     "output_type": "stream",
     "text": [
      "0     4\n",
      "1     8\n",
      "2    15\n",
      "3    16\n",
      "4    23\n",
      "5    42\n",
      "dtype: int64\n"
     ]
    }
   ],
   "source": [
    "#ANSWER 1\n",
    "\n",
    "import pandas as pd\n",
    "\n",
    "# Create a Pandas Series\n",
    "series = pd.Series([4, 8, 15, 16, 23, 42])\n",
    "\n",
    "# Print the Series\n",
    "print(series)\n"
   ]
  },
  {
   "cell_type": "code",
   "execution_count": 2,
   "id": "1498be09-d58e-472a-8658-3c0c27380163",
   "metadata": {},
   "outputs": [
    {
     "name": "stdout",
     "output_type": "stream",
     "text": [
      "0     1\n",
      "1     2\n",
      "2     3\n",
      "3     4\n",
      "4     5\n",
      "5     6\n",
      "6     7\n",
      "7     8\n",
      "8     9\n",
      "9    10\n",
      "dtype: int64\n"
     ]
    }
   ],
   "source": [
    "#ANSWER 2\n",
    "\n",
    "# Create a list\n",
    "my_list = [1, 2, 3, 4, 5, 6, 7, 8, 9, 10]\n",
    "\n",
    "# Create a Pandas Series from the list\n",
    "series_from_list = pd.Series(my_list)\n",
    "\n",
    "# Print the Series\n",
    "print(series_from_list)\n"
   ]
  },
  {
   "cell_type": "code",
   "execution_count": 3,
   "id": "2d45fac5-f155-432a-8a87-b4bfd9f3aae3",
   "metadata": {},
   "outputs": [
    {
     "name": "stdout",
     "output_type": "stream",
     "text": [
      "      Name  Age         City\n",
      "0    Alice   25     New York\n",
      "1      Bob   30  Los Angeles\n",
      "2  Charlie   35      Chicago\n",
      "3    David   40      Houston\n"
     ]
    }
   ],
   "source": [
    "#ANSWER 3\n",
    "\n",
    "# Create a Pandas DataFrame\n",
    "data = {'Name': ['Alice', 'Bob', 'Charlie', 'David'],\n",
    "        'Age': [25, 30, 35, 40],\n",
    "        'City': ['New York', 'Los Angeles', 'Chicago', 'Houston']}\n",
    "\n",
    "df = pd.DataFrame(data)\n",
    "\n",
    "# Print the DataFrame\n",
    "print(df)\n"
   ]
  },
  {
   "cell_type": "code",
   "execution_count": 4,
   "id": "28be979b-48ca-42cb-b921-4bc2f2eb8401",
   "metadata": {},
   "outputs": [
    {
     "ename": "SyntaxError",
     "evalue": "invalid syntax (3427985417.py, line 16)",
     "output_type": "error",
     "traceback": [
      "\u001b[0;36m  Cell \u001b[0;32mIn[4], line 16\u001b[0;36m\u001b[0m\n\u001b[0;31m    In this example, df['Age'] returns a Series containing ages of individuals.\u001b[0m\n\u001b[0m       ^\u001b[0m\n\u001b[0;31mSyntaxError\u001b[0m\u001b[0;31m:\u001b[0m invalid syntax\n"
     ]
    }
   ],
   "source": [
    "#ANSWER 4\n",
    "\n",
    "'''DataFrame: A DataFrame is a 2-dimensional labeled data structure with columns of potentially different types. It can be thought of as a table, similar to a spreadsheet or SQL table. Each column in a DataFrame is a pandas Series. DataFrames are commonly used for data manipulation and analysis.\n",
    "Series: A Series is a one-dimensional labeled array capable of holding data of any type. It is like a fixed-size dictionary in which keys are the index and values are the data elements. Series are often used as columns in DataFrames or as standalone data structures.\n",
    "Example:'''\n",
    "\n",
    "\n",
    "# Creating a DataFrame\n",
    "data = {'Name': ['Alice', 'Bob', 'Charlie'],\n",
    "        'Age': [25, 30, 35]}\n",
    "df = pd.DataFrame(data)\n",
    "\n",
    "# Accessing a Series from DataFrame\n",
    "age_series = df['Age']\n",
    "print(age_series)\n",
    "In this example, df['Age'] returns a Series containing ages of individuals."
   ]
  },
  {
   "cell_type": "code",
   "execution_count": 5,
   "id": "10ba46e0-4c6d-4a10-8a73-e382b1857b1c",
   "metadata": {},
   "outputs": [
    {
     "data": {
      "text/plain": [
       "'Some common functions to manipulate data in a Pandas DataFrame include:\\n\\nhead() and tail(): View the first or last n rows of the DataFrame.\\ninfo(): Get a concise summary of the DataFrame including data types and missing values.\\ndescribe(): Generate descriptive statistics summarizing the central tendency, dispersion, and shape of the dataset.\\ndropna(): Remove missing values from the DataFrame.\\nfillna(): Replace missing values with specified values.\\ngroupby(): Group data based on one or more columns.\\nmerge(): Merge DataFrame objects by performing a database-style join operation.'"
      ]
     },
     "execution_count": 5,
     "metadata": {},
     "output_type": "execute_result"
    }
   ],
   "source": [
    "#ANSWER 5\n",
    "\n",
    "'''Some common functions to manipulate data in a Pandas DataFrame include:\n",
    "\n",
    "head() and tail(): View the first or last n rows of the DataFrame.\n",
    "info(): Get a concise summary of the DataFrame including data types and missing values.\n",
    "describe(): Generate descriptive statistics summarizing the central tendency, dispersion, and shape of the dataset.\n",
    "dropna(): Remove missing values from the DataFrame.\n",
    "fillna(): Replace missing values with specified values.\n",
    "groupby(): Group data based on one or more columns.\n",
    "merge(): Merge DataFrame objects by performing a database-style join operation.'''"
   ]
  },
  {
   "cell_type": "code",
   "execution_count": 6,
   "id": "e40a40e8-e3f2-4179-9379-a312d69d3d08",
   "metadata": {},
   "outputs": [
    {
     "name": "stdout",
     "output_type": "stream",
     "text": [
      "City\n",
      "Chicago        35.0\n",
      "Houston        40.0\n",
      "Los Angeles    30.0\n",
      "New York       25.0\n",
      "Name: Age, dtype: float64\n"
     ]
    }
   ],
   "source": [
    "# Grouping data by 'City' and calculating the mean age\n",
    "mean_age_by_city = df.groupby('City')['Age'].mean()\n",
    "print(mean_age_by_city)\n"
   ]
  },
  {
   "cell_type": "code",
   "execution_count": 7,
   "id": "38922f5a-6312-4e97-a428-bddfc70308b3",
   "metadata": {},
   "outputs": [
    {
     "data": {
      "text/plain": [
       "'Mutable in nature: Mutable objects can be changed after they are created. In pandas, both Series and DataFrame are mutable.\\nImmutable in nature: Immutable objects cannot be changed after they are created.'"
      ]
     },
     "execution_count": 7,
     "metadata": {},
     "output_type": "execute_result"
    }
   ],
   "source": [
    "#ANSWER 6\n",
    "\n",
    "'''Mutable in nature: Mutable objects can be changed after they are created. In pandas, both Series and DataFrame are mutable.\n",
    "Immutable in nature: Immutable objects cannot be changed after they are created.'''"
   ]
  },
  {
   "cell_type": "code",
   "execution_count": 8,
   "id": "fe854ea7-5f29-4ea5-967b-52b0fb8ec67d",
   "metadata": {},
   "outputs": [
    {
     "name": "stdout",
     "output_type": "stream",
     "text": [
      "      Name  Age\n",
      "0    Alice   25\n",
      "1      Bob   30\n",
      "2  Charlie   35\n"
     ]
    }
   ],
   "source": [
    "#ANSWER 7\n",
    "# Creating multiple Series\n",
    "names = pd.Series(['Alice', 'Bob', 'Charlie'])\n",
    "ages = pd.Series([25, 30, 35])\n",
    "\n",
    "# Creating a DataFrame using multiple Series\n",
    "df = pd.DataFrame({'Name': names, 'Age': ages})\n",
    "\n",
    "# Print the DataFrame\n",
    "print(df)\n"
   ]
  },
  {
   "cell_type": "code",
   "execution_count": null,
   "id": "ddef18c4-8a91-4ae5-899b-ac3be3238a59",
   "metadata": {},
   "outputs": [],
   "source": []
  }
 ],
 "metadata": {
  "kernelspec": {
   "display_name": "Python 3 (ipykernel)",
   "language": "python",
   "name": "python3"
  },
  "language_info": {
   "codemirror_mode": {
    "name": "ipython",
    "version": 3
   },
   "file_extension": ".py",
   "mimetype": "text/x-python",
   "name": "python",
   "nbconvert_exporter": "python",
   "pygments_lexer": "ipython3",
   "version": "3.10.8"
  }
 },
 "nbformat": 4,
 "nbformat_minor": 5
}
