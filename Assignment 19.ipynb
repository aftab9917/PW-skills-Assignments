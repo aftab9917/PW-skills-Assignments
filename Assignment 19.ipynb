{
 "cells": [
  {
   "cell_type": "code",
   "execution_count": 1,
   "id": "751e426f-358a-4843-afa0-dfc5b8d78c2d",
   "metadata": {},
   "outputs": [
    {
     "name": "stdout",
     "output_type": "stream",
     "text": [
      "   A  B      C\n",
      "0  1  a   True\n",
      "1  2  b  False\n",
      "2  3  c   True\n",
      "<class 'pandas.core.frame.DataFrame'>\n",
      "RangeIndex: 3 entries, 0 to 2\n",
      "Data columns (total 3 columns):\n",
      " #   Column  Non-Null Count  Dtype \n",
      "---  ------  --------------  ----- \n",
      " 0   A       3 non-null      int64 \n",
      " 1   B       3 non-null      object\n",
      " 2   C       3 non-null      bool  \n",
      "dtypes: bool(1), int64(1), object(1)\n",
      "memory usage: 179.0+ bytes\n",
      "None\n",
      "         A\n",
      "count  3.0\n",
      "mean   2.0\n",
      "std    1.0\n",
      "min    1.0\n",
      "25%    1.5\n",
      "50%    2.0\n",
      "75%    2.5\n",
      "max    3.0\n",
      "   A  B      C\n",
      "0  1  a   True\n",
      "1  2  b  False\n",
      "2  3  c   True\n",
      "       A\n",
      "C       \n",
      "False  2\n",
      "True   4\n"
     ]
    },
    {
     "name": "stderr",
     "output_type": "stream",
     "text": [
      "/tmp/ipykernel_1299/1183161234.py:24: FutureWarning: The default value of numeric_only in DataFrameGroupBy.sum is deprecated. In a future version, numeric_only will default to False. Either specify numeric_only or select only columns which should be valid for the function.\n",
      "  grouped = df.groupby('C').sum()\n"
     ]
    }
   ],
   "source": [
    "#ANSWER 1\n",
    "\n",
    "import pandas as pd\n",
    "\n",
    "# Example DataFrame\n",
    "data = {'A': [1, 2, 3],\n",
    "        'B': ['a', 'b', 'c'],\n",
    "        'C': [True, False, True]}\n",
    "df = pd.DataFrame(data)\n",
    "\n",
    "# 1. head() - Returns the first n rows of the DataFrame\n",
    "print(df.head())\n",
    "\n",
    "# 2. info() - Provides a concise summary of the DataFrame including data types and missing values\n",
    "print(df.info())\n",
    "\n",
    "# 3. describe() - Generates descriptive statistics summarizing the central tendency, dispersion, and shape of the dataset\n",
    "print(df.describe())\n",
    "\n",
    "# 4. dropna() - Removes missing values from the DataFrame\n",
    "print(df.dropna())\n",
    "\n",
    "# 5. groupby() - Groups data based on one or more columns\n",
    "grouped = df.groupby('C').sum()\n",
    "print(grouped)\n"
   ]
  },
  {
   "cell_type": "code",
   "execution_count": 2,
   "id": "b0778c92-4b17-431a-b195-7b2de6cd99f3",
   "metadata": {},
   "outputs": [],
   "source": [
    "#ANSWER 2\n",
    "\n",
    "def reindex_df(df):\n",
    "    new_index = range(1, len(df) * 2, 2)\n",
    "    df.index = new_index\n",
    "    return df\n",
    "\n",
    "# Example usage:\n",
    "# df = reindex_df(df)\n"
   ]
  },
  {
   "cell_type": "code",
   "execution_count": 4,
   "id": "7ba739cb-0d2e-4b23-b62a-bc3be7967427",
   "metadata": {},
   "outputs": [],
   "source": [
    "#ANSWER 3\n",
    "\n",
    "def sum_first_three_values(df):\n",
    "    sum_values = df['Values'].iloc[:3].sum()\n",
    "    print(\"Sum of the first three values:\", sum_values)\n",
    "\n",
    "# Example usage:\n",
    "# sum_first_three_values(df)\n"
   ]
  },
  {
   "cell_type": "code",
   "execution_count": 5,
   "id": "f9cd0ffd-84ad-475c-be79-bcc3ed343195",
   "metadata": {},
   "outputs": [],
   "source": [
    "#ANSWER 4\n",
    "\n",
    "def count_words(df):\n",
    "    df['Word_Count'] = df['Text'].apply(lambda x: len(x.split()))\n",
    "    return df\n",
    "\n",
    "# Example usage:\n",
    "# df = count_words(df)\n"
   ]
  },
  {
   "cell_type": "code",
   "execution_count": null,
   "id": "3de3f6bc-78b8-4467-b832-40061f839753",
   "metadata": {},
   "outputs": [],
   "source": [
    "#ANSWER 5\n",
    "'''DataFrame.size(): Returns the number of elements in the DataFrame, which is equal to the number of rows multiplied by the number of columns.\n",
    "DataFrame.shape(): Returns a tuple representing the dimensionality of the DataFrame, i.e., the number of rows and columns.'''"
   ]
  },
  {
   "cell_type": "code",
   "execution_count": 6,
   "id": "c48439f4-89a1-4993-9869-4d785937fcd0",
   "metadata": {},
   "outputs": [],
   "source": [
    "#ANSWER 6\n",
    "\n",
    "# To read an excel file, use pd.read_excel() function\n",
    "# Example: df = pd.read_excel('filename.xlsx')\n"
   ]
  },
  {
   "cell_type": "code",
   "execution_count": 7,
   "id": "ed4eee5e-5b4b-483c-a868-999bb9aff909",
   "metadata": {},
   "outputs": [],
   "source": [
    "#ANSWER 7\n",
    "\n",
    "def extract_username(df):\n",
    "    df['Username'] = df['Email'].apply(lambda x: x.split('@')[0])\n",
    "    return df\n",
    "\n",
    "# Example usage:\n",
    "# df = extract_username(df)\n"
   ]
  },
  {
   "cell_type": "code",
   "execution_count": 8,
   "id": "33b10703-a0d5-4c5d-b68d-e03c131ccf64",
   "metadata": {},
   "outputs": [
    {
     "name": "stdout",
     "output_type": "stream",
     "text": [
      "   A  B  C\n",
      "1  8  2  7\n",
      "2  6  9  4\n",
      "4  9  1  2\n"
     ]
    }
   ],
   "source": [
    "#ANSWER 8\n",
    "\n",
    "import pandas as pd\n",
    "\n",
    "def select_rows(df):\n",
    "    selected_rows = df[(df['A'] > 5) & (df['B'] < 10)]\n",
    "    return selected_rows\n",
    "\n",
    "# Example DataFrame\n",
    "data = {'A': [3, 8, 6, 2, 9],\n",
    "        'B': [5, 2, 9, 3, 1],\n",
    "        'C': [1, 7, 4, 5, 2]}\n",
    "df = pd.DataFrame(data)\n",
    "\n",
    "# Select rows where 'A' > 5 and 'B' < 10\n",
    "selected_df = select_rows(df)\n",
    "print(selected_df)\n"
   ]
  },
  {
   "cell_type": "code",
   "execution_count": 9,
   "id": "147e5abd-6370-49fd-a458-cbca17e39c9b",
   "metadata": {},
   "outputs": [
    {
     "name": "stdout",
     "output_type": "stream",
     "text": [
      "Mean: 30.0\n",
      "Median: 30.0\n",
      "Standard Deviation: 15.811388300841896\n"
     ]
    }
   ],
   "source": [
    "#ANSWER 9\n",
    "\n",
    "import pandas as pd\n",
    "\n",
    "def calculate_statistics(df):\n",
    "    mean = df['Values'].mean()\n",
    "    median = df['Values'].median()\n",
    "    std_dev = df['Values'].std()\n",
    "    return mean, median, std_dev\n",
    "\n",
    "# Example DataFrame\n",
    "data = {'Values': [10, 20, 30, 40, 50]}\n",
    "df = pd.DataFrame(data)\n",
    "\n",
    "# Calculate statistics\n",
    "mean, median, std_dev = calculate_statistics(df)\n",
    "print(\"Mean:\", mean)\n",
    "print(\"Median:\", median)\n",
    "print(\"Standard Deviation:\", std_dev)\n",
    "\n"
   ]
  },
  {
   "cell_type": "code",
   "execution_count": 10,
   "id": "5fed2795-1562-4b93-9b9d-5c96dd826e70",
   "metadata": {},
   "outputs": [
    {
     "name": "stdout",
     "output_type": "stream",
     "text": [
      "   Sales       Date  MovingAverage\n",
      "0    100 2024-01-01     100.000000\n",
      "1    120 2024-01-02     110.000000\n",
      "2    130 2024-01-03     116.666667\n",
      "3    110 2024-01-04     115.000000\n",
      "4    150 2024-01-05     122.000000\n",
      "5    140 2024-01-06     125.000000\n",
      "6    160 2024-01-07     130.000000\n",
      "7    170 2024-01-08     140.000000\n",
      "8    180 2024-01-09     148.571429\n",
      "9    190 2024-01-10     157.142857\n"
     ]
    }
   ],
   "source": [
    "#ANSWER 10\n",
    "\n",
    "import pandas as pd\n",
    "\n",
    "def calculate_moving_average(df):\n",
    "    df['MovingAverage'] = df['Sales'].rolling(window=7, min_periods=1).mean()\n",
    "    return df\n",
    "\n",
    "# Example DataFrame\n",
    "data = {'Sales': [100, 120, 130, 110, 150, 140, 160, 170, 180, 190],\n",
    "        'Date': pd.date_range(start='2024-01-01', periods=10)}\n",
    "df = pd.DataFrame(data)\n",
    "\n",
    "# Calculate moving average\n",
    "df = calculate_moving_average(df)\n",
    "print(df)\n"
   ]
  },
  {
   "cell_type": "code",
   "execution_count": 11,
   "id": "4f3c20f6-d438-4a2f-9c26-f697d9d0dd29",
   "metadata": {},
   "outputs": [
    {
     "name": "stdout",
     "output_type": "stream",
     "text": [
      "        Date    Weekday\n",
      "0 2023-01-01     Sunday\n",
      "1 2023-01-02     Monday\n",
      "2 2023-01-03    Tuesday\n",
      "3 2023-01-04  Wednesday\n",
      "4 2023-01-05   Thursday\n"
     ]
    }
   ],
   "source": [
    "#ANSWER 11\n",
    "\n",
    "import pandas as pd\n",
    "\n",
    "def add_weekday_column(df):\n",
    "    df['Weekday'] = df['Date'].dt.day_name()\n",
    "    return df\n",
    "\n",
    "# Example DataFrame\n",
    "data = {'Date': pd.date_range(start='2023-01-01', periods=5)}\n",
    "df = pd.DataFrame(data)\n",
    "\n",
    "# Add weekday column\n",
    "df = add_weekday_column(df)\n",
    "print(df)\n"
   ]
  },
  {
   "cell_type": "code",
   "execution_count": 12,
   "id": "8c44bb1f-5f81-4b5a-8bb5-1f059e6bd3b1",
   "metadata": {},
   "outputs": [
    {
     "name": "stdout",
     "output_type": "stream",
     "text": [
      "         Date\n",
      "0  2023-01-01\n",
      "1  2023-01-02\n",
      "2  2023-01-03\n",
      "3  2023-01-04\n",
      "4  2023-01-05\n",
      "5  2023-01-06\n",
      "6  2023-01-07\n",
      "7  2023-01-08\n",
      "8  2023-01-09\n",
      "9  2023-01-10\n",
      "10 2023-01-11\n",
      "11 2023-01-12\n",
      "12 2023-01-13\n",
      "13 2023-01-14\n",
      "14 2023-01-15\n",
      "15 2023-01-16\n",
      "16 2023-01-17\n",
      "17 2023-01-18\n",
      "18 2023-01-19\n",
      "19 2023-01-20\n",
      "20 2023-01-21\n",
      "21 2023-01-22\n",
      "22 2023-01-23\n",
      "23 2023-01-24\n",
      "24 2023-01-25\n",
      "25 2023-01-26\n",
      "26 2023-01-27\n",
      "27 2023-01-28\n",
      "28 2023-01-29\n",
      "29 2023-01-30\n",
      "30 2023-01-31\n"
     ]
    }
   ],
   "source": [
    "#ANSWER 12\n",
    "\n",
    "import pandas as pd\n",
    "\n",
    "def select_rows_between_dates(df):\n",
    "    start_date = '2023-01-01'\n",
    "    end_date = '2023-01-31'\n",
    "    selected_rows = df[(df['Date'] >= start_date) & (df['Date'] <= end_date)]\n",
    "    return selected_rows\n",
    "\n",
    "# Example DataFrame\n",
    "data = {'Date': pd.date_range(start='2023-01-01', end='2023-02-28')}\n",
    "df = pd.DataFrame(data)\n",
    "\n",
    "# Select rows between '2023-01-01' and '2023-01-31'\n",
    "selected_df = select_rows_between_dates(df)\n",
    "print(selected_df)\n"
   ]
  },
  {
   "cell_type": "code",
   "execution_count": 13,
   "id": "269ebf08-5eb3-43c1-acd1-aa6228744477",
   "metadata": {},
   "outputs": [],
   "source": [
    "#ANSWER 13\n",
    "\n",
    "import pandas as pd\n"
   ]
  },
  {
   "cell_type": "code",
   "execution_count": null,
   "id": "976671a1-1fde-45e7-8af3-86af787c3899",
   "metadata": {},
   "outputs": [],
   "source": []
  }
 ],
 "metadata": {
  "kernelspec": {
   "display_name": "Python 3 (ipykernel)",
   "language": "python",
   "name": "python3"
  },
  "language_info": {
   "codemirror_mode": {
    "name": "ipython",
    "version": 3
   },
   "file_extension": ".py",
   "mimetype": "text/x-python",
   "name": "python",
   "nbconvert_exporter": "python",
   "pygments_lexer": "ipython3",
   "version": "3.10.8"
  }
 },
 "nbformat": 4,
 "nbformat_minor": 5
}
