{
 "cells": [
  {
   "cell_type": "code",
   "execution_count": 2,
   "id": "d467e733-8bdf-4a4d-bb60-4266ee2dedfe",
   "metadata": {},
   "outputs": [
    {
     "data": {
      "text/plain": [
       "\"Database is an organized collection of structured information or data, typically stored electronically in a computer system. It allows for efficient retrieval, insertion, and management of data.\\nSQL (Structured Query Language) databases are relational databases that use structured query language for defining and manipulating data. Examples include MySQL, PostgreSQL, and SQLite.\\nNoSQL databases, on the other hand, are non-relational databases that don't require a fixed schema and are horizontally scalable. They are designed for distributed data stores that can handle large volumes of data. Examples include MongoDB, Cassandra, and Redis.\""
      ]
     },
     "execution_count": 2,
     "metadata": {},
     "output_type": "execute_result"
    }
   ],
   "source": [
    "#ANSWER 1\n",
    "\n",
    "'''Database is an organized collection of structured information or data, typically stored electronically in a computer system. It allows for efficient retrieval, insertion, and management of data.\n",
    "SQL (Structured Query Language) databases are relational databases that use structured query language for defining and manipulating data. Examples include MySQL, PostgreSQL, and SQLite.\n",
    "NoSQL databases, on the other hand, are non-relational databases that don't require a fixed schema and are horizontally scalable. They are designed for distributed data stores that can handle large volumes of data. Examples include MongoDB, Cassandra, and Redis.'''"
   ]
  },
  {
   "cell_type": "code",
   "execution_count": 5,
   "id": "feffd7e5-33d5-4561-8430-edcc3f913622",
   "metadata": {},
   "outputs": [
    {
     "data": {
      "text/plain": [
       "' DDL (Data Definition Language) is a subset of SQL used for defining and modifying the structure of database objects.\\nCREATE is used to create new database objects like tables, indexes, or views.\\nDROP is used to delete existing database objects.\\nALTER is used to modify the structure of existing database objects.\\nTRUNCATE is used to delete all records from a table without removing the table structure.'"
      ]
     },
     "execution_count": 5,
     "metadata": {},
     "output_type": "execute_result"
    }
   ],
   "source": [
    "#ANSWER 2 \n",
    "\n",
    "''' DDL (Data Definition Language) is a subset of SQL used for defining and modifying the structure of database objects.\n",
    "CREATE is used to create new database objects like tables, indexes, or views.\n",
    "DROP is used to delete existing database objects.\n",
    "ALTER is used to modify the structure of existing database objects.\n",
    "TRUNCATE is used to delete all records from a table without removing the table structure.'''\n",
    "\n",
    "#FOE EXAMPLE\n",
    "\n",
    "\n"
   ]
  },
  {
   "cell_type": "code",
   "execution_count": null,
   "id": "b83db91e-14a7-4c4a-9f9c-999fd1e05eb2",
   "metadata": {},
   "outputs": [],
   "source": [
    "#for example\n",
    "\n",
    "CREATE TABLE Employees (\n",
    "    ID INT PRIMARY KEY,\n",
    "    Name VARCHAR(50),\n",
    "    Age INT\n",
    ");\n",
    "\n",
    "ALTER TABLE Employees\n",
    "ADD COLUMN Salary DECIMAL(10, 2);\n",
    "\n",
    "DROP TABLE Employees;\n",
    "\n",
    "TRUNCATE TABLE Employees;\n"
   ]
  },
  {
   "cell_type": "code",
   "execution_count": 8,
   "id": "ee575fd5-31ee-4464-92d8-dd872712327b",
   "metadata": {},
   "outputs": [
    {
     "data": {
      "text/plain": [
       "'DML (Data Manipulation Language) is used for manipulating data within database objects like tables.\\nINSERT is used to add new records to a table.\\nUPDATE is used to modify existing records in a table.\\nDELETE is used to remove records from a table.'"
      ]
     },
     "execution_count": 8,
     "metadata": {},
     "output_type": "execute_result"
    }
   ],
   "source": [
    "#ANSWER 3\n",
    "\n",
    "'''DML (Data Manipulation Language) is used for manipulating data within database objects like tables.\n",
    "INSERT is used to add new records to a table.\n",
    "UPDATE is used to modify existing records in a table.\n",
    "DELETE is used to remove records from a table.'''"
   ]
  },
  {
   "cell_type": "code",
   "execution_count": 9,
   "id": "e2f25247-b8a2-4c3a-92ac-d07127c3d59b",
   "metadata": {},
   "outputs": [
    {
     "ename": "SyntaxError",
     "evalue": "invalid syntax (559545237.py, line 1)",
     "output_type": "error",
     "traceback": [
      "\u001b[0;36m  Cell \u001b[0;32mIn[9], line 1\u001b[0;36m\u001b[0m\n\u001b[0;31m    -- Inserting a record into the Employees table\u001b[0m\n\u001b[0m                 ^\u001b[0m\n\u001b[0;31mSyntaxError\u001b[0m\u001b[0;31m:\u001b[0m invalid syntax\n"
     ]
    }
   ],
   "source": [
    "-- Inserting a record into the Employees table\n",
    "INSERT INTO Employees (ID, Name, Age, Salary) VALUES (1, 'John', 30, 50000);\n",
    "\n",
    "-- Updating the salary of an employee\n",
    "UPDATE Employees SET Salary = 55000 WHERE Name = 'John';\n",
    "\n",
    "-- Deleting a record from the Employees table\n",
    "DELETE FROM Employees WHERE ID = 1;\n"
   ]
  },
  {
   "cell_type": "code",
   "execution_count": 10,
   "id": "a55a6a27-4053-4318-a1ef-4a673612a3cc",
   "metadata": {},
   "outputs": [
    {
     "data": {
      "text/plain": [
       "'DQL (Data Query Language) is used to retrieve data from the database.\\nSELECT is the most commonly used DQL command, which retrieves data from one or more tables based on specified criteria.'"
      ]
     },
     "execution_count": 10,
     "metadata": {},
     "output_type": "execute_result"
    }
   ],
   "source": [
    "#ANSWER 4\n",
    "\n",
    "'''DQL (Data Query Language) is used to retrieve data from the database.\n",
    "SELECT is the most commonly used DQL command, which retrieves data from one or more tables based on specified criteria.'''"
   ]
  },
  {
   "cell_type": "code",
   "execution_count": 11,
   "id": "15c33066-df16-4b87-9573-37e7caf73017",
   "metadata": {},
   "outputs": [
    {
     "ename": "SyntaxError",
     "evalue": "invalid syntax (3819072622.py, line 1)",
     "output_type": "error",
     "traceback": [
      "\u001b[0;36m  Cell \u001b[0;32mIn[11], line 1\u001b[0;36m\u001b[0m\n\u001b[0;31m    -- Selecting all columns from the Employees table\u001b[0m\n\u001b[0m                 ^\u001b[0m\n\u001b[0;31mSyntaxError\u001b[0m\u001b[0;31m:\u001b[0m invalid syntax\n"
     ]
    }
   ],
   "source": [
    "-- Selecting all columns from the Employees table\n",
    "SELECT * FROM Employees;\n",
    "\n",
    "-- Selecting specific columns from the Employees table\n",
    "SELECT Name, Age FROM Employees WHERE Salary > 50000;\n"
   ]
  },
  {
   "cell_type": "code",
   "execution_count": 12,
   "id": "a4942281-9f24-4179-8c95-6ee4532982c1",
   "metadata": {},
   "outputs": [
    {
     "data": {
      "text/plain": [
       "'Primary Key: A primary key is a column or a set of columns that uniquely identifies each row in a table. It enforces the entity integrity of the table. Primary keys are typically used to ensure data integrity and to establish relationships between tables.\\nForeign Key: A foreign key is a column or a set of columns in a table that refers to the primary key of another table. It establishes a link between two tables and enforces referential integrity. Foreign keys ensure that the values in the referencing column(s) of one table match the values in the referenced column(s) of another table.'"
      ]
     },
     "execution_count": 12,
     "metadata": {},
     "output_type": "execute_result"
    }
   ],
   "source": [
    "#ANSWER 5\n",
    "\n",
    "'''Primary Key: A primary key is a column or a set of columns that uniquely identifies each row in a table. It enforces the entity integrity of the table. Primary keys are typically used to ensure data integrity and to establish relationships between tables.\n",
    "Foreign Key: A foreign key is a column or a set of columns in a table that refers to the primary key of another table. It establishes a link between two tables and enforces referential integrity. Foreign keys ensure that the values in the referencing column(s) of one table match the values in the referenced column(s) of another table.'''"
   ]
  },
  {
   "cell_type": "code",
   "execution_count": null,
   "id": "4336c283-ace8-4b80-a535-95ef59aafc02",
   "metadata": {},
   "outputs": [],
   "source": [
    "#ANSWER 6 \n",
    "import mysql.connector\n",
    "\n",
    "# Establishing connection to MySQL\n",
    "conn = mysql.connector.connect(\n",
    "    host=\"localhost\",\n",
    "    user=\"yourusername\",\n",
    "    password=\"yourpassword\",\n",
    "    database=\"yourdatabase\"\n",
    ")\n",
    "\n",
    "# Creating a cursor object\n",
    "cursor = conn.cursor()\n",
    "\n",
    "# Executing a SQL query\n",
    "cursor.execute(\"SELECT * FROM Employees\")\n",
    "\n",
    "# Fetching results\n",
    "results = cursor.fetchall()\n",
    "\n",
    "# Printing results\n",
    "for row in results:\n",
    "    print(row)\n",
    "\n",
    "# Closing cursor and connection\n",
    "cursor.close()\n",
    "conn.close()\n"
   ]
  },
  {
   "cell_type": "code",
   "execution_count": 15,
   "id": "faa2e39b-7f0a-47b5-a1fc-57bdf7ffa0e6",
   "metadata": {},
   "outputs": [
    {
     "data": {
      "text/plain": [
       "'Explanation:\\n\\ncursor(): The cursor() method creates a cursor object, which is used to execute SQL queries.\\nexecute(): The execute() method is used to execute SQL queries. You pass the SQL query as a parameter to this method. After executing the query, you can retrieve the results using methods like fetchone() or fetchall()'"
      ]
     },
     "execution_count": 15,
     "metadata": {},
     "output_type": "execute_result"
    }
   ],
   "source": [
    "'''Explanation:\n",
    "\n",
    "cursor(): The cursor() method creates a cursor object, which is used to execute SQL queries.\n",
    "execute(): The execute() method is used to execute SQL queries. You pass the SQL query as a parameter to this method. After executing the query, you can retrieve the results using methods like fetchone() or fetchall()'''"
   ]
  },
  {
   "cell_type": "code",
   "execution_count": 16,
   "id": "c019f834-4fcc-467d-9ce6-26ba7fdbdf7e",
   "metadata": {},
   "outputs": [
    {
     "data": {
      "text/plain": [
       "'The order of execution of SQL clauses in an SQL query is generally as follows:\\n\\nFROM: Specifies the tables from which to retrieve the data.\\nWHERE: Applies conditions to filter the rows returned by the FROM clause.\\nGROUP BY: Groups the rows returned by the WHERE clause based on specified criteria.\\nHAVING: Applies conditions to the grouped rows.\\nSELECT: Selects the columns to be included in the result set based on the conditions specified in the previous clauses.\\nORDER BY: Orders the result set based on specified criteria.\\nLIMIT/OFFSET: Limits the number of rows returned or skips a specified number of rows.\\n\\n\\n\\n\\n'"
      ]
     },
     "execution_count": 16,
     "metadata": {},
     "output_type": "execute_result"
    }
   ],
   "source": [
    "#ANSWER 7\n",
    "\n",
    "'''The order of execution of SQL clauses in an SQL query is generally as follows:\n",
    "\n",
    "FROM: Specifies the tables from which to retrieve the data.\n",
    "WHERE: Applies conditions to filter the rows returned by the FROM clause.\n",
    "GROUP BY: Groups the rows returned by the WHERE clause based on specified criteria.\n",
    "HAVING: Applies conditions to the grouped rows.\n",
    "SELECT: Selects the columns to be included in the result set based on the conditions specified in the previous clauses.\n",
    "ORDER BY: Orders the result set based on specified criteria.\n",
    "LIMIT/OFFSET: Limits the number of rows returned or skips a specified number of rows.\n",
    "\n",
    "\n",
    "\n",
    "\n",
    "'''"
   ]
  },
  {
   "cell_type": "code",
   "execution_count": null,
   "id": "f684f4c0-e5ae-4171-9a28-3cab9eecc68a",
   "metadata": {},
   "outputs": [],
   "source": []
  }
 ],
 "metadata": {
  "kernelspec": {
   "display_name": "Python 3 (ipykernel)",
   "language": "python",
   "name": "python3"
  },
  "language_info": {
   "codemirror_mode": {
    "name": "ipython",
    "version": 3
   },
   "file_extension": ".py",
   "mimetype": "text/x-python",
   "name": "python",
   "nbconvert_exporter": "python",
   "pygments_lexer": "ipython3",
   "version": "3.10.8"
  }
 },
 "nbformat": 4,
 "nbformat_minor": 5
}
