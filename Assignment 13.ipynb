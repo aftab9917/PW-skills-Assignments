{
 "cells": [
  {
   "cell_type": "code",
   "execution_count": 1,
   "id": "7784c98a-3c7a-4354-9b41-a69d763f5d18",
   "metadata": {},
   "outputs": [
    {
     "data": {
      "text/plain": [
       "\"MongoDB is a popular open-source, document-oriented NoSQL database that provides high performance, high availability, and easy scalability.\\nNon-relational databases, or NoSQL databases, store and manage data in a way that doesn't require a fixed schema like traditional relational databases. They are generally more flexible and scalable, making them suitable for handling large volumes of unstructured or semi-structured data.\\nMongoDB is preferred over SQL databases in scenarios where:\\nThere is a need for flexibility in data structure, as MongoDB does not require a predefined schema.\\nRapid development and iteration are required, as MongoDB's document-oriented model allows for easy modification of data schema.\\nScalability is a concern, as MongoDB is designed to scale out horizontally across multiple servers.\\nThere is a need for handling semi-structured or unstructured data, such as JSON documents.\""
      ]
     },
     "execution_count": 1,
     "metadata": {},
     "output_type": "execute_result"
    }
   ],
   "source": [
    "#ANSWER 1\n",
    "\n",
    "'''MongoDB is a popular open-source, document-oriented NoSQL database that provides high performance, high availability, and easy scalability.\n",
    "Non-relational databases, or NoSQL databases, store and manage data in a way that doesn't require a fixed schema like traditional relational databases. They are generally more flexible and scalable, making them suitable for handling large volumes of unstructured or semi-structured data.\n",
    "MongoDB is preferred over SQL databases in scenarios where:\n",
    "There is a need for flexibility in data structure, as MongoDB does not require a predefined schema.\n",
    "Rapid development and iteration are required, as MongoDB's document-oriented model allows for easy modification of data schema.\n",
    "Scalability is a concern, as MongoDB is designed to scale out horizontally across multiple servers.\n",
    "There is a need for handling semi-structured or unstructured data, such as JSON documents.'''"
   ]
  },
  {
   "cell_type": "code",
   "execution_count": 2,
   "id": "f70b8bf7-16c1-4cad-82d2-8154bda2ab01",
   "metadata": {},
   "outputs": [
    {
     "data": {
      "text/plain": [
       "'Document-Oriented: MongoDB stores data in flexible, JSON-like documents, allowing for nested data structures.\\nHigh Performance: MongoDB provides high performance due to its efficient indexing and querying mechanisms.\\nScalability: MongoDB is horizontally scalable, allowing it to handle large volumes of data and high throughput applications.\\nHigh Availability: MongoDB supports replication and automatic failover, ensuring high availability of data.\\nDynamic Schema: MongoDB does not require a predefined schema, allowing for easy modification and evolution of data structure.\\nRich Query Language: MongoDB supports a powerful query language, including support for ad-hoc queries, indexing, and aggregation.\\nAggregation Framework: MongoDB provides an aggregation framework for performing complex data aggregation operations.\\nGeospatial Indexing: MongoDB supports geospatial indexing and queries for location-based data.\\nGridFS: MongoDB provides GridFS for storing and retrieving large files, exceeding the BSON-document size limit.'"
      ]
     },
     "execution_count": 2,
     "metadata": {},
     "output_type": "execute_result"
    }
   ],
   "source": [
    "#ANSWER 2\n",
    "\n",
    "'''Document-Oriented: MongoDB stores data in flexible, JSON-like documents, allowing for nested data structures.\n",
    "High Performance: MongoDB provides high performance due to its efficient indexing and querying mechanisms.\n",
    "Scalability: MongoDB is horizontally scalable, allowing it to handle large volumes of data and high throughput applications.\n",
    "High Availability: MongoDB supports replication and automatic failover, ensuring high availability of data.\n",
    "Dynamic Schema: MongoDB does not require a predefined schema, allowing for easy modification and evolution of data structure.\n",
    "Rich Query Language: MongoDB supports a powerful query language, including support for ad-hoc queries, indexing, and aggregation.\n",
    "Aggregation Framework: MongoDB provides an aggregation framework for performing complex data aggregation operations.\n",
    "Geospatial Indexing: MongoDB supports geospatial indexing and queries for location-based data.\n",
    "GridFS: MongoDB provides GridFS for storing and retrieving large files, exceeding the BSON-document size limit.'''"
   ]
  },
  {
   "cell_type": "code",
   "execution_count": null,
   "id": "0f666ce4-3d06-400d-8319-2c5bd3ebbc40",
   "metadata": {},
   "outputs": [],
   "source": [
    "#ANSWER 3\n",
    "\n",
    "import pymongo\n",
    "\n",
    "# Connecting to MongoDB server\n",
    "client = pymongo.MongoClient(\"mongodb://localhost:27017/\")\n",
    "\n",
    "# Creating or accessing a database\n",
    "mydb = client[\"mydatabase\"]\n",
    "\n",
    "# Creating or accessing a collection\n",
    "mycol = mydb[\"mycollection\"]\n"
   ]
  },
  {
   "cell_type": "code",
   "execution_count": null,
   "id": "2377aa0e-9278-41f0-8b36-1d7582393055",
   "metadata": {},
   "outputs": [],
   "source": [
    "#ANSWER 4\n",
    "\n",
    "# Inserting one record\n",
    "record = {\"name\": \"John\", \"age\": 30, \"city\": \"New York\"}\n",
    "mycol.insert_one(record)\n",
    "\n",
    "# Inserting many records\n",
    "records = [\n",
    "    {\"name\": \"Alice\", \"age\": 25, \"city\": \"London\"},\n",
    "    {\"name\": \"Bob\", \"age\": 35, \"city\": \"Paris\"}\n",
    "]\n",
    "mycol.insert_many(records)\n",
    "\n",
    "# Printing inserted record using find_one()\n",
    "print(\"Inserted record:\")\n",
    "print(mycol.find_one())\n",
    "\n",
    "# Printing all records using find()\n",
    "print(\"All records:\")\n",
    "for record in mycol.find():\n",
    "    print(record)\n"
   ]
  },
  {
   "cell_type": "code",
   "execution_count": null,
   "id": "93ff1c38-69a3-4210-982e-381a75d04f25",
   "metadata": {},
   "outputs": [],
   "source": [
    "#ANSWER 5\n",
    "\n",
    "'''The find() method is used to query MongoDB collections to retrieve documents that match specified criteria. You can pass a query filter as an argument to filter the documents returned.'''"
   ]
  },
  {
   "cell_type": "code",
   "execution_count": 5,
   "id": "3d694a74-b366-42c1-8bcf-b9fe3c845c84",
   "metadata": {},
   "outputs": [
    {
     "ename": "NameError",
     "evalue": "name 'mycol' is not defined",
     "output_type": "error",
     "traceback": [
      "\u001b[0;31m---------------------------------------------------------------------------\u001b[0m",
      "\u001b[0;31mNameError\u001b[0m                                 Traceback (most recent call last)",
      "Cell \u001b[0;32mIn[5], line 3\u001b[0m\n\u001b[1;32m      1\u001b[0m \u001b[38;5;66;03m# Finding documents with age greater than 30\u001b[39;00m\n\u001b[1;32m      2\u001b[0m query \u001b[38;5;241m=\u001b[39m {\u001b[38;5;124m\"\u001b[39m\u001b[38;5;124mage\u001b[39m\u001b[38;5;124m\"\u001b[39m: {\u001b[38;5;124m\"\u001b[39m\u001b[38;5;124m$gt\u001b[39m\u001b[38;5;124m\"\u001b[39m: \u001b[38;5;241m30\u001b[39m}}\n\u001b[0;32m----> 3\u001b[0m results \u001b[38;5;241m=\u001b[39m \u001b[43mmycol\u001b[49m\u001b[38;5;241m.\u001b[39mfind(query)\n\u001b[1;32m      5\u001b[0m \u001b[38;5;66;03m# Printing the matching documents\u001b[39;00m\n\u001b[1;32m      6\u001b[0m \u001b[38;5;28;01mfor\u001b[39;00m result \u001b[38;5;129;01min\u001b[39;00m results:\n",
      "\u001b[0;31mNameError\u001b[0m: name 'mycol' is not defined"
     ]
    }
   ],
   "source": [
    "# Finding documents with age greater than 30\n",
    "query = {\"age\": {\"$gt\": 30}}\n",
    "results = mycol.find(query)\n",
    "\n",
    "# Printing the matching documents\n",
    "for result in results:\n",
    "    print(result)\n"
   ]
  },
  {
   "cell_type": "code",
   "execution_count": null,
   "id": "0294df6b-d008-44f8-b380-28d8967c2aa4",
   "metadata": {},
   "outputs": [],
   "source": [
    "#ANSWER 6\n",
    "''''The sort() method in MongoDB is used to sort the documents in a collection based on specified fields and sorting order.'''\n"
   ]
  },
  {
   "cell_type": "code",
   "execution_count": null,
   "id": "9b13d9ef-7806-43bc-9496-723877e71f30",
   "metadata": {},
   "outputs": [],
   "source": [
    "# Sorting documents by age in ascending order\n",
    "results = mycol.find().sort(\"age\")\n",
    "\n",
    "# Printing the sorted documents\n",
    "for result in results:\n",
    "    print(result)\n"
   ]
  },
  {
   "cell_type": "code",
   "execution_count": 6,
   "id": "3dda41bd-1410-4546-9745-08c0198008d8",
   "metadata": {},
   "outputs": [
    {
     "data": {
      "text/plain": [
       "'delete_one(): This method is used to delete a single document from a collection that matches the specified criteria.\\ndelete_many(): This method is used to delete multiple documents from a collection that match the specified criteria.\\ndrop(): This method is used to drop the entire collection from the database, effectively deleting all documents in the collection.\\nThese methods are used to remove data from MongoDB collections based on specific criteria, either one document at a time or in bulk. The drop() method is used when you want to remove an entire collection.'"
      ]
     },
     "execution_count": 6,
     "metadata": {},
     "output_type": "execute_result"
    }
   ],
   "source": [
    "#ANSWER 7\n",
    "\n",
    "'''delete_one(): This method is used to delete a single document from a collection that matches the specified criteria.\n",
    "delete_many(): This method is used to delete multiple documents from a collection that match the specified criteria.\n",
    "drop(): This method is used to drop the entire collection from the database, effectively deleting all documents in the collection.\n",
    "These methods are used to remove data from MongoDB collections based on specific criteria, either one document at a time or in bulk. The drop() method is used when you want to remove an entire collection.'''"
   ]
  },
  {
   "cell_type": "code",
   "execution_count": null,
   "id": "96900a0e-9d19-490c-9472-c65baa60e689",
   "metadata": {},
   "outputs": [],
   "source": []
  }
 ],
 "metadata": {
  "kernelspec": {
   "display_name": "Python 3 (ipykernel)",
   "language": "python",
   "name": "python3"
  },
  "language_info": {
   "codemirror_mode": {
    "name": "ipython",
    "version": 3
   },
   "file_extension": ".py",
   "mimetype": "text/x-python",
   "name": "python",
   "nbconvert_exporter": "python",
   "pygments_lexer": "ipython3",
   "version": "3.10.8"
  }
 },
 "nbformat": 4,
 "nbformat_minor": 5
}
