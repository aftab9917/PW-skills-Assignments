{
 "cells": [
  {
   "cell_type": "code",
   "execution_count": 1,
   "id": "f05605ff-97a8-4b57-ae76-ecbb952a7a17",
   "metadata": {},
   "outputs": [
    {
     "data": {
      "text/plain": [
       "'Estimation Statistics: It involves estimating unknown parameters of a population using sample data.\\nPoint Estimate: A single value used to estimate an unknown population parameter. Example: Sample mean (\\n�\\nˉ\\nx\\nˉ\\n ) is a point estimate of population mean (\\n�\\nμ).\\nInterval Estimate: A range of values used to estimate an unknown population parameter, usually accompanied by a confidence level. Example: Confidence interval for population mean.'"
      ]
     },
     "execution_count": 1,
     "metadata": {},
     "output_type": "execute_result"
    }
   ],
   "source": [
    "#ANSWER 1\n",
    "\n",
    "'''Estimation Statistics: It involves estimating unknown parameters of a population using sample data.\n",
    "Point Estimate: A single value used to estimate an unknown population parameter. Example: Sample mean (\n",
    "�\n",
    "ˉ\n",
    "x\n",
    "ˉ\n",
    " ) is a point estimate of population mean (\n",
    "�\n",
    "μ).\n",
    "Interval Estimate: A range of values used to estimate an unknown population parameter, usually accompanied by a confidence level. Example: Confidence interval for population mean.'''"
   ]
  },
  {
   "cell_type": "code",
   "execution_count": 2,
   "id": "b5c4bb2a-17d7-4f25-91f7-8c09862129f7",
   "metadata": {},
   "outputs": [
    {
     "name": "stdout",
     "output_type": "stream",
     "text": [
      "Estimated population mean: 70\n"
     ]
    }
   ],
   "source": [
    "#ANSWER 2\n",
    "\n",
    "def estimate_population_mean(sample_mean, sample_std_dev, sample_size):\n",
    "    # Using sample mean as point estimate of population mean\n",
    "    return sample_mean\n",
    "\n",
    "# Example usage\n",
    "sample_mean = 70\n",
    "sample_std_dev = 5\n",
    "sample_size = 100\n",
    "population_mean = estimate_population_mean(sample_mean, sample_std_dev, sample_size)\n",
    "print(\"Estimated population mean:\", population_mean)\n"
   ]
  },
  {
   "cell_type": "code",
   "execution_count": 3,
   "id": "bfc10431-13b7-4824-8d8a-767dc600c1b7",
   "metadata": {},
   "outputs": [
    {
     "data": {
      "text/plain": [
       "\"Hypothesis testing: It's a statistical method used to make inferences about population parameters based on sample data.\\nImportance: Hypothesis testing helps in decision making, determining if results are statistically significant, and drawing conclusions about the population.\""
      ]
     },
     "execution_count": 3,
     "metadata": {},
     "output_type": "execute_result"
    }
   ],
   "source": [
    "#ANSWER 3\n",
    "\n",
    "'''Hypothesis testing: It's a statistical method used to make inferences about population parameters based on sample data.\n",
    "Importance: Hypothesis testing helps in decision making, determining if results are statistically significant, and drawing conclusions about the population.'''"
   ]
  },
  {
   "cell_type": "code",
   "execution_count": 4,
   "id": "ce028334-8f9c-46a1-b1cf-8d0a6b11f500",
   "metadata": {},
   "outputs": [
    {
     "data": {
      "text/plain": [
       "'Null Hypothesis (H0): The average weight of male college students is equal to or less than the average weight of female college students.\\nAlternative Hypothesis (H1): The average weight of male college students is greater than the average weight of female college students.'"
      ]
     },
     "execution_count": 4,
     "metadata": {},
     "output_type": "execute_result"
    }
   ],
   "source": [
    "#ANSWER 4\n",
    "\n",
    "'''Null Hypothesis (H0): The average weight of male college students is equal to or less than the average weight of female college students.\n",
    "Alternative Hypothesis (H1): The average weight of male college students is greater than the average weight of female college students.'''\n",
    "\n"
   ]
  },
  {
   "cell_type": "code",
   "execution_count": 5,
   "id": "88338d9a-e2c5-4978-94f1-8cf27ef0e011",
   "metadata": {},
   "outputs": [
    {
     "name": "stdout",
     "output_type": "stream",
     "text": [
      "Fail to reject the null hypothesis. There is no significant difference between population means.\n"
     ]
    }
   ],
   "source": [
    "#ANSWER 5\n",
    "\n",
    "from scipy.stats import ttest_ind\n",
    "\n",
    "def hypothesis_test(sample1, sample2, alpha):\n",
    "    # Perform independent t-test\n",
    "    t_statistic, p_value = ttest_ind(sample1, sample2)\n",
    "    \n",
    "    # Compare p-value with significance level\n",
    "    if p_value < alpha:\n",
    "        print(\"Reject the null hypothesis. There is a significant difference between population means.\")\n",
    "    else:\n",
    "        print(\"Fail to reject the null hypothesis. There is no significant difference between population means.\")\n",
    "\n",
    "# Example usage\n",
    "sample1 = [78, 82, 85, 88, 92]\n",
    "sample2 = [75, 80, 84, 87, 90]\n",
    "alpha = 0.05\n",
    "hypothesis_test(sample1, sample2, alpha)\n"
   ]
  },
  {
   "cell_type": "code",
   "execution_count": 6,
   "id": "8c97678e-2c95-49a6-b7b0-9c5c3d9786ee",
   "metadata": {},
   "outputs": [
    {
     "data": {
      "text/plain": [
       "'Null Hypothesis (H0): It represents the default or status quo assumption. Example: The mean weight of a population is equal to 70 kg.\\nAlternative Hypothesis (H1): It represents the opposite of the null hypothesis. Example: The mean weight of a population is not equal to 70 kg.'"
      ]
     },
     "execution_count": 6,
     "metadata": {},
     "output_type": "execute_result"
    }
   ],
   "source": [
    "#ANSWER 6\n",
    "\n",
    "'''Null Hypothesis (H0): It represents the default or status quo assumption. Example: The mean weight of a population is equal to 70 kg.\n",
    "Alternative Hypothesis (H1): It represents the opposite of the null hypothesis. Example: The mean weight of a population is not equal to 70 kg.'''"
   ]
  },
  {
   "cell_type": "code",
   "execution_count": 9,
   "id": "f67e7b8a-5993-4770-87e4-0d5323ac365d",
   "metadata": {},
   "outputs": [
    {
     "data": {
      "text/plain": [
       "' null and alternative hypotheses.\\nSelect a significance level (\\n�\\nα).\\nCollect sample data and calculate test statistics.\\nDetermine the p-value.\\nMake a decision based on the p-value:\\nIf p-value < \\n�\\nα, reject the null hypothesis.\\nIf p-value ≥ \\n�\\nα, fail to reject the null hypothesis.'"
      ]
     },
     "execution_count": 9,
     "metadata": {},
     "output_type": "execute_result"
    }
   ],
   "source": [
    "#ANSWER 7\n",
    "\n",
    "''' null and alternative hypotheses.\n",
    "Select a significance level (\n",
    "�\n",
    "α).\n",
    "Collect sample data and calculate test statistics.\n",
    "Determine the p-value.\n",
    "Make a decision based on the p-value:\n",
    "If p-value < \n",
    "�\n",
    "α, reject the null hypothesis.\n",
    "If p-value ≥ \n",
    "�\n",
    "α, fail to reject the null hypothesis.'''"
   ]
  },
  {
   "cell_type": "code",
   "execution_count": 10,
   "id": "6c1387b6-1a45-445a-8169-d6817fe98497",
   "metadata": {},
   "outputs": [
    {
     "data": {
      "text/plain": [
       "\"p-value: It's the probability of observing a test statistic as extreme as, or more extreme than, the one observed in the sample data, assuming the null hypothesis is true.\\nSignificance:\\nA small p-value (< \\n�\\nα) suggests that the observed results are unlikely under the null hypothesis, leading to the rejection of the null hypothesis.\\nA large p-value (≥ \\n�\\nα) suggests that the observed results are likely under the null hypothesis, leading to the failure to reject the null hypothesis.\""
      ]
     },
     "execution_count": 10,
     "metadata": {},
     "output_type": "execute_result"
    }
   ],
   "source": [
    "#ANSWER 8\n",
    "\n",
    "'''p-value: It's the probability of observing a test statistic as extreme as, or more extreme than, the one observed in the sample data, assuming the null hypothesis is true.\n",
    "Significance:\n",
    "A small p-value (< \n",
    "�\n",
    "α) suggests that the observed results are unlikely under the null hypothesis, leading to the rejection of the null hypothesis.\n",
    "A large p-value (≥ \n",
    "�\n",
    "α) suggests that the observed results are likely under the null hypothesis, leading to the failure to reject the null hypothesis.'''"
   ]
  },
  {
   "cell_type": "code",
   "execution_count": 11,
   "id": "fe023b5c-8346-40cd-b849-54ded5b05e87",
   "metadata": {},
   "outputs": [
    {
     "data": {
      "image/png": "[encoded data removed]",
      "text/plain": [
       "<Figure size 640x480 with 1 Axes>"
      ]
     },
     "metadata": {},
     "output_type": "display_data"
    }
   ],
   "source": [
    "#ANSWER 9\n",
    "\n",
    "import numpy as np\n",
    "import matplotlib.pyplot as plt\n",
    "from scipy.stats import t\n",
    "\n",
    "df = 10  # degrees of freedom\n",
    "x = np.linspace(-5, 5, 1000)\n",
    "y = t.pdf(x, df)\n",
    "\n",
    "plt.plot(x, y)\n",
    "plt.title(\"Student's t-distribution (df=10)\")\n",
    "plt.xlabel(\"x\")\n",
    "plt.ylabel(\"Probability Density\")\n",
    "plt.grid(True)\n",
    "plt.show()\n"
   ]
  },
  {
   "cell_type": "code",
   "execution_count": 12,
   "id": "8ad8a652-9753-4692-8e9c-66f98686fbf2",
   "metadata": {},
   "outputs": [
    {
     "name": "stdout",
     "output_type": "stream",
     "text": [
      "Fail to reject the null hypothesis. There is no significant difference between population means.\n"
     ]
    }
   ],
   "source": [
    "#ANSWER 10\n",
    "\n",
    "from scipy.stats import ttest_ind\n",
    "\n",
    "def two_sample_t_test(sample1, sample2, alpha):\n",
    "    t_statistic, p_value = ttest_ind(sample1, sample2)\n",
    "    if p_value < alpha:\n",
    "        print(\"Reject the null hypothesis. There is a significant difference between population means.\")\n",
    "    else:\n",
    "        print(\"Fail to reject the null hypothesis. There is no significant difference between population means.\")\n",
    "\n",
    "# Example usage\n",
    "sample1 = [78, 82, 85, 88, 92]\n",
    "sample2 = [75, 80, 84, 87, 90]\n",
    "alpha = 0.05\n",
    "two_sample_t_test(sample1, sample2, alpha)\n"
   ]
  },
  {
   "cell_type": "code",
   "execution_count": 13,
   "id": "87631fae-6c8f-4f7b-a344-cb5beec8f72b",
   "metadata": {},
   "outputs": [
    {
     "data": {
      "text/plain": [
       "\"Student’s t Distribution: It's a probability distribution that arises when estimating the mean of a normally distributed population in situations where the sample size is small or the population standard deviation is unknown.\\nWhen to use t-Distribution: It's used when:\\nSample size is small (typically < 30).\\nPopulation standard deviation is unknown.\""
      ]
     },
     "execution_count": 13,
     "metadata": {},
     "output_type": "execute_result"
    }
   ],
   "source": [
    "#ANSWER 11\n",
    "\n",
    "'''Student’s t Distribution: It's a probability distribution that arises when estimating the mean of a normally distributed population in situations where the sample size is small or the population standard deviation is unknown.\n",
    "When to use t-Distribution: It's used when:\n",
    "Sample size is small (typically < 30).\n",
    "Population standard deviation is unknown.'''"
   ]
  },
  {
   "cell_type": "code",
   "execution_count": 14,
   "id": "4d0255ca-7361-4a37-8380-2276eb2906ac",
   "metadata": {},
   "outputs": [
    {
     "data": {
      "text/plain": [
       "\"t-statistic: It's a measure used in hypothesis testing to determine if there's a significant difference between the means of two groups.\\nFormula: t = \\x0crac{{\\x08ar{x}_1 - \\x08ar{x}_2}}{{\\\\sqrt{\\x0crac{{s_1^2}}{{n_1}} + \\x0crac{{s_2^2}}{{n_2}}}}\""
      ]
     },
     "execution_count": 14,
     "metadata": {},
     "output_type": "execute_result"
    }
   ],
   "source": [
    "#ANSWER 12\n",
    "\n",
    "'''t-statistic: It's a measure used in hypothesis testing to determine if there's a significant difference between the means of two groups.\n",
    "Formula: t = \\frac{{\\bar{x}_1 - \\bar{x}_2}}{{\\sqrt{\\frac{{s_1^2}}{{n_1}} + \\frac{{s_2^2}}{{n_2}}}}'''"
   ]
  },
  {
   "cell_type": "code",
   "execution_count": 15,
   "id": "173d20fe-c5fd-437e-a2e8-24ea6f45b19e",
   "metadata": {},
   "outputs": [
    {
     "data": {
      "text/plain": [
       "'Using the sample mean revenue of $500 and standard deviation of $50, with a sample size of 50, the 95% confidence interval for the population mean revenue would be approximately $500 ± (1.96 * ($50 / sqrt(50))).'"
      ]
     },
     "execution_count": 15,
     "metadata": {},
     "output_type": "execute_result"
    }
   ],
   "source": [
    "#ANSWER 13\n",
    "\n",
    "'''Using the sample mean revenue of $500 and standard deviation of $50, with a sample size of 50, the 95% confidence interval for the population mean revenue would be approximately $500 ± (1.96 * ($50 / sqrt(50))).'''"
   ]
  },
  {
   "cell_type": "code",
   "execution_count": 16,
   "id": "e2daff6f-d56a-403c-9508-18856f36a525",
   "metadata": {},
   "outputs": [
    {
     "data": {
      "text/plain": [
       "'Given a sample mean decrease in blood pressure of 8 mmHg with a standard deviation of 3 mmHg and a sample size of 100, conduct a one-sample t-test comparing the sample mean to the hypothesized population mean of 10 mmHg with a significance level of 0.05.'"
      ]
     },
     "execution_count": 16,
     "metadata": {},
     "output_type": "execute_result"
    }
   ],
   "source": [
    "#ANSWER 14\n",
    "\n",
    "'''Given a sample mean decrease in blood pressure of 8 mmHg with a standard deviation of 3 mmHg and a sample size of 100, conduct a one-sample t-test comparing the sample mean to the hypothesized population mean of 10 mmHg with a significance level of 0.05.'''"
   ]
  },
  {
   "cell_type": "code",
   "execution_count": 17,
   "id": "921fc7e6-dfdf-4010-850c-6c4684510384",
   "metadata": {},
   "outputs": [
    {
     "data": {
      "text/plain": [
       "'Given a sample mean weight of 4.8 pounds with a standard deviation of 0.5 pounds and a sample size of 25, conduct a one-sample t-test comparing the sample mean to the hypothesized population mean of 5 pounds with a significance level of 0.01'"
      ]
     },
     "execution_count": 17,
     "metadata": {},
     "output_type": "execute_result"
    }
   ],
   "source": [
    "#ANSWER 15\n",
    "\n",
    "'''Given a sample mean weight of 4.8 pounds with a standard deviation of 0.5 pounds and a sample size of 25, conduct a one-sample t-test comparing the sample mean to the hypothesized population mean of 5 pounds with a significance level of 0.01'''"
   ]
  },
  {
   "cell_type": "code",
   "execution_count": 18,
   "id": "e4e98f1a-a010-46ae-b3f4-fc6a8f73cedc",
   "metadata": {},
   "outputs": [
    {
     "data": {
      "text/plain": [
       "'Given two groups with sample means, standard deviations, and sample sizes, conduct an independent two-sample t-test comparing the means of the two groups with a significance level of 0.01.'"
      ]
     },
     "execution_count": 18,
     "metadata": {},
     "output_type": "execute_result"
    }
   ],
   "source": [
    "#ANSWER 16\n",
    "\n",
    "'''Given two groups with sample means, standard deviations, and sample sizes, conduct an independent two-sample t-test comparing the means of the two groups with a significance level of 0.01.'''"
   ]
  },
  {
   "cell_type": "code",
   "execution_count": 19,
   "id": "fbbd00b1-1009-4aad-82e7-260dad3ab81c",
   "metadata": {},
   "outputs": [
    {
     "data": {
      "text/plain": [
       "'Using the sample mean of 4 and standard deviation of 1.5, with a sample size of 50, the 99% confidence interval for the population mean would be approximately 4 ± (2.576 * (1.5 / sqrt(50))).'"
      ]
     },
     "execution_count": 19,
     "metadata": {},
     "output_type": "execute_result"
    }
   ],
   "source": [
    "#ANSWER 17\n",
    "\n",
    "'''Using the sample mean of 4 and standard deviation of 1.5, with a sample size of 50, the 99% confidence interval for the population mean would be approximately 4 ± (2.576 * (1.5 / sqrt(50))).'''\n"
   ]
  },
  {
   "cell_type": "code",
   "execution_count": null,
   "id": "e7f7240f-773d-4591-bc5d-b40d5b72442e",
   "metadata": {},
   "outputs": [],
   "source": []
  }
 ],
 "metadata": {
  "kernelspec": {
   "display_name": "Python 3 (ipykernel)",
   "language": "python",
   "name": "python3"
  },
  "language_info": {
   "codemirror_mode": {
    "name": "ipython",
    "version": 3
   },
   "file_extension": ".py",
   "mimetype": "text/x-python",
   "name": "python",
   "nbconvert_exporter": "python",
   "pygments_lexer": "ipython3",
   "version": "3.10.8"
  }
 },
 "nbformat": 4,
 "nbformat_minor": 5
}
