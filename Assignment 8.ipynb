{
 "cells": [
  {
   "cell_type": "code",
   "execution_count": 1,
   "id": "7af0ee50-ccfc-4973-89a7-1e1f3734a32d",
   "metadata": {},
   "outputs": [
    {
     "data": {
      "text/plain": [
       "\"Exception in Python:\\n\\nAn exception is a runtime error or an abnormal event that occurs during the execution of a program.\\nPython uses a mechanism called exception handling to deal with errors and unexpected situations.\\nDifference between exceptions and syntax errors:\\n\\nSyntax Errors:\\n\\nSyntax errors occur during the parsing of code, i.e., when the Python interpreter encounters incorrect syntax in your script.\\nThese errors are detected before the program is executed, and the program will not run until the syntax errors are corrected.\\nExamples of syntax errors include missing colons, mismatched parentheses, or using incorrect keywords.\\nExceptions:\\n\\nExceptions occur during the execution of a program, after it has passed the parsing stage.\\nUnlike syntax errors, exceptions are not necessarily fatal; they can be handled using exception handling mechanisms.\\nExamples of exceptions include division by zero, accessing an index that is out of range, or trying to open a file that doesn't exist.\\nIn summary, syntax errors are detected by the Python interpreter during the parsing phase, preventing the program from running, while exceptions are runtime errors that occur during program execution and can be handled using try-except blocks.\""
      ]
     },
     "execution_count": 1,
     "metadata": {},
     "output_type": "execute_result"
    }
   ],
   "source": [
    "#ANSWER 1\n",
    "\n",
    "'''Exception in Python:\n",
    "\n",
    "An exception is a runtime error or an abnormal event that occurs during the execution of a program.\n",
    "Python uses a mechanism called exception handling to deal with errors and unexpected situations.\n",
    "Difference between exceptions and syntax errors:\n",
    "\n",
    "Syntax Errors:\n",
    "\n",
    "Syntax errors occur during the parsing of code, i.e., when the Python interpreter encounters incorrect syntax in your script.\n",
    "These errors are detected before the program is executed, and the program will not run until the syntax errors are corrected.\n",
    "Examples of syntax errors include missing colons, mismatched parentheses, or using incorrect keywords.\n",
    "Exceptions:\n",
    "\n",
    "Exceptions occur during the execution of a program, after it has passed the parsing stage.\n",
    "Unlike syntax errors, exceptions are not necessarily fatal; they can be handled using exception handling mechanisms.\n",
    "Examples of exceptions include division by zero, accessing an index that is out of range, or trying to open a file that doesn't exist.\n",
    "In summary, syntax errors are detected by the Python interpreter during the parsing phase, preventing the program from running, while exceptions are runtime errors that occur during program execution and can be handled using try-except blocks.'''\n",
    "\n",
    "\n",
    "\n",
    "\n",
    "\n"
   ]
  },
  {
   "cell_type": "code",
   "execution_count": 3,
   "id": "6af2a1ef-1ed8-41c9-af6b-5df6a6017c44",
   "metadata": {},
   "outputs": [
    {
     "data": {
      "text/plain": [
       "\"When an exception is not handled in a program, it leads to what is known as an unhandled exception, and it typically results in the termination of the program. Here's what happens:\\n\\nProgram Termination:\\n\\nIf an exception occurs and there is no code to handle that specific exception, the program stops its normal execution and terminates.\\nThe Python interpreter prints an error message, including information about the type of exception and the line number where the exception occurred.\\nError Message:\\n\\nPython provides a traceback that shows the sequence of calls leading to the point where the unhandled exception occurred.\\nThe error message helps developers identify the cause of the exception and fix the issue in the code.\\nInterrupted Execution:\\n\\nThe program's execution is interrupted at the point where the unhandled exception occurred. Any code after that point in the program will not be executed\\nHere's a simple example to illustrate what happens when an exception is not handled:\""
      ]
     },
     "execution_count": 3,
     "metadata": {},
     "output_type": "execute_result"
    }
   ],
   "source": [
    "#ANSWER 2\n",
    "\n",
    "'''When an exception is not handled in a program, it leads to what is known as an unhandled exception, and it typically results in the termination of the program. Here's what happens:\n",
    "\n",
    "Program Termination:\n",
    "\n",
    "If an exception occurs and there is no code to handle that specific exception, the program stops its normal execution and terminates.\n",
    "The Python interpreter prints an error message, including information about the type of exception and the line number where the exception occurred.\n",
    "Error Message:\n",
    "\n",
    "Python provides a traceback that shows the sequence of calls leading to the point where the unhandled exception occurred.\n",
    "The error message helps developers identify the cause of the exception and fix the issue in the code.\n",
    "Interrupted Execution:\n",
    "\n",
    "The program's execution is interrupted at the point where the unhandled exception occurred. Any code after that point in the program will not be executed\n",
    "Here's a simple example to illustrate what happens when an exception is not handled:'''"
   ]
  },
  {
   "cell_type": "code",
   "execution_count": 4,
   "id": "565cf141-a7ea-46a3-9bdc-35f3a22a29a2",
   "metadata": {},
   "outputs": [
    {
     "ename": "ZeroDivisionError",
     "evalue": "division by zero",
     "output_type": "error",
     "traceback": [
      "\u001b[0;31m---------------------------------------------------------------------------\u001b[0m",
      "\u001b[0;31mZeroDivisionError\u001b[0m                         Traceback (most recent call last)",
      "Cell \u001b[0;32mIn[4], line 6\u001b[0m\n\u001b[1;32m      3\u001b[0m     \u001b[38;5;28;01mreturn\u001b[39;00m result\n\u001b[1;32m      5\u001b[0m \u001b[38;5;66;03m# Calling the function with an attempt to divide by zero (which raises an exception)\u001b[39;00m\n\u001b[0;32m----> 6\u001b[0m result \u001b[38;5;241m=\u001b[39m \u001b[43mdivide_numbers\u001b[49m\u001b[43m(\u001b[49m\u001b[38;5;241;43m10\u001b[39;49m\u001b[43m,\u001b[49m\u001b[43m \u001b[49m\u001b[38;5;241;43m0\u001b[39;49m\u001b[43m)\u001b[49m\n\u001b[1;32m      8\u001b[0m \u001b[38;5;66;03m# The following code will not be reached due to the unhandled exception\u001b[39;00m\n\u001b[1;32m      9\u001b[0m \u001b[38;5;28mprint\u001b[39m(\u001b[38;5;124m\"\u001b[39m\u001b[38;5;124mThis line will not be executed.\u001b[39m\u001b[38;5;124m\"\u001b[39m)\n",
      "Cell \u001b[0;32mIn[4], line 2\u001b[0m, in \u001b[0;36mdivide_numbers\u001b[0;34m(a, b)\u001b[0m\n\u001b[1;32m      1\u001b[0m \u001b[38;5;28;01mdef\u001b[39;00m \u001b[38;5;21mdivide_numbers\u001b[39m(a, b):\n\u001b[0;32m----> 2\u001b[0m     result \u001b[38;5;241m=\u001b[39m \u001b[43ma\u001b[49m\u001b[43m \u001b[49m\u001b[38;5;241;43m/\u001b[39;49m\u001b[43m \u001b[49m\u001b[43mb\u001b[49m\n\u001b[1;32m      3\u001b[0m     \u001b[38;5;28;01mreturn\u001b[39;00m result\n",
      "\u001b[0;31mZeroDivisionError\u001b[0m: division by zero"
     ]
    }
   ],
   "source": [
    "def divide_numbers(a, b):\n",
    "    result = a / b\n",
    "    return result\n",
    "\n",
    "# Calling the function with an attempt to divide by zero (which raises an exception)\n",
    "result = divide_numbers(10, 0)\n",
    "\n",
    "# The following code will not be reached due to the unhandled exception\n",
    "print(\"This line will not be executed.\")\n"
   ]
  },
  {
   "cell_type": "code",
   "execution_count": 5,
   "id": "8c922e3d-2413-4cb0-b378-5a99eb9137d6",
   "metadata": {},
   "outputs": [
    {
     "name": "stdout",
     "output_type": "stream",
     "text": [
      "Error: division by zero\n",
      "Finally block executed.\n"
     ]
    }
   ],
   "source": [
    "#ANSWER 3\n",
    "\n",
    "'''In Python, the try, except, finally, and optionally else statements are used to catch and handle exceptions.'''\n",
    "\n",
    "\n",
    "try:\n",
    "    # Code that may raise an exception\n",
    "    result = 10 / 0\n",
    "except ZeroDivisionError as e:\n",
    "    # Handle the specific exception (division by zero)\n",
    "    print(f\"Error: {e}\")\n",
    "except Exception as e:\n",
    "    # Handle other exceptions\n",
    "    print(f\"Unexpected Error: {e}\")\n",
    "else:\n",
    "    # This block is executed if no exception occurs\n",
    "    print(\"Division successful.\")\n",
    "finally:\n",
    "    # This block is always executed, regardless of whether an exception occurred\n",
    "    print(\"Finally block executed.\")"
   ]
  },
  {
   "cell_type": "code",
   "execution_count": 6,
   "id": "80386948-4662-44c7-b2c8-7f724ee87ee7",
   "metadata": {},
   "outputs": [
    {
     "name": "stdout",
     "output_type": "stream",
     "text": [
      "Division successful.\n",
      "Finally block executed.\n"
     ]
    }
   ],
   "source": [
    "#ANSWER 4\n",
    "\n",
    "'''The try, except, else, and finally blocks are used for comprehensive exception handling.'''\n",
    "\n",
    "\n",
    "try:\n",
    "    # Code that may raise an exception\n",
    "    result = 10 / 2\n",
    "except ZeroDivisionError as e:\n",
    "    # Handle the specific exception (division by zero)\n",
    "    print(f\"Error: {e}\")\n",
    "else:\n",
    "    # This block is executed if no exception occurs\n",
    "    print(\"Division successful.\")\n",
    "finally:\n",
    "    # This block is always executed, regardless of whether an exception occurred\n",
    "    print(\"Finally block executed.\")"
   ]
  },
  {
   "cell_type": "code",
   "execution_count": 7,
   "id": "e37fcf6f-471c-46b2-b71b-aed34c21b1ec",
   "metadata": {},
   "outputs": [
    {
     "name": "stdout",
     "output_type": "stream",
     "text": [
      "Caught an exception: This is a custom exception\n"
     ]
    }
   ],
   "source": [
    "#ANSWER 5\n",
    "#Exceptions in Python are user-defined exception classes that extend the built-in exception classes. They allow developers to create specific exception types for their applications.\n",
    "\n",
    "\n",
    "class CustomError(Exception):\n",
    "    def __init__(self, message=\"Custom error occurred\"):\n",
    "        self.message = message\n",
    "        super().__init__(self.message)\n",
    "\n",
    "# Using the custom exception\n",
    "try:\n",
    "    raise CustomError(\"This is a custom exception\")\n",
    "except CustomError as ce:\n",
    "    print(f\"Caught an exception: {ce}\")"
   ]
  },
  {
   "cell_type": "code",
   "execution_count": 9,
   "id": "843fcf5b-4f8b-4d5c-a08a-0e31f7d73bb7",
   "metadata": {},
   "outputs": [
    {
     "name": "stdout",
     "output_type": "stream",
     "text": [
      "Value is: 5\n",
      "Finally block executed.\n",
      "Caught a custom exception: Negative values are not allowed\n",
      "Finally block executed.\n"
     ]
    }
   ],
   "source": [
    "#ANSWER 6\n",
    "\n",
    "class CustomError(Exception):\n",
    "    def __init__(self, message=\"Custom error occurred\"):\n",
    "        self.message = message\n",
    "        super().__init__(self.message)\n",
    "\n",
    "def example_function(value):\n",
    "    try:\n",
    "        if value < 0:\n",
    "            raise CustomError(\"Negative values are not allowed\")\n",
    "        else:\n",
    "            print(\"Value is:\", value)\n",
    "    except CustomError as ce:\n",
    "        print(f\"Caught a custom exception: {ce}\")\n",
    "    finally:\n",
    "        print(\"Finally block executed.\")\n",
    "\n",
    "# Example usage\n",
    "example_function(5)  # No exception\n",
    "example_function(-3)  # CustomError exception is caught\n",
    "#In this example, CustomError is a custom exception class. The example_function function raises this custom exception if it receives a negative value. The function catches the custom exception and prints an error message. The finally block is always executed, providing a cleanup or finalization step.'''\n",
    "\n",
    "\n",
    "\n",
    "\n",
    "\n"
   ]
  },
  {
   "cell_type": "code",
   "execution_count": null,
   "id": "9bb3e716-b9f3-475a-bfa0-38bcaa77e327",
   "metadata": {},
   "outputs": [],
   "source": []
  }
 ],
 "metadata": {
  "kernelspec": {
   "display_name": "Python 3 (ipykernel)",
   "language": "python",
   "name": "python3"
  },
  "language_info": {
   "codemirror_mode": {
    "name": "ipython",
    "version": 3
   },
   "file_extension": ".py",
   "mimetype": "text/x-python",
   "name": "python",
   "nbconvert_exporter": "python",
   "pygments_lexer": "ipython3",
   "version": "3.10.8"
  }
 },
 "nbformat": 4,
 "nbformat_minor": 5
}
