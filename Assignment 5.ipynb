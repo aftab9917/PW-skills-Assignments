{
 "cells": [
  {
   "cell_type": "code",
   "execution_count": 1,
   "id": "e24fc8f7-7cbe-4635-a008-8a7c2e86a03b",
   "metadata": {},
   "outputs": [
    {
     "name": "stdout",
     "output_type": "stream",
     "text": [
      "Car: Max Speed - 200 km/h, Average - 25 km/l\n",
      "Bike: Max Speed - 60 km/h, Average - 40 km/l\n"
     ]
    }
   ],
   "source": [
    "#ANSWER 1\n",
    "\n",
    "class Vehicle:\n",
    "    def __init__(self, name_of_vehicle, max_speed, average_of_vehicle):\n",
    "        self.name_of_vehicle = name_of_vehicle\n",
    "        self.max_speed = max_speed\n",
    "        self.average_of_vehicle = average_of_vehicle\n",
    "\n",
    "# Example usage:\n",
    "car = Vehicle(name_of_vehicle=\"Car\", max_speed=200, average_of_vehicle=25)\n",
    "bike = Vehicle(name_of_vehicle=\"Bike\", max_speed=60, average_of_vehicle=40)\n",
    "\n",
    "print(f\"{car.name_of_vehicle}: Max Speed - {car.max_speed} km/h, Average - {car.average_of_vehicle} km/l\")\n",
    "print(f\"{bike.name_of_vehicle}: Max Speed - {bike.max_speed} km/h, Average - {bike.average_of_vehicle} km/l\")\n"
   ]
  },
  {
   "cell_type": "code",
   "execution_count": 2,
   "id": "3794cba8-d411-4947-b102-b8b38202832e",
   "metadata": {},
   "outputs": [
    {
     "name": "stdout",
     "output_type": "stream",
     "text": [
      "Sedan has a seating capacity of 5 people.\n"
     ]
    }
   ],
   "source": [
    "#ANSWER 2\n",
    "\n",
    "class Car(Vehicle):\n",
    "    def __init__(self, name_of_vehicle, max_speed, average_of_vehicle):\n",
    "        super().__init__(name_of_vehicle, max_speed, average_of_vehicle)\n",
    "\n",
    "    def seating_capacity(self, capacity):\n",
    "        return f\"{self.name_of_vehicle} has a seating capacity of {capacity} people.\"\n",
    "\n",
    "# Example usage:\n",
    "car_instance = Car(name_of_vehicle=\"Sedan\", max_speed=180, average_of_vehicle=20)\n",
    "print(car_instance.seating_capacity(5))\n"
   ]
  },
  {
   "cell_type": "code",
   "execution_count": 4,
   "id": "b53ab66a-f33f-410c-a94e-9a2d9fb91a17",
   "metadata": {},
   "outputs": [
    {
     "ename": "SyntaxError",
     "evalue": "invalid syntax (61177205.py, line 3)",
     "output_type": "error",
     "traceback": [
      "\u001b[0;36m  Cell \u001b[0;32mIn[4], line 3\u001b[0;36m\u001b[0m\n\u001b[0;31m    Multiple inheritance is a concept in object-oriented programming where a class can inherit attributes and methods from more than one parent class. In Python, a class can be derived from more than one base classes using the syntax:\u001b[0m\n\u001b[0m             ^\u001b[0m\n\u001b[0;31mSyntaxError\u001b[0m\u001b[0;31m:\u001b[0m invalid syntax\n"
     ]
    }
   ],
   "source": [
    "#ANSWER 3\n",
    "\n",
    "Multiple inheritance is a concept in object-oriented programming where a class can inherit attributes and methods from more than one parent class. In Python, a class can be derived from more than one base classes using the syntax:\n",
    "\n",
    "class DerivedClass(BaseClass1, BaseClass2, ...):\n",
    "    # Class definition\n"
   ]
  },
  {
   "cell_type": "code",
   "execution_count": 5,
   "id": "eb3fd88c-868f-4acd-a231-e5582075aad6",
   "metadata": {},
   "outputs": [
    {
     "name": "stdout",
     "output_type": "stream",
     "text": [
      "Engine started.\n",
      "Wheels rotating.\n",
      "Car is moving.\n"
     ]
    }
   ],
   "source": [
    "#Here's a simple example to demonstrate multiple inheritance:\n",
    "\n",
    "class Engine:\n",
    "    def start(self):\n",
    "        return \"Engine started.\"\n",
    "\n",
    "class Wheels:\n",
    "    def rotate(self):\n",
    "        return \"Wheels rotating.\"\n",
    "\n",
    "class Car(Engine, Wheels):\n",
    "    def drive(self):\n",
    "        return \"Car is moving.\"\n",
    "\n",
    "# Create an instance of the Car class\n",
    "my_car = Car()\n",
    "\n",
    "# Access methods from multiple base classes\n",
    "print(my_car.start())   # Output: Engine started.\n",
    "print(my_car.rotate())  # Output: Wheels rotating.\n",
    "print(my_car.drive())   # Output: Car is moving.\n"
   ]
  },
  {
   "cell_type": "code",
   "execution_count": 6,
   "id": "c7011d57-3242-4b4d-a990-b6e00a6c1ebe",
   "metadata": {},
   "outputs": [
    {
     "name": "stdout",
     "output_type": "stream",
     "text": [
      "Name: John\n",
      "Age: 25\n",
      "Updated Name: Alice\n",
      "Updated Age: 30\n",
      "Age must be a positive value.\n",
      "Name: John\n",
      "Age: 25\n",
      "Updated Name: Alice\n",
      "Updated Age: 30\n",
      "Age must be a positive value.\n"
     ]
    }
   ],
   "source": [
    "#ANSWER 4\n",
    "\n",
    "#In Python, getters and setters are methods used to access and modify the attributes of a class, providing a way to encapsulate the internal representation of an object. Getter methods retrieve the values of attributes, while setter methods allow you to modify or set the values of attributes. This helps in controlling access to the attributes and applying validation or additional logic if needed.\n",
    "\n",
    "#Here's an example class with a getter and a setter method:\n",
    "\n",
    "class Person:\n",
    "    def __init__(self, name, age):\n",
    "        self._name = name  # Using underscore to indicate it's a protected attribute\n",
    "        self._age = age\n",
    "\n",
    "    # Getter method for name\n",
    "    def get_name(self):\n",
    "        return self._name\n",
    "\n",
    "    # Getter method for age\n",
    "    def get_age(self):\n",
    "        return self._age\n",
    "\n",
    "    # Setter method for name\n",
    "    def set_name(self, name):\n",
    "        self._name = name\n",
    "\n",
    "    # Setter method for age with validation\n",
    "    def set_age(self, age):\n",
    "        if age > 0:\n",
    "            self._age = age\n",
    "        else:\n",
    "            print(\"Age must be a positive value.\")\n",
    "\n",
    "# Example usage:\n",
    "person = Person(name=\"John\", age=25)\n",
    "\n",
    "# Using getter methods\n",
    "print(\"Name:\", person.get_name())  # Output: John\n",
    "print(\"Age:\", person.get_age())    # Output: 25\n",
    "\n",
    "# Using setter methods\n",
    "person.set_name(\"Alice\")\n",
    "person.set_age(30)\n",
    "\n",
    "print(\"Updated Name:\", person.get_name())  # Output: Alice\n",
    "print(\"Updated Age:\", person.get_age())    # Output: 30\n",
    "\n",
    "# Trying to set an invalid age\n",
    "person.set_age(-5)  # Output: Age must be a positive value.\n",
    "\n",
    "class Person:\n",
    "    def __init__(self, name, age):\n",
    "        self._name = name  # Using underscore to indicate it's a protected attribute\n",
    "        self._age = age\n",
    "\n",
    "    # Getter method for name\n",
    "    def get_name(self):\n",
    "        return self._name\n",
    "\n",
    "    # Getter method for age\n",
    "    def get_age(self):\n",
    "        return self._age\n",
    "\n",
    "    # Setter method for name\n",
    "    def set_name(self, name):\n",
    "        self._name = name\n",
    "\n",
    "    # Setter method for age with validation\n",
    "    def set_age(self, age):\n",
    "        if age > 0:\n",
    "            self._age = age\n",
    "        else:\n",
    "            print(\"Age must be a positive value.\")\n",
    "\n",
    "# Example usage:\n",
    "person = Person(name=\"John\", age=25)\n",
    "\n",
    "# Using getter methods\n",
    "print(\"Name:\", person.get_name())  # Output: John\n",
    "print(\"Age:\", person.get_age())    # Output: 25\n",
    "\n",
    "# Using setter methods\n",
    "person.set_name(\"Alice\")\n",
    "person.set_age(30)\n",
    "\n",
    "print(\"Updated Name:\", person.get_name())  # Output: Alice\n",
    "print(\"Updated Age:\", person.get_age())    # Output: 30\n",
    "\n",
    "# Trying to set an invalid age\n",
    "person.set_age(-5)  # Output: Age must be a positive value.\n",
    "\n",
    "\n"
   ]
  },
  {
   "cell_type": "code",
   "execution_count": 7,
   "id": "d2ebddbf-c742-44b3-a54a-6b481596b152",
   "metadata": {},
   "outputs": [
    {
     "name": "stdout",
     "output_type": "stream",
     "text": [
      "Animal speaks.\n",
      "Dog barks.\n",
      "Cat meows.\n"
     ]
    }
   ],
   "source": [
    "#ANSWER 5\n",
    "\n",
    "#Method overriding in Python occurs when a derived class provides a specific implementation for a method that is already defined in its base class. This allows the derived class to customize the behavior of the inherited method without modifying the base class.\n",
    "\n",
    "#Here's an example to demonstrate method overriding:\n",
    "\n",
    "class Animal:\n",
    "    def speak(self):\n",
    "        return \"Animal speaks.\"\n",
    "\n",
    "class Dog(Animal):\n",
    "    def speak(self):\n",
    "        return \"Dog barks.\"\n",
    "\n",
    "class Cat(Animal):\n",
    "    def speak(self):\n",
    "        return \"Cat meows.\"\n",
    "\n",
    "# Example usage:\n",
    "animal = Animal()\n",
    "dog = Dog()\n",
    "cat = Cat()\n",
    "\n",
    "print(animal.speak())  # Output: Animal speaks.\n",
    "print(dog.speak())     # Output: Dog barks.\n",
    "print(cat.speak())     # Output: Cat meows.\n"
   ]
  },
  {
   "cell_type": "code",
   "execution_count": null,
   "id": "52b41ad4-9a81-4dcd-a161-6271878353ee",
   "metadata": {},
   "outputs": [],
   "source": []
  }
 ],
 "metadata": {
  "kernelspec": {
   "display_name": "Python 3 (ipykernel)",
   "language": "python",
   "name": "python3"
  },
  "language_info": {
   "codemirror_mode": {
    "name": "ipython",
    "version": 3
   },
   "file_extension": ".py",
   "mimetype": "text/x-python",
   "name": "python",
   "nbconvert_exporter": "python",
   "pygments_lexer": "ipython3",
   "version": "3.10.8"
  }
 },
 "nbformat": 4,
 "nbformat_minor": 5
}
