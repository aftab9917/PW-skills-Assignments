{
 "cells": [
  {
   "cell_type": "code",
   "execution_count": 2,
   "id": "a011dd67-a516-4a6e-902b-6d8ce3f9426c",
   "metadata": {},
   "outputs": [
    {
     "ename": "NameError",
     "evalue": "name 'wine_data' is not defined",
     "output_type": "error",
     "traceback": [
      "\u001b[0;31m---------------------------------------------------------------------------\u001b[0m",
      "\u001b[0;31mNameError\u001b[0m                                 Traceback (most recent call last)",
      "Cell \u001b[0;32mIn[2], line 2\u001b[0m\n\u001b[1;32m      1\u001b[0m \u001b[38;5;66;03m# Q1: What are the key features of the wine quality data set?\u001b[39;00m\n\u001b[0;32m----> 2\u001b[0m \u001b[43mwine_data\u001b[49m\u001b[38;5;241m.\u001b[39mhead()\n\u001b[1;32m      4\u001b[0m \u001b[38;5;66;03m# Discuss the importance of each feature in predicting the quality of wine\u001b[39;00m\n\u001b[1;32m      5\u001b[0m key_features \u001b[38;5;241m=\u001b[39m [\n\u001b[1;32m      6\u001b[0m     \u001b[38;5;124m\"\u001b[39m\u001b[38;5;124mfixed acidity\u001b[39m\u001b[38;5;124m\"\u001b[39m, \u001b[38;5;124m\"\u001b[39m\u001b[38;5;124mvolatile acidity\u001b[39m\u001b[38;5;124m\"\u001b[39m, \u001b[38;5;124m\"\u001b[39m\u001b[38;5;124mcitric acid\u001b[39m\u001b[38;5;124m\"\u001b[39m, \u001b[38;5;124m\"\u001b[39m\u001b[38;5;124mresidual sugar\u001b[39m\u001b[38;5;124m\"\u001b[39m, \n\u001b[1;32m      7\u001b[0m     \u001b[38;5;124m\"\u001b[39m\u001b[38;5;124mchlorides\u001b[39m\u001b[38;5;124m\"\u001b[39m, \u001b[38;5;124m\"\u001b[39m\u001b[38;5;124mfree sulfur dioxide\u001b[39m\u001b[38;5;124m\"\u001b[39m, \u001b[38;5;124m\"\u001b[39m\u001b[38;5;124mtotal sulfur dioxide\u001b[39m\u001b[38;5;124m\"\u001b[39m, \n\u001b[1;32m      8\u001b[0m     \u001b[38;5;124m\"\u001b[39m\u001b[38;5;124mdensity\u001b[39m\u001b[38;5;124m\"\u001b[39m, \u001b[38;5;124m\"\u001b[39m\u001b[38;5;124mpH\u001b[39m\u001b[38;5;124m\"\u001b[39m, \u001b[38;5;124m\"\u001b[39m\u001b[38;5;124msulphates\u001b[39m\u001b[38;5;124m\"\u001b[39m, \u001b[38;5;124m\"\u001b[39m\u001b[38;5;124malcohol\u001b[39m\u001b[38;5;124m\"\u001b[39m, \u001b[38;5;124m\"\u001b[39m\u001b[38;5;124mquality\u001b[39m\u001b[38;5;124m\"\u001b[39m\n\u001b[1;32m      9\u001b[0m ]\n",
      "\u001b[0;31mNameError\u001b[0m: name 'wine_data' is not defined"
     ]
    }
   ],
   "source": [
    "# Q1: What are the key features of the wine quality data set?\n",
    "wine_data.head()\n",
    "\n",
    "# Discuss the importance of each feature in predicting the quality of wine\n",
    "key_features = [\n",
    "    \"fixed acidity\", \"volatile acidity\", \"citric acid\", \"residual sugar\", \n",
    "    \"chlorides\", \"free sulfur dioxide\", \"total sulfur dioxide\", \n",
    "    \"density\", \"pH\", \"sulphates\", \"alcohol\", \"quality\"\n",
    "]\n",
    "for feature in key_features:\n",
    "    print(f\"{feature}: {wine_data[feature].describe()}\")\n"
   ]
  },
  {
   "cell_type": "code",
   "execution_count": 3,
   "id": "dd5c32cb-4a44-40cf-b000-7458a41c77cd",
   "metadata": {},
   "outputs": [
    {
     "ename": "NameError",
     "evalue": "name 'wine_data' is not defined",
     "output_type": "error",
     "traceback": [
      "\u001b[0;31m---------------------------------------------------------------------------\u001b[0m",
      "\u001b[0;31mNameError\u001b[0m                                 Traceback (most recent call last)",
      "Cell \u001b[0;32mIn[3], line 3\u001b[0m\n\u001b[1;32m      1\u001b[0m \u001b[38;5;66;03m# Q2: How did you handle missing data in the wine quality data set during the feature engineering process?\u001b[39;00m\n\u001b[1;32m      2\u001b[0m \u001b[38;5;66;03m# Check for missing values\u001b[39;00m\n\u001b[0;32m----> 3\u001b[0m \u001b[38;5;28mprint\u001b[39m(\u001b[43mwine_data\u001b[49m\u001b[38;5;241m.\u001b[39misnull()\u001b[38;5;241m.\u001b[39msum())\n\u001b[1;32m      5\u001b[0m \u001b[38;5;66;03m# Mean imputation\u001b[39;00m\n\u001b[1;32m      6\u001b[0m wine_data_mean_imputed \u001b[38;5;241m=\u001b[39m wine_data\u001b[38;5;241m.\u001b[39mfillna(wine_data\u001b[38;5;241m.\u001b[39mmean())\n",
      "\u001b[0;31mNameError\u001b[0m: name 'wine_data' is not defined"
     ]
    }
   ],
   "source": [
    "# Q2: How did you handle missing data in the wine quality data set during the feature engineering process?\n",
    "# Check for missing values\n",
    "print(wine_data.isnull().sum())\n",
    "\n",
    "# Mean imputation\n",
    "wine_data_mean_imputed = wine_data.fillna(wine_data.mean())\n",
    "\n",
    "# Discuss advantages and disadvantages of mean, median, and mode imputation\n",
    "# Advantages and Disadvantages\n",
    "mean_adv = \"Simple and fast; maintains the central tendency of the data.\"\n",
    "mean_disadv = \"Ignores the variability; can distort the distribution.\"\n",
    "\n",
    "median_adv = \"Effective for skewed distributions; maintains central tendency.\"\n",
    "median_disadv = \"Ignores variability; can distort distribution in a different way compared to mean.\"\n",
    "\n",
    "mode_adv = \"Useful for categorical data; can handle outliers better in some cases.\"\n",
    "mode_disadv = \"Less useful for continuous variables; can lead to biased estimates.\"\n",
    "\n",
    "print(f\"Mean Imputation: {mean_adv} | {mean_disadv}\")\n",
    "print(f\"Median Imputation: {median_adv} | {median_disadv}\")\n",
    "print(f\"Mode Imputation: {mode_adv} | {mode_disadv}\")\n"
   ]
  },
  {
   "cell_type": "code",
   "execution_count": null,
   "id": "b448b9c8-bfd7-4525-8dbf-600d7af17b2e",
   "metadata": {},
   "outputs": [],
   "source": [
    "# Q3: What are the key factors that affect students' performance in exams?\n",
    "# Basic statistical description\n",
    "student_data.describe()\n",
    "\n",
    "# Correlation matrix\n",
    "corr_matrix = student_data.corr()\n",
    "plt.figure(figsize=(12, 8))\n",
    "sns.heatmap(corr_matrix, annot=True, cmap='coolwarm')\n",
    "plt.show()\n",
    "\n",
    "# Analyzing factors using statistical techniques like correlation\n",
    "important_factors = corr_matrix['G3'].sort_values(ascending=False)\n",
    "print(important_factors)\n"
   ]
  },
  {
   "cell_type": "code",
   "execution_count": null,
   "id": "c99deca1-4ead-4f48-a710-7e7647434f23",
   "metadata": {},
   "outputs": [],
   "source": [
    "# Q4: Describe the process of feature engineering in the context of the student performance data set.\n",
    "# One-hot encoding for categorical variables\n",
    "student_data_encoded = pd.get_dummies(student_data, drop_first=True)\n",
    "student_data_encoded.head()\n",
    "\n",
    "# Feature selection - selecting significant features based on domain knowledge and correlation\n",
    "features = ['studytime', 'failures', 'absences', 'G1', 'G2']\n",
    "X = student_data_encoded[features]\n",
    "y = student_data_encoded['G3']  # Assuming 'G3' is the final grade\n",
    "print(X.head())\n",
    "print(y.head())\n"
   ]
  },
  {
   "cell_type": "code",
   "execution_count": null,
   "id": "c1db1601-9907-4626-b679-54dc58f12670",
   "metadata": {},
   "outputs": [],
   "source": [
    "# Q5: Load the wine quality data set and perform exploratory data analysis (EDA) to identify the distribution of each feature.\n",
    "wine_data.hist(bins=20, figsize=(15, 10))\n",
    "plt.show()\n",
    "\n",
    "# Check for non-normality\n",
    "for column in wine_data.columns[:-1]:  # Exclude quality column\n",
    "    stat, p = normaltest(wine_data[column])\n",
    "    print(f\"{column}: p-value = {p}\")\n",
    "    if p < 0.05:\n",
    "        print(f\"{column} is not normally distributed\")\n",
    "        \n",
    "# Apply transformations to improve normality\n",
    "for column in wine_data.columns[:-1]:  # Exclude quality column\n",
    "    stat, p = normaltest(wine_data[column])\n",
    "    if p < 0.05:\n",
    "        wine_data[column], _ = boxcox(wine_data[column] + 1)  # Adding 1 to avoid zero values\n",
    "        print(f'Transformed {column}')\n"
   ]
  },
  {
   "cell_type": "code",
   "execution_count": null,
   "id": "4a25cf38-7e1d-4ef9-b4f6-b08d9b364a24",
   "metadata": {},
   "outputs": [],
   "source": [
    "# Q6: Using the wine quality data set, perform principal component analysis (PCA) to reduce the number of features.\n",
    "# Standardize the data\n",
    "scaler = StandardScaler()\n",
    "wine_data_scaled = scaler.fit_transform(wine_data.drop('quality', axis=1))\n",
    "\n",
    "# Perform PCA\n",
    "pca = PCA()\n",
    "pca.fit(wine_data_scaled)\n",
    "\n",
    "# Explained variance\n",
    "explained_variance = np.cumsum(pca.explained_variance_ratio_)\n",
    "plt.plot(explained_variance)\n",
    "plt.xlabel('Number of Components')\n",
    "plt.ylabel('Variance Explained')\n",
    "plt.show()\n",
    "\n",
    "# Minimum number of components to explain 90% variance\n",
    "num_components = np.argmax(explained_variance >= 0.90) + 1\n",
    "print(f'Minimum number of components to explain 90% variance: {num_components}')\n"
   ]
  }
 ],
 "metadata": {
  "kernelspec": {
   "display_name": "Python 3 (ipykernel)",
   "language": "python",
   "name": "python3"
  },
  "language_info": {
   "codemirror_mode": {
    "name": "ipython",
    "version": 3
   },
   "file_extension": ".py",
   "mimetype": "text/x-python",
   "name": "python",
   "nbconvert_exporter": "python",
   "pygments_lexer": "ipython3",
   "version": "3.10.8"
  }
 },
 "nbformat": 4,
 "nbformat_minor": 5
}
