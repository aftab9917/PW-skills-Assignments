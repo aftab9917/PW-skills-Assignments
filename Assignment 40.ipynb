{
 "cells": [
  {
   "cell_type": "code",
   "execution_count": 1,
   "id": "fb32d029-e48f-45d4-a521-057e39649c7c",
   "metadata": {},
   "outputs": [
    {
     "data": {
      "text/plain": [
       "\"Ordinal Encoding:\\n\\nAssigns numerical values to categorical data while maintaining the order of categories.\\nExample: When encoding education levels ('High School', 'Bachelor's', 'Master's', 'PhD'), as there is a meaningful order.\\nLabel Encoding:\\n\\nAssigns numerical values to categorical data without considering any order.\\nExample: When encoding user IDs ('User A', 'User B', 'User C'), as there is no inherent order.\""
      ]
     },
     "execution_count": 1,
     "metadata": {},
     "output_type": "execute_result"
    }
   ],
   "source": [
    "#ANSWER 1\n",
    "\n",
    "'''Ordinal Encoding:\n",
    "\n",
    "Assigns numerical values to categorical data while maintaining the order of categories.\n",
    "Example: When encoding education levels ('High School', 'Bachelor's', 'Master's', 'PhD'), as there is a meaningful order.\n",
    "Label Encoding:\n",
    "\n",
    "Assigns numerical values to categorical data without considering any order.\n",
    "Example: When encoding user IDs ('User A', 'User B', 'User C'), as there is no inherent order.'''"
   ]
  },
  {
   "cell_type": "code",
   "execution_count": 2,
   "id": "4a6df321-9d33-436b-9f77-c6a3b76b6f4b",
   "metadata": {},
   "outputs": [
    {
     "data": {
      "text/plain": [
       "'Target Guided Ordinal Encoding:\\n\\nPurpose: Encode categorical variables based on the relationship between each category and the target variable.\\nProcess: Categories are ordered according to their mean target value, and then numerical values are assigned based on this order.\\nExample: In a sales prediction model, you might use Target Guided Ordinal Encoding to encode \"Product Type\" based on the average sales for each product type. If product types with higher sales need higher priority, this method ensures the encoding reflects that relationship.'"
      ]
     },
     "execution_count": 2,
     "metadata": {},
     "output_type": "execute_result"
    }
   ],
   "source": [
    "#ANSWER 2\n",
    "\n",
    "'''Target Guided Ordinal Encoding:\n",
    "\n",
    "Purpose: Encode categorical variables based on the relationship between each category and the target variable.\n",
    "Process: Categories are ordered according to their mean target value, and then numerical values are assigned based on this order.\n",
    "Example: In a sales prediction model, you might use Target Guided Ordinal Encoding to encode \"Product Type\" based on the average sales for each product type. If product types with higher sales need higher priority, this method ensures the encoding reflects that relationship.'''"
   ]
  },
  {
   "cell_type": "code",
   "execution_count": 3,
   "id": "a2569b80-8890-49a1-8677-4c5f9422be1d",
   "metadata": {},
   "outputs": [
    {
     "data": {
      "text/plain": [
       "'Covariance:\\n\\nDefinition: A measure of how much two random variables vary together. It indicates the direction of the linear relationship between variables.\\n\\nImportance: Helps in understanding the relationship between variables, which is crucial for building predictive models.\\n\\nCalculation: The covariance between two variables \\n�\\nX and \\n�\\nY is calculated as:\\n\\nCov\\n(\\n�\\n,\\n�\\n)\\n=\\n1\\n�\\n−\\n1\\n∑\\n�\\n=\\n1\\n�\\n(\\n�\\n�\\n−\\n�\\nˉ\\n)\\n(\\n�\\n�\\n−\\n�\\nˉ\\n)\\nCov(X,Y)= \\nN−1\\n1\\n\\u200b\\n  \\ni=1\\n∑\\nN\\n\\u200b\\n (X \\ni\\n\\u200b\\n − \\nX\\nˉ\\n )(Y \\ni\\n\\u200b\\n − \\nY\\nˉ\\n )\\nwhere \\n�\\nN is the number of data points, \\n�\\n�\\nX \\ni\\n\\u200b\\n  and \\n�\\n�\\nY \\ni\\n\\u200b\\n  are the individual data points, and \\n�\\nˉ\\nX\\nˉ\\n  and \\n�\\nˉ\\nY\\nˉ\\n  are the means of \\n�\\nX and \\n�\\nY.'"
      ]
     },
     "execution_count": 3,
     "metadata": {},
     "output_type": "execute_result"
    }
   ],
   "source": [
    "#ANSWER 3\n",
    "\n",
    "'''Covariance:\n",
    "\n",
    "Definition: A measure of how much two random variables vary together. It indicates the direction of the linear relationship between variables.\n",
    "\n",
    "Importance: Helps in understanding the relationship between variables, which is crucial for building predictive models.\n",
    "\n",
    "Calculation: The covariance between two variables \n",
    "�\n",
    "X and \n",
    "�\n",
    "Y is calculated as:\n",
    "\n",
    "Cov\n",
    "(\n",
    "�\n",
    ",\n",
    "�\n",
    ")\n",
    "=\n",
    "1\n",
    "�\n",
    "−\n",
    "1\n",
    "∑\n",
    "�\n",
    "=\n",
    "1\n",
    "�\n",
    "(\n",
    "�\n",
    "�\n",
    "−\n",
    "�\n",
    "ˉ\n",
    ")\n",
    "(\n",
    "�\n",
    "�\n",
    "−\n",
    "�\n",
    "ˉ\n",
    ")\n",
    "Cov(X,Y)= \n",
    "N−1\n",
    "1\n",
    "​\n",
    "  \n",
    "i=1\n",
    "∑\n",
    "N\n",
    "​\n",
    " (X \n",
    "i\n",
    "​\n",
    " − \n",
    "X\n",
    "ˉ\n",
    " )(Y \n",
    "i\n",
    "​\n",
    " − \n",
    "Y\n",
    "ˉ\n",
    " )\n",
    "where \n",
    "�\n",
    "N is the number of data points, \n",
    "�\n",
    "�\n",
    "X \n",
    "i\n",
    "​\n",
    "  and \n",
    "�\n",
    "�\n",
    "Y \n",
    "i\n",
    "​\n",
    "  are the individual data points, and \n",
    "�\n",
    "ˉ\n",
    "X\n",
    "ˉ\n",
    "  and \n",
    "�\n",
    "ˉ\n",
    "Y\n",
    "ˉ\n",
    "  are the means of \n",
    "�\n",
    "X and \n",
    "�\n",
    "Y.'''"
   ]
  },
  {
   "cell_type": "code",
   "execution_count": 4,
   "id": "d4fcd498-0f3d-447b-869e-271c3d36aa46",
   "metadata": {},
   "outputs": [
    {
     "name": "stdout",
     "output_type": "stream",
     "text": [
      "   Color  Size  Material\n",
      "0      2     2         2\n",
      "1      1     1         0\n",
      "2      0     0         1\n",
      "3      1     2         0\n",
      "4      2     0         2\n"
     ]
    }
   ],
   "source": [
    "#ANSWER 4\n",
    "\n",
    "import pandas as pd\n",
    "from sklearn.preprocessing import LabelEncoder\n",
    "\n",
    "# Sample data\n",
    "data = {\n",
    "    'Color': ['red', 'green', 'blue', 'green', 'red'],\n",
    "    'Size': ['small', 'medium', 'large', 'small', 'large'],\n",
    "    'Material': ['wood', 'metal', 'plastic', 'metal', 'wood']\n",
    "}\n",
    "\n",
    "df = pd.DataFrame(data)\n",
    "\n",
    "# Initialize label encoders\n",
    "label_encoders = {}\n",
    "for column in df.columns:\n",
    "    le = LabelEncoder()\n",
    "    df[column] = le.fit_transform(df[column])\n",
    "    label_encoders[column] = le\n",
    "\n",
    "print(df)\n"
   ]
  },
  {
   "cell_type": "code",
   "execution_count": 5,
   "id": "41d7c917-a12f-4172-907c-c969fe4e2624",
   "metadata": {},
   "outputs": [
    {
     "name": "stdout",
     "output_type": "stream",
     "text": [
      "                 Age       Income  Education\n",
      "Age           221.30     414500.0      11.15\n",
      "Income     414500.00  830000000.0   22250.00\n",
      "Education      11.15      22250.0       0.70\n"
     ]
    }
   ],
   "source": [
    "#ANSWER 5\n",
    "\n",
    "import numpy as np\n",
    "\n",
    "# Sample data\n",
    "data = {\n",
    "    'Age': [25, 32, 47, 51, 62],\n",
    "    'Income': [50000, 60000, 75000, 100000, 120000],\n",
    "    'Education': [1, 2, 2, 3, 3]  # Assuming ordinal encoding: High School (1), Bachelor's (2), Master's (3)\n",
    "}\n",
    "\n",
    "df = pd.DataFrame(data)\n",
    "\n",
    "# Calculate covariance matrix\n",
    "cov_matrix = df.cov()\n",
    "print(cov_matrix)\n"
   ]
  },
  {
   "cell_type": "code",
   "execution_count": 6,
   "id": "1f9c66ba-7c43-4249-bbe8-3eaab1a02ebe",
   "metadata": {},
   "outputs": [
    {
     "data": {
      "text/plain": [
       "'Gender: Label Encoding. There are only two categories without a meaningful order, so assigning 0 and 1 is sufficient.\\nEducation Level: Ordinal Encoding. There is a clear order in the education levels, so assigning values that reflect this order (e.g., High School: 1, Bachelor’s: 2, Master’s: 3, PhD: 4) is appropriate.\\nEmployment Status: One-Hot Encoding. The categories do not have a meaningful order and are nominal, so one-hot encoding will avoid implying any ordinal relationship.'"
      ]
     },
     "execution_count": 6,
     "metadata": {},
     "output_type": "execute_result"
    }
   ],
   "source": [
    "#ANSWER 6\n",
    "\n",
    "'''Gender: Label Encoding. There are only two categories without a meaningful order, so assigning 0 and 1 is sufficient.\n",
    "Education Level: Ordinal Encoding. There is a clear order in the education levels, so assigning values that reflect this order (e.g., High School: 1, Bachelor’s: 2, Master’s: 3, PhD: 4) is appropriate.\n",
    "Employment Status: One-Hot Encoding. The categories do not have a meaningful order and are nominal, so one-hot encoding will avoid implying any ordinal relationship.'''"
   ]
  },
  {
   "cell_type": "code",
   "execution_count": 7,
   "id": "d8a9c053-4018-4e1c-8395-7304429abad6",
   "metadata": {},
   "outputs": [
    {
     "name": "stdout",
     "output_type": "stream",
     "text": [
      "                   Temperature  Humidity  Weather Condition  Wind Direction\n",
      "Temperature              62.50    -62.50               2.50           -1.25\n",
      "Humidity                -62.50     62.50              -2.50            1.25\n",
      "Weather Condition         2.50     -2.50               1.00            0.25\n",
      "Wind Direction           -1.25      1.25               0.25            1.30\n"
     ]
    }
   ],
   "source": [
    "#ANSWER 7\n",
    "\n",
    "import pandas as pd\n",
    "import numpy as np\n",
    "\n",
    "# Sample data\n",
    "data = {\n",
    "    'Temperature': [30, 25, 20, 15, 10],\n",
    "    'Humidity': [60, 65, 70, 75, 80],\n",
    "    'Weather Condition': ['Sunny', 'Cloudy', 'Rainy', 'Sunny', 'Cloudy'],\n",
    "    'Wind Direction': ['North', 'South', 'East', 'West', 'North']\n",
    "}\n",
    "\n",
    "df = pd.DataFrame(data)\n",
    "\n",
    "# Encoding categorical variables\n",
    "weather_encoder = LabelEncoder()\n",
    "wind_encoder = LabelEncoder()\n",
    "df['Weather Condition'] = weather_encoder.fit_transform(df['Weather Condition'])\n",
    "df['Wind Direction'] = wind_encoder.fit_transform(df['Wind Direction'])\n",
    "\n",
    "# Calculate covariance matrix\n",
    "cov_matrix = df.cov()\n",
    "print(cov_matrix)\n"
   ]
  },
  {
   "cell_type": "code",
   "execution_count": null,
   "id": "af861d35-7079-43c8-87ae-e9de5513bf77",
   "metadata": {},
   "outputs": [],
   "source": []
  }
 ],
 "metadata": {
  "kernelspec": {
   "display_name": "Python 3 (ipykernel)",
   "language": "python",
   "name": "python3"
  },
  "language_info": {
   "codemirror_mode": {
    "name": "ipython",
    "version": 3
   },
   "file_extension": ".py",
   "mimetype": "text/x-python",
   "name": "python",
   "nbconvert_exporter": "python",
   "pygments_lexer": "ipython3",
   "version": "3.10.8"
  }
 },
 "nbformat": 4,
 "nbformat_minor": 5
}
