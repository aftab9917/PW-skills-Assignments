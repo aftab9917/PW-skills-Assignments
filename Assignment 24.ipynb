{
 "cells": [
  {
   "cell_type": "code",
   "execution_count": null,
   "id": "5ce88dfa-ee14-434a-a957-574cbaeebe48",
   "metadata": {},
   "outputs": [],
   "source": [
    "#ANSWER 1\n",
    "\n",
    "import seaborn as sns\n",
    "import plotly.express as px\n",
    "\n",
    "titanic_data = sns.load_dataset(\"titanic\")\n",
    "fig = px.scatter(titanic_data, x=\"age\", y=\"fare\", title=\"Scatter Plot of Age vs Fare in Titanic Dataset\")\n",
    "fig.show()\n"
   ]
  },
  {
   "cell_type": "code",
   "execution_count": null,
   "id": "30d744e2-04a2-4cf0-ad6e-728ce4de216b",
   "metadata": {},
   "outputs": [],
   "source": [
    "#ANSWER 2\n",
    "\n",
    "import plotly.express as px\n",
    "\n",
    "tips_data = px.data.tips()\n",
    "fig = px.box(tips_data, x=\"day\", y=\"total_bill\", title=\"Box Plot of Total Bill by Day\")\n",
    "fig.show()\n"
   ]
  },
  {
   "cell_type": "code",
   "execution_count": null,
   "id": "3087783a-d8e5-4962-ba50-c03e948ec24a",
   "metadata": {},
   "outputs": [],
   "source": [
    "#ANSWER 3\n",
    "\n",
    "import plotly.express as px\n",
    "\n",
    "tips_data = px.data.tips()\n",
    "fig = px.histogram(tips_data, x=\"sex\", y=\"total_bill\", color=\"day\", pattern_shape=\"smoker\", title=\"Histogram of Total Bill by Sex\")\n",
    "fig.show()\n"
   ]
  },
  {
   "cell_type": "code",
   "execution_count": null,
   "id": "0879bcc8-6d1e-413f-8b4e-6613264c162f",
   "metadata": {},
   "outputs": [],
   "source": [
    "#ANSWER 4\n",
    "\n",
    "import plotly.express as px\n",
    "\n",
    "iris_data = px.data.iris()\n",
    "fig = px.scatter_matrix(iris_data, dimensions=[\"sepal_length\", \"sepal_width\", \"petal_length\", \"petal_width\"], color=\"species\", title=\"Scatter Matrix Plot of Iris Dataset\")\n",
    "fig.show()\n"
   ]
  },
  {
   "cell_type": "code",
   "execution_count": 5,
   "id": "5df08a68-474b-409e-843c-a57ec2059802",
   "metadata": {},
   "outputs": [
    {
     "data": {
      "text/plain": [
       "'A distplot is a seaborn plot that combines a histogram with a kernel density estimate (KDE) plot. It is used to visualize the distribution of univariate data and provides a convenient way to represent both the frequency distribution (histogram) and the continuous probability density function (KDE) of the data.'"
      ]
     },
     "execution_count": 5,
     "metadata": {},
     "output_type": "execute_result"
    }
   ],
   "source": [
    "#ANSWER 5\n",
    "\n",
    "'''A distplot is a seaborn plot that combines a histogram with a kernel density estimate (KDE) plot. It is used to visualize the distribution of univariate data and provides a convenient way to represent both the frequency distribution (histogram) and the continuous probability density function (KDE) of the data.'''"
   ]
  },
  {
   "cell_type": "code",
   "execution_count": null,
   "id": "86a2782f-c4f0-4878-b6bc-ae598e432a33",
   "metadata": {},
   "outputs": [],
   "source": [
    "import seaborn as sns\n",
    "import plotly.express as px\n",
    "\n",
    "# Generate some example data\n",
    "data = sns.load_dataset(\"iris\")\n",
    "\n",
    "# Plot distplot using Plotly express\n",
    "fig = px.histogram(data, x=\"petal_length\", marginal=\"rug\", title=\"Distplot of Petal Length\")\n",
    "fig.show()\n",
    "\n"
   ]
  },
  {
   "cell_type": "code",
   "execution_count": null,
   "id": "48f14c16-a8db-476a-9a08-a15bcc89c4f2",
   "metadata": {},
   "outputs": [],
   "source": []
  }
 ],
 "metadata": {
  "kernelspec": {
   "display_name": "Python 3 (ipykernel)",
   "language": "python",
   "name": "python3"
  },
  "language_info": {
   "codemirror_mode": {
    "name": "ipython",
    "version": 3
   },
   "file_extension": ".py",
   "mimetype": "text/x-python",
   "name": "python",
   "nbconvert_exporter": "python",
   "pygments_lexer": "ipython3",
   "version": "3.10.8"
  }
 },
 "nbformat": 4,
 "nbformat_minor": 5
}
