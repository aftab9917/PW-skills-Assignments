{
 "cells": [
  {
   "cell_type": "code",
   "execution_count": 1,
   "id": "f839f73e-24f9-4213-98ca-4ca85a424ae5",
   "metadata": {},
   "outputs": [],
   "source": [
    "# ANSWER 1(i)\n",
    "a='aftab'\n"
   ]
  },
  {
   "cell_type": "code",
   "execution_count": 2,
   "id": "3d5e7dde-323f-45ca-bad0-511b81c5b914",
   "metadata": {},
   "outputs": [],
   "source": [
    "#ANSWER 1(ii)\n",
    "A=['AFTAB','FAIZAN',5254,True]"
   ]
  },
  {
   "cell_type": "code",
   "execution_count": 3,
   "id": "22b561cc-9a37-4a5c-a9a4-50c1d13dfafc",
   "metadata": {},
   "outputs": [],
   "source": [
    "#ANSWER1(iii)\n",
    "a=123.56"
   ]
  },
  {
   "cell_type": "code",
   "execution_count": 4,
   "id": "0b58c7f9-22fd-42a0-b802-c6b155b5c445",
   "metadata": {},
   "outputs": [],
   "source": [
    "#ANSWER 1 (iv)\n",
    "a=('bareilly',451,'FAIZAN',122.3)"
   ]
  },
  {
   "cell_type": "code",
   "execution_count": 26,
   "id": "b752da83-d72a-4591-8837-eadf2ebb2423",
   "metadata": {},
   "outputs": [],
   "source": [
    "#ANSWER 2\n",
    "#(i) string or str\n",
    "#(ii) list\n",
    "#(iii) list\n",
    "#(iv) int or integer \n",
    "\n"
   ]
  },
  {
   "cell_type": "code",
   "execution_count": 6,
   "id": "bece29d7-4b58-4f14-a17f-e86bd2da2946",
   "metadata": {},
   "outputs": [
    {
     "name": "stdout",
     "output_type": "stream",
     "text": [
      "2.0\n"
     ]
    }
   ],
   "source": [
    "#ANSWER 3\n",
    "#(i) / is division operator\n",
    "a=4/2\n",
    "print(a)"
   ]
  },
  {
   "cell_type": "code",
   "execution_count": 17,
   "id": "c0959ba5-42e4-4658-b57b-874c0517f92b",
   "metadata": {},
   "outputs": [],
   "source": [
    "#(ii) % (Modulus Operator):\n",
    "\n",
    "#This operator returns the remainder of the division.\n",
    "\n",
    " \n",
    "\n",
    "    "
   ]
  },
  {
   "cell_type": "code",
   "execution_count": 20,
   "id": "9c19c919-524f-458d-a1c7-1c89b6dfb6d7",
   "metadata": {},
   "outputs": [
    {
     "name": "stdout",
     "output_type": "stream",
     "text": [
      "65 is an odd number.\n"
     ]
    }
   ],
   "source": [
    "number = 65\n",
    "\n",
    "# Using modulus operator to check if the number is even or odd\n",
    "if number % 2 == 0:\n",
    "    print(f\"{number} is an even number.\")\n",
    "else:\n",
    "    print(f\"{number} is an odd number.\")\n"
   ]
  },
  {
   "cell_type": "code",
   "execution_count": 21,
   "id": "e521c626-3012-4783-a63c-e842f30460b3",
   "metadata": {},
   "outputs": [],
   "source": [
    "#(iii) // (Floor Division Operator):\n",
    "\n",
    "#This operator performs floor division, which returns the largest integer less than or equal to the division result."
   ]
  },
  {
   "cell_type": "code",
   "execution_count": 23,
   "id": "bcc8e062-32ad-4334-8ebd-dbb05d02a7a7",
   "metadata": {},
   "outputs": [
    {
     "name": "stdout",
     "output_type": "stream",
     "text": [
      "9\n"
     ]
    }
   ],
   "source": [
    "quotient = 19 // 2\n",
    "print(quotient)\n"
   ]
  },
  {
   "cell_type": "code",
   "execution_count": 25,
   "id": "8800189e-394a-4436-9858-efce6bfa757c",
   "metadata": {},
   "outputs": [],
   "source": [
    "#(iv) ** (Exponentiation Operator):\n",
    "\n",
    "#This operator is used for exponentiation, raising a number to the power of another."
   ]
  },
  {
   "cell_type": "code",
   "execution_count": 28,
   "id": "f1bcb119-0ac0-4a40-9095-3f8156a9f0ba",
   "metadata": {},
   "outputs": [
    {
     "name": "stdout",
     "output_type": "stream",
     "text": [
      "3375\n"
     ]
    }
   ],
   "source": [
    "result = 15 ** 3\n",
    "print(result)\n"
   ]
  },
  {
   "cell_type": "code",
   "execution_count": 39,
   "id": "1a1f8be6-4d49-4909-9bac-c180c080d3dc",
   "metadata": {},
   "outputs": [
    {
     "name": "stdout",
     "output_type": "stream",
     "text": [
      "Element: Hello,Data Type: <class 'str'>\n",
      "Element: 4,Data Type: <class 'int'>\n",
      "Element: True,Data Type: <class 'bool'>\n",
      "Element: [5, 6],Data Type: <class 'list'>\n",
      "Element: 35,Data Type: <class 'int'>\n",
      "Element: {'name': 'aftab'},Data Type: <class 'dict'>\n",
      "Element: False,Data Type: <class 'bool'>\n",
      "Element: (7, 8),Data Type: <class 'tuple'>\n",
      "Element: 45,Data Type: <class 'int'>\n",
      "Element: None,Data Type: <class 'NoneType'>\n"
     ]
    }
   ],
   "source": [
    "#ANSWER (4)\n",
    "# Creating a list with elements of different data types\n",
    "l = ['Hello',4,True, [5, 6],35, {'name': 'aftab'},False,(7,8), 45,None]\n",
    "\n",
    "# Using a for loop to print each element and its data type\n",
    "for element in my_list:\n",
    "    print(f\"Element: {element},Data Type: {type(element)}\")\n"
   ]
  },
  {
   "cell_type": "code",
   "execution_count": null,
   "id": "66baa080-9285-4e9d-8425-1b74914275c3",
   "metadata": {},
   "outputs": [],
   "source": [
    "#ANSWER (5)\n",
    "# Taking input for numbers A and B\n",
    "A = int(input(\"Enter the value of A: \"))\n",
    "B = int(input(\"Enter the value of B: \"))\n",
    "\n",
    "# Initializing a count variable\n",
    "count = 0\n",
    "\n",
    "# Using a while loop to check divisibility and count how many times A can be divided by B\n",
    "while A % B == 0:\n",
    "    A = A // B\n",
    "    count += 1\n",
    "\n",
    "# Checking if A is purely divisible by B\n",
    "if count > 0:\n",
    "    print(f\"{A} is purely divisible by {B} and can be divided {count} times.\")\n",
    "else:\n",
    "    print(f\"{A} is not purely divisible by {B}.\")\n",
    "#Sorry my system is not executing"
   ]
  },
  {
   "cell_type": "code",
   "execution_count": null,
   "id": "173eb880-2d3e-4e8c-8ec9-7eabe8c8838c",
   "metadata": {},
   "outputs": [],
   "source": []
  },
  {
   "cell_type": "code",
   "execution_count": 48,
   "id": "1eaabaa5-e616-41e7-b87e-1610cbd5b34d",
   "metadata": {},
   "outputs": [
    {
     "name": "stdout",
     "output_type": "stream",
     "text": [
      "74 is not divisible by 3.\n",
      "489 is divisible by 3.\n",
      "24 is divisible by 3.\n",
      "5 is not divisible by 3.\n",
      "12 is divisible by 3.\n",
      "1 is not divisible by 3.\n",
      "126 is divisible by 3.\n",
      "313 is not divisible by 3.\n",
      "47 is not divisible by 3.\n",
      "14 is not divisible by 3.\n",
      "875 is not divisible by 3.\n",
      "123 is divisible by 3.\n",
      "324 is divisible by 3.\n",
      "999 is divisible by 3.\n",
      "475 is not divisible by 3.\n",
      "471 is divisible by 3.\n",
      "1423 is not divisible by 3.\n",
      "659 is not divisible by 3.\n",
      "74 is not divisible by 3.\n",
      "12 is divisible by 3.\n",
      "56 is not divisible by 3.\n",
      "82 is not divisible by 3.\n",
      "145 is not divisible by 3.\n",
      "1234 is not divisible by 3.\n",
      "333 is divisible by 3.\n"
     ]
    }
   ],
   "source": [
    "#ANSWER (6)\n",
    "l = [74, 489, 24, 5, 12, 1, 126, 313, 47, 14, 875, 123, 324, 999, 475, 471, 1423, 659, 74, 12, 56, 82, 145, 1234, 333]\n",
    "\n",
    "\n",
    "for i in l:\n",
    "\n",
    "    if i % 3 == 0:\n",
    "        print(f\"{i} is divisible by 3.\")\n",
    "    else:\n",
    "        print(f\"{i} is not divisible by 3.\")\n"
   ]
  },
  {
   "cell_type": "code",
   "execution_count": null,
   "id": "d377fb5c-844e-4401-94a4-c2a550ec998d",
   "metadata": {},
   "outputs": [],
   "source": [
    "#ANSWER (7)\n",
    " ###In Python, some data types are mutable, meaning their values can be modified after creation, while others are immutable, meaning their values cannot be changed once they are assigned."
   ]
  },
  {
   "cell_type": "code",
   "execution_count": null,
   "id": "53e9e1b5-7ae7-4256-929f-50af94d25ae7",
   "metadata": {},
   "outputs": [],
   "source": [
    "#list is the example of mutable data type"
   ]
  },
  {
   "cell_type": "code",
   "execution_count": null,
   "id": "4357759d-c785-4dfe-9b02-7ff3009fadee",
   "metadata": {},
   "outputs": [],
   "source": [
    "mutable_list = ['aftab',22,True,46]\n",
    "print(\"Original List:\", mutable_list)\n",
    "\n",
    "# Modifying the list\n",
    "mutable_list[2] = 47\n",
    "print(\"Modified List:\", mutable_list)\n"
   ]
  },
  {
   "cell_type": "code",
   "execution_count": null,
   "id": "e527c984-8dc6-4bab-8f41-6216a4220b49",
   "metadata": {},
   "outputs": [],
   "source": [
    "##NOTE : this page is not executing so i execute on another page and paste on it \n",
    "##Original List: ['aftab', 22, True, 46]\n",
    "##Modified List: ['aftab', 22, 47, 46]"
   ]
  }
 ],
 "metadata": {
  "kernelspec": {
   "display_name": "Python 3 (ipykernel)",
   "language": "python",
   "name": "python3"
  },
  "language_info": {
   "codemirror_mode": {
    "name": "ipython",
    "version": 3
   },
   "file_extension": ".py",
   "mimetype": "text/x-python",
   "name": "python",
   "nbconvert_exporter": "python",
   "pygments_lexer": "ipython3",
   "version": "3.10.8"
  }
 },
 "nbformat": 4,
 "nbformat_minor": 5
}
