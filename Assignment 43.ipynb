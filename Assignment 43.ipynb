{
 "cells": [
  {
   "cell_type": "code",
   "execution_count": 1,
   "id": "058bec32-652a-4552-81a2-4441c6a88ef8",
   "metadata": {},
   "outputs": [
    {
     "ename": "NameError",
     "evalue": "name 'flight_data' is not defined",
     "output_type": "error",
     "traceback": [
      "\u001b[0;31m---------------------------------------------------------------------------\u001b[0m",
      "\u001b[0;31mNameError\u001b[0m                                 Traceback (most recent call last)",
      "Cell \u001b[0;32mIn[1], line 2\u001b[0m\n\u001b[1;32m      1\u001b[0m \u001b[38;5;66;03m# Q1: Load the flight price dataset and examine its dimensions\u001b[39;00m\n\u001b[0;32m----> 2\u001b[0m \u001b[38;5;28mprint\u001b[39m(\u001b[38;5;124mf\u001b[39m\u001b[38;5;124m\"\u001b[39m\u001b[38;5;124mNumber of rows: \u001b[39m\u001b[38;5;132;01m{\u001b[39;00m\u001b[43mflight_data\u001b[49m\u001b[38;5;241m.\u001b[39mshape[\u001b[38;5;241m0\u001b[39m]\u001b[38;5;132;01m}\u001b[39;00m\u001b[38;5;124m\"\u001b[39m)\n\u001b[1;32m      3\u001b[0m \u001b[38;5;28mprint\u001b[39m(\u001b[38;5;124mf\u001b[39m\u001b[38;5;124m\"\u001b[39m\u001b[38;5;124mNumber of columns: \u001b[39m\u001b[38;5;132;01m{\u001b[39;00mflight_data\u001b[38;5;241m.\u001b[39mshape[\u001b[38;5;241m1\u001b[39m]\u001b[38;5;132;01m}\u001b[39;00m\u001b[38;5;124m\"\u001b[39m)\n",
      "\u001b[0;31mNameError\u001b[0m: name 'flight_data' is not defined"
     ]
    }
   ],
   "source": [
    "# Q1: Load the flight price dataset and examine its dimensions\n",
    "print(f\"Number of rows: {flight_data.shape[0]}\")\n",
    "print(f\"Number of columns: {flight_data.shape[1]}\")\n"
   ]
  },
  {
   "cell_type": "code",
   "execution_count": null,
   "id": "b8f5c2ee-ddb6-425a-ab8b-4256af06d214",
   "metadata": {},
   "outputs": [],
   "source": [
    "# Q2: Distribution of flight prices\n",
    "plt.figure(figsize=(10, 6))\n",
    "sns.histplot(flight_data['Price'], bins=50, kde=True)\n",
    "plt.xlabel('Price')\n",
    "plt.ylabel('Frequency')\n",
    "plt.title('Distribution of Flight Prices')\n",
    "plt.show()\n"
   ]
  },
  {
   "cell_type": "code",
   "execution_count": null,
   "id": "2b3cabce-5d8b-45ac-afa5-fca6c3d22344",
   "metadata": {},
   "outputs": [],
   "source": [
    "# Q3: Range of prices\n",
    "min_price = flight_data['Price'].min()\n",
    "max_price = flight_data['Price'].max()\n",
    "print(f\"Minimum price: {min_price}\")\n",
    "print(f\"Maximum price: {max_price}\")\n"
   ]
  },
  {
   "cell_type": "code",
   "execution_count": null,
   "id": "09e8d48e-c434-46ec-bb41-d121705fd4c8",
   "metadata": {},
   "outputs": [],
   "source": [
    "# Q4: Price variation by airline\n",
    "plt.figure(figsize=(14, 8))\n",
    "sns.boxplot(x='Airline', y='Price', data=flight_data)\n",
    "plt.xticks(rotation=90)\n",
    "plt.xlabel('Airline')\n",
    "plt.ylabel('Price')\n",
    "plt.title('Flight Prices by Airline')\n",
    "plt.show()\n"
   ]
  },
  {
   "cell_type": "code",
   "execution_count": null,
   "id": "d66c87cb-ac7c-41dc-a215-1b30f1c63480",
   "metadata": {},
   "outputs": [],
   "source": [
    "# Q5: Identify potential outliers\n",
    "plt.figure(figsize=(14, 8))\n",
    "sns.boxplot(x='Airline', y='Price', data=flight_data)\n",
    "plt.xticks(rotation=90)\n",
    "plt.xlabel('Airline')\n",
    "plt.ylabel('Price')\n",
    "plt.title('Outliers in Flight Prices by Airline')\n",
    "plt.show()\n",
    "\n",
    "# Describe the impact of outliers\n",
    "outliers = flight_data[(flight_data['Price'] < flight_data['Price'].quantile(0.01)) | \n",
    "                       (flight_data['Price'] > flight_data['Price'].quantile(0.99))]\n",
    "print(f\"Number of potential outliers: {outliers.shape[0]}\")\n",
    "print(\"Outliers can skew the analysis and lead to incorrect conclusions. They need to be investigated further.\")\n"
   ]
  },
  {
   "cell_type": "code",
   "execution_count": null,
   "id": "07a6be20-d1ce-44a4-a4d5-ca5b811e2293",
   "metadata": {},
   "outputs": [],
   "source": [
    "# Q6: Identify the peak travel season\n",
    "# Assuming the dataset has a 'Date_of_Journey' column\n",
    "flight_data['Date_of_Journey'] = pd.to_datetime(flight_data['Date_of_Journey'], format='%d/%m/%Y')\n",
    "flight_data['Month'] = flight_data['Date_of_Journey'].dt.month\n",
    "\n",
    "plt.figure(figsize=(10, 6))\n",
    "sns.countplot(x='Month', data=flight_data)\n",
    "plt.xlabel('Month')\n",
    "plt.ylabel('Number of Flights')\n",
    "plt.title('Number of Flights per Month')\n",
    "plt.show()\n",
    "\n",
    "# Describe findings\n",
    "monthly_flights = flight_data['Month'].value_counts().sort_index()\n",
    "print(\"Monthly flight distribution:\\n\", monthly_flights)\n",
    "print(\"To identify peak travel seasons, I would analyze the 'Date_of_Journey' to determine the months with the highest number of flights. The findings indicate peak months which will be presented using a count plot.\")\n"
   ]
  },
  {
   "cell_type": "code",
   "execution_count": null,
   "id": "29d1835b-6acf-456e-8531-c2defd896179",
   "metadata": {},
   "outputs": [],
   "source": [
    "# Q7: Identify trends in flight prices\n",
    "flight_data['Day_of_Week'] = flight_data['Date_of_Journey'].dt.day_name()\n",
    "\n",
    "# Analyzing prices by day of the week\n",
    "plt.figure(figsize=(10, 6))\n",
    "sns.boxplot(x='Day_of_Week', y='Price', data=flight_data, order=['Monday', 'Tuesday', 'Wednesday', 'Thursday', 'Friday', 'Saturday', 'Sunday'])\n",
    "plt.xlabel('Day of the Week')\n",
    "plt.ylabel('Price')\n",
    "plt.title('Flight Prices by Day of the Week')\n",
    "plt.show()\n",
    "\n",
    "# Analyzing prices by month\n",
    "plt.figure(figsize=(10, 6))\n",
    "sns.lineplot(x='Month', y='Price', data=flight_data)\n",
    "plt.xlabel('Month')\n",
    "plt.ylabel('Price')\n",
    "plt.title('Flight Prices by Month')\n",
    "plt.show()\n",
    "\n",
    "# Describe findings\n",
    "print(\"To identify trends in flight prices, I would analyze features such as 'Date_of_Journey' and 'Day_of_Week'. Visualizations like boxplots and line plots help in understanding the variation in prices over different days and months.\")\n"
   ]
  },
  {
   "cell_type": "code",
   "execution_count": null,
   "id": "d7d442f9-40e9-40ab-8e23-e96b5f1169e3",
   "metadata": {},
   "outputs": [],
   "source": [
    "# Q8: Identify factors affecting flight prices\n",
    "# Assuming the dataset has 'Airline', 'Source', 'Destination', 'Total_Stops', and 'Duration' columns\n",
    "\n",
    "# Analyzing the impact of different factors\n",
    "plt.figure(figsize=(10, 6))\n",
    "sns.boxplot(x='Total_Stops', y='Price', data=flight_data)\n",
    "plt.xlabel('Total Stops')\n",
    "plt.ylabel('Price')\n",
    "plt.title('Flight Prices by Total Stops')\n",
    "plt.show()\n",
    "\n",
    "plt.figure(figsize=(10, 6))\n",
    "sns.boxplot(x='Source', y='Price', data=flight_data)\n",
    "plt.xlabel('Source')\n",
    "plt.ylabel('Price')\n",
    "plt.title('Flight Prices by Source')\n",
    "plt.show()\n",
    "\n",
    "plt.figure(figsize=(10, 6))\n",
    "sns.boxplot(x='Destination', y='Price', data=flight_data)\n",
    "plt.xlabel('Destination')\n",
    "plt.ylabel('Price')\n",
    "plt.title('Flight Prices by Destination')\n",
    "plt.show()\n",
    "\n",
    "# Correlation matrix\n",
    "plt.figure(figsize=(10, 6))\n",
    "sns.heatmap(flight_data.corr(), annot=True, cmap='coolwarm')\n",
    "plt.title('Correlation Matrix')\n",
    "plt.show()\n",
    "\n",
    "# Describe findings\n",
    "print(\"To identify factors affecting flight prices, I would analyze features like 'Airline', 'Source', 'Destination', 'Total_Stops', and 'Duration'. Boxplots and correlation matrices are useful visualizations to present these findings. This helps in understanding how different factors influence flight prices and allows management to make data-driven decisions.\")\n"
   ]
  },
  {
   "cell_type": "code",
   "execution_count": null,
   "id": "f5a0f572-c94f-4c98-a51b-fe71177dfad2",
   "metadata": {},
   "outputs": [],
   "source": [
    "# Q9: Examine the dimensions of the dataset\n",
    "rows, columns = playstore_data.shape\n",
    "print(f\"Number of rows: {rows}\")\n",
    "print(f\"Number of columns: {columns}\")\n"
   ]
  },
  {
   "cell_type": "code",
   "execution_count": null,
   "id": "aae8b34c-9bb0-4e2c-bdaa-e0bc9c71fb55",
   "metadata": {},
   "outputs": [],
   "source": [
    "# Q10: Rating variation by category\n",
    "plt.figure(figsize=(14, 8))\n",
    "sns.boxplot(x='Category', y='Rating', data=playstore_data)\n",
    "plt.xticks(rotation=90)\n",
    "plt.xlabel('Category')\n",
    "plt.ylabel('Rating')\n",
    "plt.title('App Ratings by Category')\n",
    "plt.show()\n"
   ]
  },
  {
   "cell_type": "code",
   "execution_count": null,
   "id": "2f9002ae-45b9-474f-a429-da24e0f2a1ef",
   "metadata": {},
   "outputs": [],
   "source": [
    "# Q11: Identify missing values\n",
    "missing_values = playstore_data.isnull().sum()\n",
    "print(missing_values[missing_values > 0])\n",
    "\n",
    "# Describe the impact of missing values\n",
    "print(\"Missing values can lead to biased estimates, reduce the dataset size, and affect the reliability of the analysis. They need to be handled appropriately.\")\n"
   ]
  },
  {
   "cell_type": "code",
   "execution_count": null,
   "id": "39ea9ac8-a414-4920-8aa0-016ceb6d40f3",
   "metadata": {},
   "outputs": [],
   "source": [
    "# Q12: Relationship between app size and rating\n",
    "# Convert 'Size' to numeric, assuming 'M' for MB and 'k' for KB\n",
    "playstore_data['Size'] = playstore_data['Size'].replace('Varies with device', np.nan)\n",
    "playstore_data['Size'] = playstore_data['Size'].str.replace('M', '').str.replace('k', 'e-3').astype(float)\n",
    "playstore_data['Size'] *= 1e6  # Convert MB to bytes\n",
    "\n",
    "# Scatter plot\n",
    "plt.figure(figsize=(10, 6))\n",
    "sns.scatterplot(x='Size', y='Rating', data=playstore_data)\n",
    "plt.xlabel('Size (in bytes)')\n",
    "plt.ylabel('Rating')\n",
    "plt.title('Relationship between App Size and Rating')\n",
    "plt.show()\n"
   ]
  },
  {
   "cell_type": "code",
   "execution_count": null,
   "id": "ac526afa-f73e-475f-acfe-31c15663902f",
   "metadata": {},
   "outputs": [],
   "source": [
    "# Q13: App type vs. price\n",
    "playstore_data['Price'] = playstore_data['Price'].str.replace('$', '').astype(float)\n",
    "\n",
    "# Bar chart\n",
    "plt.figure(figsize=(10, 6))\n",
    "sns.barplot(x='Type', y='Price', data=playstore_data)\n",
    "plt.xlabel('Type')\n",
    "plt.ylabel('Average Price')\n",
    "plt.title('Average Price by App Type')\n",
    "plt.show()\n"
   ]
  },
  {
   "cell_type": "code",
   "execution_count": null,
   "id": "88ba817f-8bcf-4efc-b356-7ae6723cff31",
   "metadata": {},
   "outputs": [],
   "source": [
    "# Q14: Top 10 most popular apps\n",
    "# Convert 'Installs' to numeric\n",
    "playstore_data['Installs'] = playstore_data['Installs'].str.replace(',', '').str.replace('+', '').astype(int)\n",
    "\n",
    "top_10_apps = playstore_data.groupby('App')['Installs'].sum().sort_values(ascending=False).head(10)\n",
    "print(top_10_apps)\n"
   ]
  },
  {
   "cell_type": "code",
   "execution_count": null,
   "id": "6862748d-3bde-4c5c-a9c2-2741b6154b97",
   "metadata": {},
   "outputs": [],
   "source": [
    "# Q15: Most popular app categories\n",
    "# Analyzing 'Category' and 'Installs'\n",
    "category_installs = playstore_data.groupby('Category')['Installs'].sum().sort_values(ascending=False)\n",
    "plt.figure(figsize=(14, 8))\n",
    "category_installs.plot(kind='bar')\n",
    "plt.xlabel('Category')\n",
    "plt.ylabel('Total Installs')\n",
    "plt.title('Total Installs by Category')\n",
    "plt.show()\n",
    "\n",
    "# Approach\n",
    "print(\"To identify the most popular app categories, I would analyze the 'Category' and 'Installs' features. Summing the total installs for each category gives an indication of popularity. Visualizing this with a bar chart helps in making clear recommendations based on user engagement and demand.\")\n"
   ]
  },
  {
   "cell_type": "code",
   "execution_count": null,
   "id": "6dc8fbb1-45b9-4857-a7c5-5d906b8a94b0",
   "metadata": {},
   "outputs": [],
   "source": [
    "# Q16: Identify the most successful app developers\n",
    "# Analyzing 'Installs' and 'Rating' for each developer\n",
    "developer_success = playstore_data.groupby('Developer')['Installs', 'Rating'].agg({'Installs': 'sum', 'Rating': 'mean'}).sort_values(by='Installs', ascending=False).head(10)\n",
    "print(developer_success)\n",
    "\n",
    "# Visualizations\n",
    "plt.figure(figsize=(14, 8))\n",
    "sns.barplot(x=developer_success.index, y='Installs', data=developer_success)\n",
    "plt.xticks(rotation=90)\n",
    "plt.xlabel('Developer')\n",
    "plt.ylabel('Total Installs')\n",
    "plt.title('Top 10 Developers by Total Installs')\n",
    "plt.show()\n",
    "\n",
    "plt.figure(figsize=(14, 8))\n",
    "sns.barplot(x=developer_success.index, y='Rating', data=developer_success)\n",
    "plt.xticks(rotation=90)\n",
    "plt.xlabel('Developer')\n",
    "plt.ylabel('Average Rating')\n",
    "plt.title('Top 10 Developers by Average Rating')\n",
    "plt.show()\n",
    "\n",
    "# Approach\n",
    "print(\"To identify the most successful app developers, I would analyze features such as 'Developer', 'Installs', and 'Rating'. Summing the total installs and calculating the average rating for each developer provides insights into their success. Bar charts can effectively visualize these metrics to present clear recommendations.\")\n"
   ]
  },
  {
   "cell_type": "code",
   "execution_count": null,
   "id": "a4ca0b3f-4409-4969-8ed8-999f76ff0614",
   "metadata": {},
   "outputs": [],
   "source": [
    "# Q17: Identify the best time to launch a new app\n",
    "# Analyzing 'Last Updated' and 'Installs'\n",
    "playstore_data['Last Updated'] = pd.to_datetime(playstore_data['Last Updated'])\n",
    "playstore_data['Year'] = playstore_data['Last Updated'].dt.year\n",
    "playstore_data['Month'] = playstore_data['Last Updated'].dt.month\n",
    "\n",
    "# Total installs by month\n",
    "monthly_installs = playstore_data.groupby('Month')['Installs'].sum().sort_index()\n",
    "plt.figure(figsize=(14, 8))\n",
    "monthly_installs.plot(kind='bar')\n",
    "plt.xlabel('Month')\n",
    "plt.ylabel('Total Installs')\n",
    "plt.title('Total Installs by Month')\n",
    "plt.show()\n",
    "\n",
    "# Total installs by year\n",
    "yearly_installs = playstore_data.groupby('Year')['Installs'].sum().sort_index()\n",
    "plt.figure(figsize=(14, 8))\n",
    "yearly_installs.plot(kind='bar')\n",
    "plt.xlabel('Year')\n",
    "plt.ylabel('Total Installs')\n",
    "plt.title('Total Installs by Year')\n",
    "plt.show()\n",
    "\n",
    "# Approach\n",
    "print(\"To identify the best time to launch a new app, I would analyze features such as 'Last Updated', 'Month', and 'Installs'. By examining the total installs by month and year, we can identify patterns and trends that suggest optimal times for launching new apps. Bar charts are useful visualizations to present these findings and make data-driven recommendations.\")\n"
   ]
  },
  {
   "cell_type": "code",
   "execution_count": null,
   "id": "afbe3170-277f-413c-9b0b-b87956078770",
   "metadata": {},
   "outputs": [],
   "source": []
  },
  {
   "cell_type": "code",
   "execution_count": null,
   "id": "610263c4-9393-458c-ac2a-b0e743ba976b",
   "metadata": {},
   "outputs": [],
   "source": []
  }
 ],
 "metadata": {
  "kernelspec": {
   "display_name": "Python 3 (ipykernel)",
   "language": "python",
   "name": "python3"
  },
  "language_info": {
   "codemirror_mode": {
    "name": "ipython",
    "version": 3
   },
   "file_extension": ".py",
   "mimetype": "text/x-python",
   "name": "python",
   "nbconvert_exporter": "python",
   "pygments_lexer": "ipython3",
   "version": "3.10.8"
  }
 },
 "nbformat": 4,
 "nbformat_minor": 5
}
