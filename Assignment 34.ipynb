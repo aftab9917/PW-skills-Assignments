{
 "cells": [
  {
   "cell_type": "code",
   "execution_count": 1,
   "id": "adefd2ad-8c7c-4e16-8888-b736591be06c",
   "metadata": {},
   "outputs": [],
   "source": [
    "# ANSWER 1\n",
    "import numpy as np\n",
    "from scipy.stats import f\n",
    "\n",
    "def calculate_f_value(data1, data2):\n",
    "    f_value, p_value = f.oneway(data1, data2)\n",
    "    return f_value, p_value\n"
   ]
  },
  {
   "cell_type": "code",
   "execution_count": 2,
   "id": "0d35d5e5-3986-4e30-9348-e4334aef039b",
   "metadata": {},
   "outputs": [],
   "source": [
    "# ANSWER 2\n",
    "from scipy.stats import f\n",
    "\n",
    "def critical_f_value(alpha, dfn, dfd):\n",
    "    return f.ppf(1 - alpha / 2, dfn, dfd)\n"
   ]
  },
  {
   "cell_type": "code",
   "execution_count": 3,
   "id": "2fd0f5e4-9154-47a9-86e8-680f38111515",
   "metadata": {},
   "outputs": [],
   "source": [
    "# ANSWER 3\n",
    "import numpy as np\n",
    "from scipy.stats import f\n",
    "\n",
    "def f_test_for_equal_variances(data1, data2):\n",
    "    f_value, p_value = np.var(data1) / np.var(data2), 1 - f.cdf(np.var(data1) / np.var(data2), len(data1) - 1, len(data2) - 1)\n",
    "    return f_value, len(data1) - 1, len(data2) - 1, p_value\n"
   ]
  },
  {
   "cell_type": "code",
   "execution_count": 4,
   "id": "59850a10-1087-49ad-b04d-febb656a74d1",
   "metadata": {},
   "outputs": [],
   "source": [
    "# ANSWER 4\n",
    "from scipy.stats import f\n",
    "\n",
    "def f_test_for_different_variances(variance1, variance2, n1, n2, alpha=0.05):\n",
    "    f_critical = f.ppf(1 - alpha / 2, n1 - 1, n2 - 1)\n",
    "    f_observed = variance1 / variance2\n",
    "    return f_observed, f_critical, f_observed > f_critical\n"
   ]
  },
  {
   "cell_type": "code",
   "execution_count": 5,
   "id": "89852821-f699-4d2b-a7bf-2dafc0163f32",
   "metadata": {},
   "outputs": [],
   "source": [
    "# ANSWER 5\n",
    "from scipy.stats import f\n",
    "\n",
    "def f_test_for_variance_claim(sample_variance, claimed_variance, n, alpha=0.01):\n",
    "    f_critical = f.ppf(1 - alpha, n - 1, n - 1)\n",
    "    f_observed = sample_variance / claimed_variance\n",
    "    return f_observed, f_critical, f_observed <= f_critical\n"
   ]
  },
  {
   "cell_type": "code",
   "execution_count": 6,
   "id": "48639d1b-d91a-4998-9c00-f680ffb553aa",
   "metadata": {},
   "outputs": [],
   "source": [
    "# ANSWER 6\n",
    "from scipy.stats import f\n",
    "\n",
    "def f_distribution_mean_and_variance(dfn, dfd):\n",
    "    mean = dfd / (dfd - 2)\n",
    "    variance = (2 * (dfd ** 2) * (dfn + dfd - 2)) / (dfn * (dfd - 2) ** 2 * (dfd - 4))\n",
    "    return mean, variance\n"
   ]
  },
  {
   "cell_type": "code",
   "execution_count": 7,
   "id": "4679f7e2-02be-4d1d-968b-2e951c8df362",
   "metadata": {},
   "outputs": [],
   "source": [
    "# ANSWER 7\n",
    "from scipy.stats import f\n",
    "\n",
    "def f_test_for_different_variances(sample_var1, sample_var2, n1, n2, alpha=0.10):\n",
    "    f_critical = f.ppf(1 - alpha / 2, n1 - 1, n2 - 1)\n",
    "    f_observed = sample_var1 / sample_var2\n",
    "    return f_observed, f_critical, f_observed > f_critical\n"
   ]
  },
  {
   "cell_type": "code",
   "execution_count": 8,
   "id": "2cd7f8a9-e526-40ef-a5d2-4147685d411c",
   "metadata": {},
   "outputs": [],
   "source": [
    "# ANSWER 8\n",
    "from scipy.stats import f\n",
    "\n",
    "def f_test_for_different_variances(waiting_times1, waiting_times2, alpha=0.05):\n",
    "    sample_var1 = np.var(waiting_times1, ddof=1)\n",
    "    sample_var2 = np.var(waiting_times2, ddof=1)\n",
    "    n1 = len(waiting_times1)\n",
    "    n2 = len(waiting_times2)\n",
    "    f_critical = f.ppf(1 - alpha / 2, n1 - 1, n2 - 1)\n",
    "    f_observed = sample_var1 / sample_var2\n",
    "    return f_observed, f_critical, f_observed > f_critical\n"
   ]
  },
  {
   "cell_type": "code",
   "execution_count": 9,
   "id": "487393b7-cb31-4844-a361-2dc08e17447c",
   "metadata": {},
   "outputs": [],
   "source": [
    "# ANSWER 9\n",
    "from scipy.stats import f\n",
    "\n",
    "def f_test_for_different_variances(scores_group1, scores_group2, alpha=0.01):\n",
    "    sample_var1 = np.var(scores_group1, ddof=1)\n",
    "    sample_var2 = np.var(scores_group2, ddof=1)\n",
    "    n1 = len(scores_group1)\n",
    "    n2 = len(scores_group2)\n",
    "    f_critical = f.ppf(1 - alpha / 2, n1 - 1, n2 - 1)\n",
    "    f_observed = sample_var1 / sample_var2\n",
    "    return f_observed, f_critical, f_observed > f_critical\n"
   ]
  },
  {
   "cell_type": "code",
   "execution_count": null,
   "id": "61e044c7-015e-47ec-b213-39dbe31feeeb",
   "metadata": {},
   "outputs": [],
   "source": []
  }
 ],
 "metadata": {
  "kernelspec": {
   "display_name": "Python 3 (ipykernel)",
   "language": "python",
   "name": "python3"
  },
  "language_info": {
   "codemirror_mode": {
    "name": "ipython",
    "version": 3
   },
   "file_extension": ".py",
   "mimetype": "text/x-python",
   "name": "python",
   "nbconvert_exporter": "python",
   "pygments_lexer": "ipython3",
   "version": "3.10.8"
  }
 },
 "nbformat": 4,
 "nbformat_minor": 5
}
