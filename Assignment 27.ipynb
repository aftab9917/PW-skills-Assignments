{
 "cells": [
  {
   "cell_type": "code",
   "execution_count": 1,
   "id": "a1055564-e3eb-426e-a2cd-a9c789370957",
   "metadata": {},
   "outputs": [
    {
     "data": {
      "text/plain": [
       "'The three measures of central tendency are the mean, median, and mode.'"
      ]
     },
     "execution_count": 1,
     "metadata": {},
     "output_type": "execute_result"
    }
   ],
   "source": [
    "#ANSWER 1\n",
    "\n",
    "'''The three measures of central tendency are the mean, median, and mode.'''"
   ]
  },
  {
   "cell_type": "code",
   "execution_count": 2,
   "id": "2e15ac1b-3dad-4774-8c2c-ecc0f0896ed1",
   "metadata": {},
   "outputs": [
    {
     "data": {
      "text/plain": [
       "'The mean is the average value of a dataset, calculated by summing all values and dividing by the number of values. The median is the middle value in a dataset when it is sorted in ascending order, or the average of the two middle values if there is an even number of data points. The mode is the value that appears most frequently in the dataset. These measures are used to understand where the center of the data is located and to summarize its typical value.'"
      ]
     },
     "execution_count": 2,
     "metadata": {},
     "output_type": "execute_result"
    }
   ],
   "source": [
    "#ANSWER 2\n",
    "\n",
    "'''The mean is the average value of a dataset, calculated by summing all values and dividing by the number of values. The median is the middle value in a dataset when it is sorted in ascending order, or the average of the two middle values if there is an even number of data points. The mode is the value that appears most frequently in the dataset. These measures are used to understand where the center of the data is located and to summarize its typical value.'''"
   ]
  },
  {
   "cell_type": "code",
   "execution_count": 4,
   "id": "fd12196e-daac-4c38-9140-971127283308",
   "metadata": {},
   "outputs": [
    {
     "name": "stdout",
     "output_type": "stream",
     "text": [
      "Mean: 177.01875\n",
      "Median: 177.0\n",
      "Mode: 178\n"
     ]
    }
   ],
   "source": [
    "#ANSWER 3\n",
    "\n",
    "from statistics import mean, median, mode\n",
    "from collections import Counter\n",
    "\n",
    "# Given height data\n",
    "height_data = [178, 177, 176, 177, 178.2, 178, 175, 179, 180, 175, 178.9, 176.2, 177, 172.5, 178, 176.5]\n",
    "\n",
    "# Calculate mean\n",
    "mean_height = mean(height_data)\n",
    "\n",
    "# Calculate median\n",
    "median_height = median(height_data)\n",
    "\n",
    "# Calculate mode\n",
    "mode_height = mode(height_data)\n",
    "\n",
    "print(\"Mean:\", mean_height)\n",
    "print(\"Median:\", median_height)\n",
    "print(\"Mode:\", mode_height)\n"
   ]
  },
  {
   "cell_type": "code",
   "execution_count": 5,
   "id": "845221b4-f539-4313-990a-2a939e6c08a2",
   "metadata": {},
   "outputs": [
    {
     "data": {
      "text/plain": [
       "'To find the standard deviation for the given data, you first find the mean, then calculate the difference between each data point and the mean, square each difference, find the average of those squared differences, and finally take the square root.'"
      ]
     },
     "execution_count": 5,
     "metadata": {},
     "output_type": "execute_result"
    }
   ],
   "source": [
    "#ANSWER 4\n",
    "\n",
    "'''To find the standard deviation for the given data, you first find the mean, then calculate the difference between each data point and the mean, square each difference, find the average of those squared differences, and finally take the square root.'''"
   ]
  },
  {
   "cell_type": "code",
   "execution_count": 6,
   "id": "465cf86f-da5a-4cc2-8f23-ed7222ad6266",
   "metadata": {},
   "outputs": [
    {
     "data": {
      "text/plain": [
       "'Measures of dispersion like range, variance, and standard deviation are used to describe how spread out the values in a dataset are. For example, a larger standard deviation indicates that the values in the dataset are more spread out from the mean.'"
      ]
     },
     "execution_count": 6,
     "metadata": {},
     "output_type": "execute_result"
    }
   ],
   "source": [
    "#ANSWER 5\n",
    "\n",
    "'''Measures of dispersion like range, variance, and standard deviation are used to describe how spread out the values in a dataset are. For example, a larger standard deviation indicates that the values in the dataset are more spread out from the mean.'''"
   ]
  },
  {
   "cell_type": "code",
   "execution_count": 7,
   "id": "400e4250-edd7-4dfa-85ea-5645fd46cf0b",
   "metadata": {},
   "outputs": [
    {
     "data": {
      "text/plain": [
       "'A Venn diagram is a graphical representation of the relationships between different sets. It consists of overlapping circles, each representing a set, with the overlapping regions representing the elements that are common to those sets.'"
      ]
     },
     "execution_count": 7,
     "metadata": {},
     "output_type": "execute_result"
    }
   ],
   "source": [
    "#ANSWER 6\n",
    "'''A Venn diagram is a graphical representation of the relationships between different sets. It consists of overlapping circles, each representing a set, with the overlapping regions representing the elements that are common to those sets.'''"
   ]
  },
  {
   "cell_type": "code",
   "execution_count": 10,
   "id": "bf4100f8-6e58-430b-97bc-b19543a22edf",
   "metadata": {},
   "outputs": [
    {
     "name": "stdout",
     "output_type": "stream",
     "text": [
      "Intersection of A and B: {2, 6}\n",
      "Union of A and B: {0, 2, 3, 4, 5, 6, 7, 8, 10}\n"
     ]
    }
   ],
   "source": [
    "#ANSWER 7\n",
    "# Define the sets A and B\n",
    "A = {2, 3, 4, 5, 6, 7}\n",
    "B = {0, 2, 6, 8, 10}\n",
    "\n",
    "# Intersection of sets A and B\n",
    "intersection = A.intersection(B)\n",
    "\n",
    "# Union of sets A and B\n",
    "union = A.union(B)\n",
    "\n",
    "print(\"Intersection of A and B:\", intersection)\n",
    "print(\"Union of A and B:\", union)\n",
    "\n"
   ]
  },
  {
   "cell_type": "code",
   "execution_count": 11,
   "id": "5ef0956d-c8eb-4e89-9f24-7f85eec7bff9",
   "metadata": {},
   "outputs": [
    {
     "data": {
      "text/plain": [
       "'Skewness in data refers to the lack of symmetry. If a distribution is skewed, it means that it has a longer tail on one side than the other.'"
      ]
     },
     "execution_count": 11,
     "metadata": {},
     "output_type": "execute_result"
    }
   ],
   "source": [
    "#ANSWER 8\n",
    "\n",
    "'''Skewness in data refers to the lack of symmetry. If a distribution is skewed, it means that it has a longer tail on one side than the other.'''"
   ]
  },
  {
   "cell_type": "code",
   "execution_count": 12,
   "id": "e8abcd8f-b25f-4a16-a9b5-854b9db37e32",
   "metadata": {},
   "outputs": [
    {
     "data": {
      "text/plain": [
       "' If a data is right skewed, the median will be less than the mean. This is because the skewed tail on the right side pulls the mean towards higher values.'"
      ]
     },
     "execution_count": 12,
     "metadata": {},
     "output_type": "execute_result"
    }
   ],
   "source": [
    "#ANSWER 9\n",
    "\n",
    "''' If a data is right skewed, the median will be less than the mean. This is because the skewed tail on the right side pulls the mean towards higher values.'''"
   ]
  },
  {
   "cell_type": "code",
   "execution_count": 13,
   "id": "651dd5e5-985f-4308-9275-e714ca5998a9",
   "metadata": {},
   "outputs": [
    {
     "data": {
      "text/plain": [
       "'Covariance measures how two variables change together, while correlation measures the strength and direction of their relationship. Covariance can be affected by the scale of the variables, whereas correlation is standardized. Both measures are used in statistical analysis to understand relationships between variables.'"
      ]
     },
     "execution_count": 13,
     "metadata": {},
     "output_type": "execute_result"
    }
   ],
   "source": [
    "#ANSWER 10\n",
    "\n",
    "'''Covariance measures how two variables change together, while correlation measures the strength and direction of their relationship. Covariance can be affected by the scale of the variables, whereas correlation is standardized. Both measures are used in statistical analysis to understand relationships between variables.'''"
   ]
  },
  {
   "cell_type": "code",
   "execution_count": 14,
   "id": "4e9d778a-b5af-4c9b-8db9-27218c2c85e9",
   "metadata": {},
   "outputs": [
    {
     "name": "stdout",
     "output_type": "stream",
     "text": [
      "Sample Mean: 5.0\n"
     ]
    }
   ],
   "source": [
    "#ANSWER 11\n",
    "\n",
    "# Define the dataset\n",
    "dataset = [2, 4, 6, 8]\n",
    "\n",
    "# Calculate the sum of all values in the dataset\n",
    "sum_of_values = sum(dataset)\n",
    "\n",
    "# Calculate the number of data points in the dataset\n",
    "num_of_data_points = len(dataset)\n",
    "\n",
    "# Calculate the sample mean\n",
    "sample_mean = sum_of_values / num_of_data_points\n",
    "\n",
    "print(\"Sample Mean:\", sample_mean)\n"
   ]
  },
  {
   "cell_type": "code",
   "execution_count": 15,
   "id": "333b9aa3-81f5-46ee-af83-98de6be788aa",
   "metadata": {},
   "outputs": [
    {
     "data": {
      "text/plain": [
       "'For a normal distribution, the mean, median, and mode are all equal. They are all located at the center of the distribution, and the distribution is symmetric around this central point.'"
      ]
     },
     "execution_count": 15,
     "metadata": {},
     "output_type": "execute_result"
    }
   ],
   "source": [
    "#ANSWER 12\n",
    "\n",
    "'''For a normal distribution, the mean, median, and mode are all equal. They are all located at the center of the distribution, and the distribution is symmetric around this central point.'''"
   ]
  },
  {
   "cell_type": "code",
   "execution_count": 16,
   "id": "04a4cb61-2ab0-4940-8f14-29c23c64cfb7",
   "metadata": {},
   "outputs": [
    {
     "data": {
      "text/plain": [
       "'Covariance measures the extent to which two variables change together, while correlation measures the strength and direction of their relationship, standardized to a range between -1 and 1. Covariance is affected by the scale of the variables, whereas correlation is dimensionless.'"
      ]
     },
     "execution_count": 16,
     "metadata": {},
     "output_type": "execute_result"
    }
   ],
   "source": [
    "#ANSWER 13\n",
    "\n",
    "'''Covariance measures the extent to which two variables change together, while correlation measures the strength and direction of their relationship, standardized to a range between -1 and 1. Covariance is affected by the scale of the variables, whereas correlation is dimensionless.'''"
   ]
  },
  {
   "cell_type": "code",
   "execution_count": 17,
   "id": "f7987f11-b99e-44f0-b35e-92c7341f396d",
   "metadata": {},
   "outputs": [
    {
     "data": {
      "text/plain": [
       "'Outliers can significantly affect measures of central tendency like the mean, pulling them towards extreme values. They can also affect measures of dispersion like standard deviation, as they contribute to the variability in the dataset. For example, in a dataset of incomes where most people earn around $50,000 but one person earns $5,000,000, the mean would be much higher than the typical income, and the standard deviation would also increase due to the presence of the outlier.'"
      ]
     },
     "execution_count": 17,
     "metadata": {},
     "output_type": "execute_result"
    }
   ],
   "source": [
    "#ANSWER 14\n",
    "\n",
    "'''Outliers can significantly affect measures of central tendency like the mean, pulling them towards extreme values. They can also affect measures of dispersion like standard deviation, as they contribute to the variability in the dataset. For example, in a dataset of incomes where most people earn around $50,000 but one person earns $5,000,000, the mean would be much higher than the typical income, and the standard deviation would also increase due to the presence of the outlier.'''"
   ]
  },
  {
   "cell_type": "code",
   "execution_count": null,
   "id": "0e7b63a0-93c7-4b3c-a233-7dc993906c1e",
   "metadata": {},
   "outputs": [],
   "source": []
  }
 ],
 "metadata": {
  "kernelspec": {
   "display_name": "Python 3 (ipykernel)",
   "language": "python",
   "name": "python3"
  },
  "language_info": {
   "codemirror_mode": {
    "name": "ipython",
    "version": 3
   },
   "file_extension": ".py",
   "mimetype": "text/x-python",
   "name": "python",
   "nbconvert_exporter": "python",
   "pygments_lexer": "ipython3",
   "version": "3.10.8"
  }
 },
 "nbformat": 4,
 "nbformat_minor": 5
}
