{
 "cells": [
  {
   "cell_type": "code",
   "execution_count": 1,
   "id": "c88f8623-fb9a-40e5-8ff8-ba416b2e59dd",
   "metadata": {},
   "outputs": [
    {
     "data": {
      "text/plain": [
       "'Probability Mass Function (PMF): It gives the probability that a discrete random variable is equal to a specific value. For example, in a fair six-sided die, each face has a PMF of 1/6.\\nProbability Density Function (PDF): It gives the probability that a continuous random variable falls within a particular range. For instance, the PDF of a normal distribution describes the likelihood of observing a value within a certain interval.'"
      ]
     },
     "execution_count": 1,
     "metadata": {},
     "output_type": "execute_result"
    }
   ],
   "source": [
    "#ANSWER 1\n",
    "\n",
    "'''Probability Mass Function (PMF): It gives the probability that a discrete random variable is equal to a specific value. For example, in a fair six-sided die, each face has a PMF of 1/6.\n",
    "Probability Density Function (PDF): It gives the probability that a continuous random variable falls within a particular range. For instance, the PDF of a normal distribution describes the likelihood of observing a value within a certain interval.'''"
   ]
  },
  {
   "cell_type": "code",
   "execution_count": 2,
   "id": "e4f3f577-d9eb-446b-b4d9-1aa62acb9de5",
   "metadata": {},
   "outputs": [
    {
     "data": {
      "text/plain": [
       "'Cumulative Density Function (CDF): It gives the probability that a random variable takes on a value less than or equal to a given point. It accumulates the probabilities up to that point. For instance, in a dice roll, the CDF would tell you the probability of rolling a number less than or equal to a certain value.\\nCDF is used because it provides a cumulative understanding of the probability distribution, making it easier to analyze and compare different distributions or make predictions based on probabilities.'"
      ]
     },
     "execution_count": 2,
     "metadata": {},
     "output_type": "execute_result"
    }
   ],
   "source": [
    "#ANSWER 2\n",
    "\n",
    "'''Cumulative Density Function (CDF): It gives the probability that a random variable takes on a value less than or equal to a given point. It accumulates the probabilities up to that point. For instance, in a dice roll, the CDF would tell you the probability of rolling a number less than or equal to a certain value.\n",
    "CDF is used because it provides a cumulative understanding of the probability distribution, making it easier to analyze and compare different distributions or make predictions based on probabilities.'''"
   ]
  },
  {
   "cell_type": "code",
   "execution_count": 3,
   "id": "21b0e21f-fd79-420d-a077-3ec2796ec562",
   "metadata": {},
   "outputs": [
    {
     "data": {
      "text/plain": [
       "'Normal distribution might be used in situations like height measurements, exam scores, or errors in measurements.\\nThe parameters of the normal distribution, mean (μ) and standard deviation (σ), determine the center and spread of the distribution, respectively. A higher mean shifts the distribution to the right, while a larger standard deviation makes it wider and flatter.'"
      ]
     },
     "execution_count": 3,
     "metadata": {},
     "output_type": "execute_result"
    }
   ],
   "source": [
    "#ANSWER 3\n",
    "\n",
    "'''Normal distribution might be used in situations like height measurements, exam scores, or errors in measurements.\n",
    "The parameters of the normal distribution, mean (μ) and standard deviation (σ), determine the center and spread of the distribution, respectively. A higher mean shifts the distribution to the right, while a larger standard deviation makes it wider and flatter.'''"
   ]
  },
  {
   "cell_type": "code",
   "execution_count": 4,
   "id": "b8f31df6-a81b-491f-9ed6-364ec19276a9",
   "metadata": {},
   "outputs": [
    {
     "data": {
      "text/plain": [
       "'Normal distribution is important because many natural phenomena follow this pattern, making it a useful model for prediction and analysis.\\nReal-life examples include:\\nHeights of individuals in a population\\nIQ scores\\nErrors in measurements\\nBlood pressure measurements'"
      ]
     },
     "execution_count": 4,
     "metadata": {},
     "output_type": "execute_result"
    }
   ],
   "source": [
    "#ANSWER 4\n",
    "\n",
    "'''Normal distribution is important because many natural phenomena follow this pattern, making it a useful model for prediction and analysis.\n",
    "Real-life examples include:\n",
    "Heights of individuals in a population\n",
    "IQ scores\n",
    "Errors in measurements\n",
    "Blood pressure measurements'''"
   ]
  },
  {
   "cell_type": "code",
   "execution_count": 6,
   "id": "eeee698f-61b9-4e10-a027-0cccf0a81c75",
   "metadata": {},
   "outputs": [
    {
     "data": {
      "text/plain": [
       "'Bernoulli distribution models a single binary outcome (success or failure) with probability p. For example, a coin flip where heads is success (p = 0.5) and tails is failure.\\nThe difference:\\nBernoulli distribution deals with a single trial.\\nBinomial distribution deals with multiple independent trials, each with a Bernoulli distribution.'"
      ]
     },
     "execution_count": 6,
     "metadata": {},
     "output_type": "execute_result"
    }
   ],
   "source": [
    "#ANSWER 5\n",
    "\n",
    "'''Bernoulli distribution models a single binary outcome (success or failure) with probability p. For example, a coin flip where heads is success (p = 0.5) and tails is failure.\n",
    "The difference:\n",
    "Bernoulli distribution deals with a single trial.\n",
    "Binomial distribution deals with multiple independent trials, each with a Bernoulli distribution.'''"
   ]
  },
  {
   "cell_type": "code",
   "execution_count": 7,
   "id": "f92a1a9f-7538-44af-a662-998805ee26e9",
   "metadata": {},
   "outputs": [
    {
     "name": "stdout",
     "output_type": "stream",
     "text": [
      "Probability of randomly selected observation being greater than 60: 0.15865525393145707\n"
     ]
    }
   ],
   "source": [
    "#ANSWER 6\n",
    "\n",
    "from scipy.stats import norm\n",
    "\n",
    "# Given data\n",
    "mean = 50\n",
    "std_dev = 10\n",
    "observation = 60\n",
    "\n",
    "# Calculate z-score\n",
    "z_score = (observation - mean) / std_dev\n",
    "\n",
    "# Find the probability using CDF\n",
    "probability_greater_than_60 = 1 - norm.cdf(z_score)\n",
    "\n",
    "print(\"Probability of randomly selected observation being greater than 60:\", probability_greater_than_60)\n"
   ]
  },
  {
   "cell_type": "code",
   "execution_count": 8,
   "id": "88a13840-f76c-42c3-ae2e-eec5dab78e6f",
   "metadata": {},
   "outputs": [
    {
     "data": {
      "text/plain": [
       "'Uniform distribution is a continuous probability distribution where every value within a certain range is equally likely to occur. An example is rolling a fair six-sided die, where each face has an equal probability of 1/6 of appearing.'"
      ]
     },
     "execution_count": 8,
     "metadata": {},
     "output_type": "execute_result"
    }
   ],
   "source": [
    "#ANSWER 7\n",
    "\n",
    "'''Uniform distribution is a continuous probability distribution where every value within a certain range is equally likely to occur. An example is rolling a fair six-sided die, where each face has an equal probability of 1/6 of appearing.'''"
   ]
  },
  {
   "cell_type": "code",
   "execution_count": 9,
   "id": "89029810-23c3-4cba-941a-93667caf42fd",
   "metadata": {},
   "outputs": [
    {
     "data": {
      "text/plain": [
       "\"The z-score measures how many standard deviations a data point is from the mean of the distribution. It helps in understanding where a particular data point lies relative to the mean and how unusual or typical it is. It's important because it standardizes the data, making it easier to compare across different distributions and draw conclusions about the likelihood of observing a particular value.\""
      ]
     },
     "execution_count": 9,
     "metadata": {},
     "output_type": "execute_result"
    }
   ],
   "source": [
    "#ANSWER 8\n",
    "\n",
    "'''The z-score measures how many standard deviations a data point is from the mean of the distribution. It helps in understanding where a particular data point lies relative to the mean and how unusual or typical it is. It's important because it standardizes the data, making it easier to compare across different distributions and draw conclusions about the likelihood of observing a particular value.'''"
   ]
  },
  {
   "cell_type": "code",
   "execution_count": 10,
   "id": "0408e651-e890-4ab3-b277-d5f6cbecf98e",
   "metadata": {},
   "outputs": [
    {
     "data": {
      "text/plain": [
       "\"The Central Limit Theorem states that the distribution of sample means approaches a normal distribution as the sample size gets larger, regardless of the shape of the population distribution. It's significant because it allows us to make inferences about a population based on the sample mean, even if the population distribution is not normal.\""
      ]
     },
     "execution_count": 10,
     "metadata": {},
     "output_type": "execute_result"
    }
   ],
   "source": [
    "#ANSWER 9\n",
    "\n",
    "'''The Central Limit Theorem states that the distribution of sample means approaches a normal distribution as the sample size gets larger, regardless of the shape of the population distribution. It's significant because it allows us to make inferences about a population based on the sample mean, even if the population distribution is not normal.'''"
   ]
  },
  {
   "cell_type": "code",
   "execution_count": 11,
   "id": "dd4bcc48-019c-4847-84c8-6c710a72b270",
   "metadata": {},
   "outputs": [
    {
     "data": {
      "text/plain": [
       "'The assumptions of the Central Limit Theorem are:\\nThe sample size should be sufficiently large (usually n ≥ 30).\\nThe samples should be drawn randomly from the population.\\nThe samples should be independent of each other.'"
      ]
     },
     "execution_count": 11,
     "metadata": {},
     "output_type": "execute_result"
    }
   ],
   "source": [
    "#ANSWER 10\n",
    "\n",
    "'''The assumptions of the Central Limit Theorem are:\n",
    "The sample size should be sufficiently large (usually n ≥ 30).\n",
    "The samples should be drawn randomly from the population.\n",
    "The samples should be independent of each other.'''"
   ]
  },
  {
   "cell_type": "code",
   "execution_count": null,
   "id": "c2459ad8-090b-4dd7-ab74-f5e66bb3853e",
   "metadata": {},
   "outputs": [],
   "source": []
  }
 ],
 "metadata": {
  "kernelspec": {
   "display_name": "Python 3 (ipykernel)",
   "language": "python",
   "name": "python3"
  },
  "language_info": {
   "codemirror_mode": {
    "name": "ipython",
    "version": 3
   },
   "file_extension": ".py",
   "mimetype": "text/x-python",
   "name": "python",
   "nbconvert_exporter": "python",
   "pygments_lexer": "ipython3",
   "version": "3.10.8"
  }
 },
 "nbformat": 4,
 "nbformat_minor": 5
}
