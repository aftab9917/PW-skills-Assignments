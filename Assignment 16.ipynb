{
 "cells": [
  {
   "cell_type": "code",
   "execution_count": null,
   "id": "d2d9844f-d2c9-4379-8b55-ffa0eefd71b6",
   "metadata": {},
   "outputs": [],
   "source": [
    "#ANSWER 1\n",
    "\n",
    "'''GET Method: The GET method is used to request data from a specified resource. When you use a web browser to visit a webpage, the browser sends a GET request to the server to retrieve the content of the webpage. GET requests can be cached and bookmarked, and they have length restrictions. They should only be used for retrieving data, not for modifying data on the server.\n",
    "POST Method: The POST method is used to submit data to be processed to a specified resource. When you fill out a form on a website and click the submit button, the data from the form is sent to the server using a POST request. POST requests can send larger amounts of data compared to GET requests, and the data is not visible in the URL.'''"
   ]
  },
  {
   "cell_type": "code",
   "execution_count": null,
   "id": "ce46a7a1-d4c4-4e92-99fc-b2be052a0895",
   "metadata": {},
   "outputs": [],
   "source": [
    "#ANSWER 2\n",
    "\n",
    "'''The request object in Flask is used to access incoming request data such as form data, query parameters, and files uploaded with the request. It allows Flask applications to process and respond to incoming requests by extracting data from the request object.'''"
   ]
  },
  {
   "cell_type": "code",
   "execution_count": 1,
   "id": "2801fe7d-623c-49b8-8b50-a4822790be35",
   "metadata": {},
   "outputs": [
    {
     "data": {
      "text/plain": [
       "'The redirect() function in Flask is used to redirect the client to a different URL. It is commonly used after processing a form submission to redirect the user to a different page, such as a thank-you page or a page displaying the results of the form submission.'"
      ]
     },
     "execution_count": 1,
     "metadata": {},
     "output_type": "execute_result"
    }
   ],
   "source": [
    "#ANSWER 3\n",
    "\n",
    "'''The redirect() function in Flask is used to redirect the client to a different URL. It is commonly used after processing a form submission to redirect the user to a different page, such as a thank-you page or a page displaying the results of the form submission.'''"
   ]
  },
  {
   "cell_type": "code",
   "execution_count": 2,
   "id": "a608eff4-b918-45ac-bf9f-a9a1fbd8c327",
   "metadata": {},
   "outputs": [
    {
     "data": {
      "text/plain": [
       "'Templates in Flask are HTML files that contain placeholders for dynamic content. They allow developers to create dynamic web pages by injecting data into the HTML templates. The render_template() function in Flask is used to render HTML templates and pass data to them for rendering.'"
      ]
     },
     "execution_count": 2,
     "metadata": {},
     "output_type": "execute_result"
    }
   ],
   "source": [
    "#ANSWER 4\n",
    "\n",
    "'''Templates in Flask are HTML files that contain placeholders for dynamic content. They allow developers to create dynamic web pages by injecting data into the HTML templates. The render_template() function in Flask is used to render HTML templates and pass data to them for rendering.'''"
   ]
  },
  {
   "cell_type": "code",
   "execution_count": null,
   "id": "6005552a-c5d3-4e57-9da1-64680310ff7c",
   "metadata": {},
   "outputs": [],
   "source": [
    "#ANSWER 5\n",
    "\n",
    "\n",
    "from flask import Flask, jsonify\n",
    "\n",
    "app = Flask(__name__)\n",
    "\n",
    "@app.route('/api/hello', methods=['GET'])\n",
    "def hello():\n",
    "    return jsonify({'message': 'Hello, World!'})\n",
    "\n",
    "if __name__ == '__main__':\n",
    "    app.run(debug=True)\n",
    "\n",
    "    \n",
    "'''In Postman, you can make a GET request to http://localhost:5000/api/hello to test the API endpoint. Ensure that your Flask application is running while testing.\n",
    "\n",
    "To attach the screenshot in Jupyter Notebook, you can use the Markdown syntax:'''"
   ]
  },
  {
   "cell_type": "code",
   "execution_count": null,
   "id": "81938a42-984b-4b33-b09a-32baf7320309",
   "metadata": {},
   "outputs": [],
   "source": [
    "![Output](path_to_screenshot)\n",
    "\n",
    "#Please replace path_to_screenshot with the actual path to your screenshot.\n",
    "\n",
    "\n",
    "\n",
    "\n",
    "\n",
    "\n",
    "\n"
   ]
  }
 ],
 "metadata": {
  "kernelspec": {
   "display_name": "Python 3 (ipykernel)",
   "language": "python",
   "name": "python3"
  },
  "language_info": {
   "codemirror_mode": {
    "name": "ipython",
    "version": 3
   },
   "file_extension": ".py",
   "mimetype": "text/x-python",
   "name": "python",
   "nbconvert_exporter": "python",
   "pygments_lexer": "ipython3",
   "version": "3.10.8"
  }
 },
 "nbformat": 4,
 "nbformat_minor": 5
}
