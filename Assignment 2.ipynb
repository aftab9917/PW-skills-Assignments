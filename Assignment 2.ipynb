{
 "cells": [
  {
   "cell_type": "code",
   "execution_count": 1,
   "id": "97a4bc8b-308b-4c2b-972e-a82e91eeffa4",
   "metadata": {},
   "outputs": [],
   "source": [
    "#ANSWER 1\n",
    "\n",
    "#\"\"\"We use '#' for single line comment,and we use triple ''' or \"\"\" for \n",
    "#multiline comments."
   ]
  },
  {
   "cell_type": "code",
   "execution_count": 7,
   "id": "ece77a63-6ecd-4476-837f-4fd1223d66d8",
   "metadata": {},
   "outputs": [],
   "source": [
    "#ANSWER 2\n",
    "\n",
    "# a variable is a symbolic name that references a value. Variables allow you to store and manipulate data in your programs."
   ]
  },
  {
   "cell_type": "code",
   "execution_count": 8,
   "id": "b0d9b163-a2f9-4ade-a339-6c2cf4cc552b",
   "metadata": {},
   "outputs": [
    {
     "name": "stdout",
     "output_type": "stream",
     "text": [
      "10\n"
     ]
    }
   ],
   "source": [
    "X=10\n",
    "Y='AFTAB'\n",
    "\n",
    "#Here X and Y are variables storing data.\n",
    "#On Printing values of variable:--\n",
    "print(X)"
   ]
  },
  {
   "cell_type": "code",
   "execution_count": 9,
   "id": "079bf9b2-9947-499c-a3af-31eccdc01f7f",
   "metadata": {},
   "outputs": [
    {
     "name": "stdout",
     "output_type": "stream",
     "text": [
      "AFTAB\n"
     ]
    }
   ],
   "source": [
    "print(Y)"
   ]
  },
  {
   "cell_type": "code",
   "execution_count": 11,
   "id": "597ed0ac-e49b-41ef-ba09-a3b5a5e88456",
   "metadata": {},
   "outputs": [
    {
     "name": "stdout",
     "output_type": "stream",
     "text": [
      "45\n"
     ]
    }
   ],
   "source": [
    "#ANSWER 3:\n",
    "\n",
    "# Yes, We can convert one data type to another in python.\n",
    "#Here ,for example,\n",
    "\n",
    "#Converts a number or a string containing a whole number to an integer\n",
    "\n",
    "# Convert a string to an integer\n",
    "num_str = \"45\"\n",
    "num_int = int(num_str)\n",
    "print(num_int)  \n",
    "\n",
    " \n",
    "\n"
   ]
  },
  {
   "cell_type": "code",
   "execution_count": 39,
   "id": "c1143f52-14cd-461d-826f-028450c704f3",
   "metadata": {},
   "outputs": [
    {
     "ename": "SyntaxError",
     "evalue": "unterminated string literal (detected at line 15) (3902259940.py, line 15)",
     "output_type": "error",
     "traceback": [
      "\u001b[0;36m  Cell \u001b[0;32mIn[39], line 15\u001b[0;36m\u001b[0m\n\u001b[0;31m    Once i am in the correct directory,I can run the Python script using the python command followed by the script's filename\u001b[0m\n\u001b[0m                                                                                                                  ^\u001b[0m\n\u001b[0;31mSyntaxError\u001b[0m\u001b[0;31m:\u001b[0m unterminated string literal (detected at line 15)\n"
     ]
    }
   ],
   "source": [
    "#ANSWER 4:\n",
    "I will open a  text editor of my choice (e.g., Notepad, Visual Studio Code, Atom, etc.).\n",
    "\n",
    "i will write Python code in the editor. Save the file with a .py extension. For example, have to create a file named myscript.py and add the following code:\n",
    "\n",
    "print(\"Hello, World!\")\n",
    "\n",
    "Executing a Python Script from the Command Line:\n",
    "    \n",
    "Open a command prompt or terminal on my system.\n",
    "\n",
    "Navigate to the directory where i saved my Python script using the cd command (change directory). For example:\n",
    "cd path/to/your/directory\n",
    "\n",
    "Once i am in the correct directory,I can run the Python script using the python command followed by the script's filename\n",
    "\n",
    "python myscript.py''\n",
    " "
   ]
  },
  {
   "cell_type": "code",
   "execution_count": 18,
   "id": "c2852391-7922-4e6f-a3cf-19552aa70b93",
   "metadata": {},
   "outputs": [
    {
     "data": {
      "text/plain": [
       "[2, 3]"
      ]
     },
     "execution_count": 18,
     "metadata": {},
     "output_type": "execute_result"
    }
   ],
   "source": [
    "#ANSWER 5:\n",
    "\n",
    "my_list = [1, 2, 3, 4, 5]\n",
    "\n",
    "# Using slicing to obtain the sub-list [2, 3]\n",
    "sub_list = my_list[1:3]\n",
    "\n",
    "(sub_list)\n"
   ]
  },
  {
   "cell_type": "code",
   "execution_count": 22,
   "id": "6d5fae98-0f9f-421c-906c-a4bd48ca3280",
   "metadata": {},
   "outputs": [
    {
     "data": {
      "text/plain": [
       "'In mathematics, a complex number is a number that can be expressed in the form of \\nx+yi, where x and y are real numbers, and \\ni is the imaginary unit.\\nThe real part is denoted by x and the imaginary part is denoted by \\niy.\\nBut in python, It is expressed in the form of x+yj.\\nfor example 5+6j is a complex number used in python.'"
      ]
     },
     "execution_count": 22,
     "metadata": {},
     "output_type": "execute_result"
    }
   ],
   "source": [
    "#ANSWER 6:\n",
    "\n",
    "'''In mathematics, a complex number is a number that can be expressed in the form of \n",
    "x+yi, where x and y are real numbers, and \n",
    "i is the imaginary unit.\n",
    "The real part is denoted by x and the imaginary part is denoted by \n",
    "iy.\n",
    "But in python, It is expressed in the form of x+yj.\n",
    "for example 5+6j is a complex number used in python.'''"
   ]
  },
  {
   "cell_type": "code",
   "execution_count": 23,
   "id": "465a51cc-d3f0-4930-9489-aa855d68ea15",
   "metadata": {},
   "outputs": [],
   "source": [
    "#ANSWER 7:\n",
    "\n",
    "age = 25\n",
    "# here age is variable and 25 is value assigned in it.\n"
   ]
  },
  {
   "cell_type": "code",
   "execution_count": 24,
   "id": "6434cf7c-9694-4418-8067-4e9b5023a574",
   "metadata": {},
   "outputs": [
    {
     "data": {
      "text/plain": [
       "25"
      ]
     },
     "execution_count": 24,
     "metadata": {},
     "output_type": "execute_result"
    }
   ],
   "source": [
    "# We can check here,\n",
    "age"
   ]
  },
  {
   "cell_type": "code",
   "execution_count": 26,
   "id": "295bd300-f4d5-4c94-a207-6adc79fe6f68",
   "metadata": {},
   "outputs": [
    {
     "data": {
      "text/plain": [
       "float"
      ]
     },
     "execution_count": 26,
     "metadata": {},
     "output_type": "execute_result"
    }
   ],
   "source": [
    "#ANSWER 8:\n",
    "\n",
    "price=9.99\n",
    "\n",
    "#here 'price' is variable and its value is 9.99.\n",
    "\n",
    "#Now we check its type\n",
    "type(price)"
   ]
  },
  {
   "cell_type": "code",
   "execution_count": 27,
   "id": "9dd9c60b-7f8e-49be-b6e1-0e53050b6215",
   "metadata": {},
   "outputs": [],
   "source": [
    "#hence its type is float.\n"
   ]
  },
  {
   "cell_type": "code",
   "execution_count": null,
   "id": "9a9b10bb-6d63-45a4-ad3f-ceb5666ed718",
   "metadata": {},
   "outputs": [],
   "source": [
    "#ANSWER 9:\n",
    "\n"
   ]
  },
  {
   "cell_type": "code",
   "execution_count": 29,
   "id": "6993c48f-c841-4069-996b-3bfaf151d0e5",
   "metadata": {},
   "outputs": [
    {
     "name": "stdout",
     "output_type": "stream",
     "text": [
      "AFTAB\n"
     ]
    }
   ],
   "source": [
    "NAME='AFTAB'\n",
    "print(NAME)"
   ]
  },
  {
   "cell_type": "code",
   "execution_count": 36,
   "id": "6461b2dd-5712-4ff1-b7d5-b0ac406b3d0e",
   "metadata": {},
   "outputs": [
    {
     "name": "stdout",
     "output_type": "stream",
     "text": [
      "World\n"
     ]
    }
   ],
   "source": [
    "#ANSWER 10:\n",
    "\n",
    "# Original string\n",
    "original_string = \"Hello,World!\"\n",
    "\n",
    "# Extracting the substring \"World\"\n",
    "substring = original_string[6:11]\n",
    "#Here 6 and 11 are indexing numbers.\n",
    "print(substring)\n"
   ]
  },
  {
   "cell_type": "code",
   "execution_count": 37,
   "id": "3998e2d8-8590-490d-9224-1d7116785ad9",
   "metadata": {},
   "outputs": [
    {
     "name": "stdout",
     "output_type": "stream",
     "text": [
      "True\n"
     ]
    }
   ],
   "source": [
    "#ANSWER 11;\n",
    "\n",
    "# Assigning a boolean value to the variable is_student\n",
    "is_student = True  # Set to True because i am currently a student, or False if not\n",
    "\n",
    "# Printing the value of the variable\n",
    "print(is_student)\n"
   ]
  },
  {
   "cell_type": "code",
   "execution_count": null,
   "id": "1d07c2d9-4e2d-40aa-adcc-c0a2c71cd25b",
   "metadata": {},
   "outputs": [],
   "source": []
  }
 ],
 "metadata": {
  "kernelspec": {
   "display_name": "Python 3 (ipykernel)",
   "language": "python",
   "name": "python3"
  },
  "language_info": {
   "codemirror_mode": {
    "name": "ipython",
    "version": 3
   },
   "file_extension": ".py",
   "mimetype": "text/x-python",
   "name": "python",
   "nbconvert_exporter": "python",
   "pygments_lexer": "ipython3",
   "version": "3.10.8"
  }
 },
 "nbformat": 4,
 "nbformat_minor": 5
}
