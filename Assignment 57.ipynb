{
 "cells": [
  {
   "cell_type": "code",
   "execution_count": null,
   "id": "e2cc306b-9669-453e-bad0-1245318c2906",
   "metadata": {},
   "outputs": [],
   "source": [
    "Q2. When the goal is to predict the actual price of a house as accurately as possible, R-squared (coefficient of determination) would be the more appropriate evaluation metric. R-squared measures the proportion of the variance in the dependent variable (house price) that is predictable from the independent variables (features) in the model. A higher R-squared value indicates that a larger proportion of the variance in the house prices is explained by the model, thus indicating a better fit.\n",
    "\n",
    "Q3. When dealing with a dataset that contains a significant number of outliers, Mean Absolute Error (MAE) would be the most appropriate regression metric to use with an SVM model. MAE is less sensitive to outliers compared to other metrics such as Mean Squared Error (MSE) or Root Mean Squared Error (RMSE). MAE measures the average absolute difference between the predicted values and the actual values, making it more robust in the presence of outliers.\n",
    "\n",
    "Q4. In this scenario, when both Mean Squared Error (MSE) and Root Mean Squared Error (RMSE) values are very close, it is generally preferable to use RMSE as the evaluation metric. RMSE penalizes larger errors more heavily compared to MSE because it takes the square root of the average squared differences between the predicted and actual values. This makes RMSE more sensitive to large errors, which may be more critical in certain applications, such as house price prediction.\n",
    "\n",
    "Q5. When comparing the performance of different SVM regression models using different kernels (linear, polynomial, and RBF), the most appropriate evaluation metric to measure how well the model explains the variance in the target variable is R-squared (coefficient of determination). R-squared indicates the proportion of the variance in the target variable that is explained by the model. A higher R-squared value indicates a better fit of the model to the data and better explanatory power. Therefore, R-squared would be the preferred metric in this scenario.\n",
    "\n",
    "\n",
    "\n",
    "\n",
    "\n",
    "\n"
   ]
  }
 ],
 "metadata": {
  "kernelspec": {
   "display_name": "Python 3 (ipykernel)",
   "language": "python",
   "name": "python3"
  },
  "language_info": {
   "codemirror_mode": {
    "name": "ipython",
    "version": 3
   },
   "file_extension": ".py",
   "mimetype": "text/x-python",
   "name": "python",
   "nbconvert_exporter": "python",
   "pygments_lexer": "ipython3",
   "version": "3.10.8"
  }
 },
 "nbformat": 4,
 "nbformat_minor": 5
}
