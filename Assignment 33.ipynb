{
 "cells": [
  {
   "cell_type": "markdown",
   "id": "12f12f16-ad5f-412e-a909-c831ebd29013",
   "metadata": {},
   "source": [
    "# ANSWER 1\n",
    "assumptions = {\n",
    "    \"Normality of residuals\": \"Residuals should be normally distributed.\",\n",
    "    \"Homogeneity of variances\": \"Variances of the groups should be equal.\",\n",
    "    \"Independence of observations\": \"Observations should be independent of each other.\"\n",
    "}\n",
    "violations = {\n",
    "    \"Non-normality of residuals\": \"Residuals are skewed or not normally distributed.\",\n",
    "    \"Heteroscedasticity\": \"Variances of the groups are unequal.\",\n",
    "    \"Correlated errors\": \"Observations are not independent.\"\n",
    "}\n",
    "print(\"Assumptions for ANOVA include:\")\n",
    "for key, value in assumptions.items():\n",
    "    print(f\"- {key}: {value}\")\n",
    "print(\"\\nViolations that could impact the validity of the results:\")\n",
    "for key, value in violations.items():\n",
    "    print(f\"- {key}: {value}\")\n"
   ]
  },
  {
   "cell_type": "code",
   "execution_count": null,
   "id": "9a0dac33-0390-46c3-94a5-aff210f0fc95",
   "metadata": {},
   "outputs": [],
   "source": [
    "# ANSWER 2\n",
    "types_of_anova = {\n",
    "    \"One-way ANOVA\": \"For comparing means across one categorical variable.\",\n",
    "    \"Two-way ANOVA\": \"For comparing means across two categorical variables.\",\n",
    "    \"N-way ANOVA\": \"For comparing means across multiple categorical variables.\"\n",
    "}\n",
    "print(\"\\nThe three types of ANOVA are:\")\n",
    "for key, value in types_of_anova.items():\n",
    "    print(f\"- {key}: {value}\")\n"
   ]
  },
  {
   "cell_type": "code",
   "execution_count": null,
   "id": "133abf4e-9e7d-4fc6-9874-b5a0425b5367",
   "metadata": {},
   "outputs": [],
   "source": [
    "# ANSWER 3\n",
    "print(\"\\nThe partitioning of variance in ANOVA involves dividing the total variability into components attributed to different sources such as treatment effects and error. Understanding this concept helps in interpreting the relative importance of various factors in explaining the observed variation.\")\n"
   ]
  },
  {
   "cell_type": "code",
   "execution_count": null,
   "id": "3e90012a-93b9-42e1-b6c9-19433a035f86",
   "metadata": {},
   "outputs": [],
   "source": [
    "# ANSWER 4\n",
    "# Calculating SST, SSE, and SSR in a one-way ANOVA using Python can be complex. \n",
    "# It typically involves summing the squares of the deviations of each observation from the overall mean,\n",
    "# from the group means, and from the individual observations. \n",
    "# Libraries like NumPy or pandas are often used to compute these sums of squares from the data and group means.\n",
    "# If you need assistance with specific code for this calculation, feel free to ask!\n"
   ]
  },
  {
   "cell_type": "code",
   "execution_count": null,
   "id": "189b5171-944c-4183-b668-932a96a2c16b",
   "metadata": {},
   "outputs": [],
   "source": [
    "# ANSWER 5\n",
    "# Calculating main effects and interaction effects in a two-way ANOVA using Python involves conducting ANOVA analysis \n",
    "# on each factor separately and then combining them to compute the effects. \n",
    "# This process can be done using libraries like statsmodels, which provide functions for conducting ANOVA analysis and \n",
    "# extracting main and interaction effects from the results.\n",
    "# If you need assistance with specific code for this calculation, feel free to ask!\n"
   ]
  },
  {
   "cell_type": "code",
   "execution_count": null,
   "id": "15ad65a6-0ae3-41be-bb82-63efbf814f05",
   "metadata": {},
   "outputs": [],
   "source": [
    "# ANSWER 6\n",
    "# A one-way ANOVA with an F-statistic of 5.23 and a p-value of 0.02 suggests that there are significant differences \n",
    "# between the groups. The F-statistic indicates the ratio of variance between groups to variance within groups. \n",
    "# Since the p-value is less than the significance level of 0.05, we reject the null hypothesis that the means of \n",
    "# all groups are equal. Therefore, we conclude that there are statistically significant differences between at least \n",
    "# two of the groups.\n"
   ]
  },
  {
   "cell_type": "code",
   "execution_count": null,
   "id": "8f1017bc-ec70-48cf-babf-999775918e70",
   "metadata": {},
   "outputs": [],
   "source": [
    "# ANSWER 7\n",
    "# In a repeated measures ANOVA, missing data can be handled using various methods such as mean imputation, \n",
    "# last observation carried forward (LOCF), or multiple imputation. \n",
    "# However, the choice of method can affect the results and may introduce bias or inflate Type I errors. \n",
    "# For example, mean imputation assumes that the missing values are missing completely at random (MCAR) \n",
    "# and can underestimate variability, while LOCF assumes that the last observed value is representative of \n",
    "# the missing data and can introduce bias if the missing data are not systematically related to the observed data.\n"
   ]
  },
  {
   "cell_type": "code",
   "execution_count": null,
   "id": "3ff962d5-5e41-4fb1-b12f-40567da403ff",
   "metadata": {},
   "outputs": [],
   "source": [
    "# ANSWER 8\n",
    "# Common post-hoc tests used after ANOVA include Tukey's HSD (Honestly Significant Difference), Bonferroni correction, \n",
    "# and Scheffe's method. Tukey's HSD is often used when comparing all possible pairs of means, while Bonferroni correction \n",
    "# is more conservative and adjusts for multiple comparisons. Scheffe's method is used for more complex comparisons \n",
    "# and provides a general method for making simultaneous comparisons between groups.\n",
    "# Post-hoc tests are necessary when the overall ANOVA test indicates significant differences between groups, \n",
    "# but it does not specify which specific groups are different from each other.\n"
   ]
  },
  {
   "cell_type": "code",
   "execution_count": null,
   "id": "46c33779-fd89-4df6-9af3-73cc8ab8ea0b",
   "metadata": {},
   "outputs": [],
   "source": [
    "# ANSWER 9\n",
    "# Conducting a one-way ANOVA in Python involves using libraries like scipy.stats or statsmodels. \n",
    "# Here's a basic example:\n",
    "\n",
    "import scipy.stats as stats\n",
    "\n",
    "# Sample data\n",
    "diet_A = [..]  # weight loss data for diet A\n",
    "diet_B = [..]  # weight loss data for diet B\n",
    "diet_C = [..]  # weight loss data for diet C\n",
    "\n",
    "# One-way ANOVA\n",
    "f_statistic, p_value = stats.f_oneway(diet_A, diet_B, diet_C)\n",
    "\n",
    "print(\"F-statistic:\", f_statistic)\n",
    "print(\"P-value:\", p_value)\n",
    "\n",
    "# Interpretation: If p-value < 0.05, we reject the null hypothesis and conclude that there are significant differences \n",
    "# in mean weight loss among the three diets.\n"
   ]
  },
  {
   "cell_type": "code",
   "execution_count": null,
   "id": "ae12479d-143e-496f-8765-879fb9a4af08",
   "metadata": {},
   "outputs": [],
   "source": [
    "# ANSWER 10\n",
    "# Conducting a two-way ANOVA in Python involves using libraries like statsmodels or scipy.stats. \n",
    "# Here's a basic example:\n",
    "\n",
    "import statsmodels.api as sm\n",
    "from statsmodels.formula.api import ols\n",
    "\n",
    "# Sample data\n",
    "# Assuming data is organized with columns: time_taken, software_program, experience_level\n",
    "\n",
    "# Fit the model\n",
    "model = ols('time_taken ~ C(software_program) * C(experience_level)', data=df).fit()\n",
    "anova_table = sm.stats.anova_lm(model, typ=2)\n",
    "\n",
    "print(anova_table)\n"
   ]
  },
  {
   "cell_type": "code",
   "execution_count": null,
   "id": "5d9a581c-3b93-44b8-aa35-044479865ba8",
   "metadata": {},
   "outputs": [],
   "source": [
    "# ANSWER 11\n",
    "# Conducting a two-sample t-test in Python involves using libraries like scipy.stats. \n",
    "# Here's a basic example:\n",
    "\n",
    "import scipy.stats as stats\n",
    "\n",
    "# Sample data\n",
    "control_group_scores = [..]  # test scores for the control group\n",
    "experimental_group_scores = [..]  # test scores for the experimental group\n",
    "\n",
    "# Two-sample t-test\n",
    "t_statistic, p_value = stats.ttest_ind(control_group_scores, experimental_group_scores)\n",
    "\n",
    "print(\"T-statistic:\", t_statistic)\n",
    "print(\"P-value:\", p_value)\n",
    "\n",
    "# Interpretation: If p-value < 0.05, we reject the null hypothesis and conclude that there is a significant difference \n",
    "# in test scores between the control and experimental groups.\n"
   ]
  },
  {
   "cell_type": "code",
   "execution_count": null,
   "id": "1ce30f75-a8bd-43aa-a3d0-4be327e01aa0",
   "metadata": {},
   "outputs": [],
   "source": [
    "# ANSWER 12\n",
    "# Conducting a repeated measures ANOVA in Python involves using libraries like statsmodels. \n",
    "# Here's a basic example:\n",
    "\n",
    "import statsmodels.api as sm\n",
    "from statsmodels.stats.anova import AnovaRM\n",
    "\n",
    "# Sample data\n",
    "# Assuming data is organized with columns: sales, store_id, day\n",
    "\n",
    "# Fit the model\n",
    "model = AnovaRM(data=df, depvar='sales', within=['store_id'], subject='day').fit()\n",
    "anova_table = model.summary()\n",
    "\n",
    "print(anova_table)\n"
   ]
  },
  {
   "cell_type": "code",
   "execution_count": null,
   "id": "64372dc8-e7fd-48bb-b93f-d74e33789774",
   "metadata": {},
   "outputs": [],
   "source": []
  }
 ],
 "metadata": {
  "kernelspec": {
   "display_name": "Python 3 (ipykernel)",
   "language": "python",
   "name": "python3"
  },
  "language_info": {
   "codemirror_mode": {
    "name": "ipython",
    "version": 3
   },
   "file_extension": ".py",
   "mimetype": "text/x-python",
   "name": "python",
   "nbconvert_exporter": "python",
   "pygments_lexer": "ipython3",
   "version": "3.10.8"
  }
 },
 "nbformat": 4,
 "nbformat_minor": 5
}
