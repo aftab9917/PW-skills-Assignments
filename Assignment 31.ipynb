{
 "cells": [
  {
   "cell_type": "code",
   "execution_count": 1,
   "id": "e30720ee-e1dc-44cb-adc3-10ac5c6c4210",
   "metadata": {},
   "outputs": [
    {
     "data": {
      "text/plain": [
       "'t-test: Used when the sample size is small (<30) or the population standard deviation is unknown.\\nz-test: Used when the sample size is large (>30) and the population standard deviation is known.\\nExample: Use a t-test to compare the means of two groups with small sample sizes and a z-test for large sample sizes.'"
      ]
     },
     "execution_count": 1,
     "metadata": {},
     "output_type": "execute_result"
    }
   ],
   "source": [
    "#ANSWER 1\n",
    "\n",
    "'''t-test: Used when the sample size is small (<30) or the population standard deviation is unknown.\n",
    "z-test: Used when the sample size is large (>30) and the population standard deviation is known.\n",
    "Example: Use a t-test to compare the means of two groups with small sample sizes and a z-test for large sample sizes.'''"
   ]
  },
  {
   "cell_type": "code",
   "execution_count": 3,
   "id": "119bdcba-0cff-4dac-ba71-216e8f643a61",
   "metadata": {},
   "outputs": [
    {
     "data": {
      "text/plain": [
       "'One-tailed test: Tests for a difference in one direction only.\\nTwo-tailed test: Tests for a difference in both directions.\\nExample: Testing if a new drug increases blood pressure (one-tailed) vs. testing if a new drug affects blood pressure (two-tailed).'"
      ]
     },
     "execution_count": 3,
     "metadata": {},
     "output_type": "execute_result"
    }
   ],
   "source": [
    "#ANSWER 2\n",
    "\n",
    "'''One-tailed test: Tests for a difference in one direction only.\n",
    "Two-tailed test: Tests for a difference in both directions.\n",
    "Example: Testing if a new drug increases blood pressure (one-tailed) vs. testing if a new drug affects blood pressure (two-tailed).'''"
   ]
  },
  {
   "cell_type": "code",
   "execution_count": 4,
   "id": "03ed084e-7fe7-4f70-8d16-757ff1a08cac",
   "metadata": {},
   "outputs": [
    {
     "data": {
      "text/plain": [
       "'Type 1 error: Incorrectly rejecting a true null hypothesis.\\nType 2 error: Failing to reject a false null hypothesis.\\nExample: Type 1 error - Convicting an innocent person; Type 2 error - Failing to convict a guilty person.'"
      ]
     },
     "execution_count": 4,
     "metadata": {},
     "output_type": "execute_result"
    }
   ],
   "source": [
    "#ANSWER 3\n",
    "\n",
    "'''Type 1 error: Incorrectly rejecting a true null hypothesis.\n",
    "Type 2 error: Failing to reject a false null hypothesis.\n",
    "Example: Type 1 error - Convicting an innocent person; Type 2 error - Failing to convict a guilty person.'''"
   ]
  },
  {
   "cell_type": "code",
   "execution_count": 5,
   "id": "f1625aaa-f8a7-4461-9624-597f33680c6b",
   "metadata": {},
   "outputs": [
    {
     "data": {
      "text/plain": [
       "'It calculates the probability of an event based on prior knowledge and new evidence.\\nExample: Updating the probability of a medical condition given the results of a diagnostic test.'"
      ]
     },
     "execution_count": 5,
     "metadata": {},
     "output_type": "execute_result"
    }
   ],
   "source": [
    "#ANSWER 4\n",
    "\n",
    "'''It calculates the probability of an event based on prior knowledge and new evidence.\n",
    "Example: Updating the probability of a medical condition given the results of a diagnostic test.'''"
   ]
  },
  {
   "cell_type": "code",
   "execution_count": 6,
   "id": "f7516ccb-caef-4343-b8a4-99eba1f16890",
   "metadata": {},
   "outputs": [
    {
     "data": {
      "text/plain": [
       "\"It's a range of values that likely contains the true population parameter.\\nExample: Calculating a 95% confidence interval for the population mean based on sample data.\""
      ]
     },
     "execution_count": 6,
     "metadata": {},
     "output_type": "execute_result"
    }
   ],
   "source": [
    "#ANSWER 5\n",
    "\n",
    "'''It's a range of values that likely contains the true population parameter.\n",
    "Example: Calculating a 95% confidence interval for the population mean based on sample data.'''"
   ]
  },
  {
   "cell_type": "code",
   "execution_count": 7,
   "id": "cd66786d-2db5-4e3a-accc-d0b167fc4305",
   "metadata": {},
   "outputs": [
    {
     "data": {
      "text/plain": [
       "'Given prior probability of event A, probability of evidence given A, and probability of evidence given not A, calculate the posterior probability of A.\\nExample: Updating the probability of a disease given a positive test result.'"
      ]
     },
     "execution_count": 7,
     "metadata": {},
     "output_type": "execute_result"
    }
   ],
   "source": [
    "#ANSWER 6\n",
    "\n",
    "'''Given prior probability of event A, probability of evidence given A, and probability of evidence given not A, calculate the posterior probability of A.\n",
    "Example: Updating the probability of a disease given a positive test result.'''"
   ]
  },
  {
   "cell_type": "code",
   "execution_count": 8,
   "id": "673d7804-c9e6-4591-8e96-1fa7a143dbb7",
   "metadata": {},
   "outputs": [
    {
     "data": {
      "text/plain": [
       "'For a sample mean of 50 and standard deviation of 5, the 95% confidence interval would be approximately (47.96, 52.04). This means we are 95% confident that the true population mean falls within this range.'"
      ]
     },
     "execution_count": 8,
     "metadata": {},
     "output_type": "execute_result"
    }
   ],
   "source": [
    "#ANSWER 7\n",
    "\n",
    "'''For a sample mean of 50 and standard deviation of 5, the 95% confidence interval would be approximately (47.96, 52.04). This means we are 95% confident that the true population mean falls within this range.'''"
   ]
  },
  {
   "cell_type": "code",
   "execution_count": 9,
   "id": "3f0e6544-4920-41e7-9135-bf2abcef7fe5",
   "metadata": {},
   "outputs": [
    {
     "data": {
      "text/plain": [
       "\"It's the range of values above and below the sample statistic within which the true population parameter is likely to fall.\\nExample: A larger sample size results in a smaller margin of error, meaning we can estimate the population parameter more precisely.\""
      ]
     },
     "execution_count": 9,
     "metadata": {},
     "output_type": "execute_result"
    }
   ],
   "source": [
    "#ANSWER 8\n",
    "\n",
    "'''It's the range of values above and below the sample statistic within which the true population parameter is likely to fall.\n",
    "Example: A larger sample size results in a smaller margin of error, meaning we can estimate the population parameter more precisely.'''"
   ]
  },
  {
   "cell_type": "code",
   "execution_count": 12,
   "id": "b55b19de-f0da-4acd-b124-2445b4f84bdd",
   "metadata": {},
   "outputs": [
    {
     "name": "stdout",
     "output_type": "stream",
     "text": [
      "The z-score is: 1.0\n"
     ]
    }
   ],
   "source": [
    "#ANSWER 9\n",
    "\n",
    "def calculate_z_score(data_point, population_mean, population_std_dev):\n",
    "    return (data_point - population_mean) / population_std_dev\n",
    "\n",
    "data_point = 75\n",
    "population_mean = 70\n",
    "population_std_dev = 5\n",
    "\n",
    "z_score = calculate_z_score(data_point, population_mean, population_std_dev)\n",
    "print(\"The z-score is:\", z_score)\n"
   ]
  },
  {
   "cell_type": "code",
   "execution_count": 13,
   "id": "f3f68b00-0e04-4d3f-ab90-00312eca0da2",
   "metadata": {},
   "outputs": [
    {
     "name": "stdout",
     "output_type": "stream",
     "text": [
      "Reject the null hypothesis. The drug is significantly effective.\n"
     ]
    }
   ],
   "source": [
    "#ANSWER 10\n",
    "\n",
    "from scipy.stats import ttest_1samp\n",
    "\n",
    "sample_mean = 6\n",
    "population_mean = 0  # Null hypothesis: The drug has no effect\n",
    "sample_std_dev = 2.5\n",
    "sample_size = 50\n",
    "alpha = 0.05\n",
    "\n",
    "t_statistic, p_value = ttest_1samp(range(sample_size), population_mean)\n",
    "if p_value < alpha:\n",
    "    print(\"Reject the null hypothesis. The drug is significantly effective.\")\n",
    "else:\n",
    "    print(\"Fail to reject the null hypothesis. The drug is not significantly effective.\")\n",
    "\n"
   ]
  },
  {
   "cell_type": "code",
   "execution_count": 14,
   "id": "295c3732-e18b-4dbd-8951-083d0493517a",
   "metadata": {},
   "outputs": [
    {
     "name": "stdout",
     "output_type": "stream",
     "text": [
      "95% Confidence Interval: (0.6081925393809212, 0.6918074606190788)\n"
     ]
    }
   ],
   "source": [
    "#ANSWER 11\n",
    "\n",
    "import statsmodels.stats.api as sms\n",
    "\n",
    "sample_proportion = 0.65\n",
    "sample_size = 500\n",
    "confidence_level = 0.95\n",
    "\n",
    "ci = sms.proportion_confint(sample_proportion * sample_size, sample_size, alpha=(1-confidence_level))\n",
    "print(\"95% Confidence Interval:\", ci)\n"
   ]
  },
  {
   "cell_type": "code",
   "execution_count": 15,
   "id": "ae6c2790-834c-4150-8f15-fe297d802d58",
   "metadata": {},
   "outputs": [
    {
     "name": "stdout",
     "output_type": "stream",
     "text": [
      "Fail to reject the null hypothesis. There is no significant difference in student performance between the two teaching methods.\n"
     ]
    }
   ],
   "source": [
    "#ANSWER 12\n",
    "\n",
    "from scipy.stats import ttest_ind\n",
    "\n",
    "sample_mean_A = 85\n",
    "sample_std_dev_A = 6\n",
    "sample_size_A = 30\n",
    "\n",
    "sample_mean_B = 82\n",
    "sample_std_dev_B = 5\n",
    "sample_size_B = 40\n",
    "\n",
    "alpha = 0.01\n",
    "\n",
    "t_statistic, p_value = ttest_ind(range(sample_size_A), range(sample_size_B))\n",
    "if p_value < alpha:\n",
    "    print(\"Reject the null hypothesis. There is a significant difference in student performance between the two teaching methods.\")\n",
    "else:\n",
    "    print(\"Fail to reject the null hypothesis. There is no significant difference in student performance between the two teaching methods.\")\n"
   ]
  },
  {
   "cell_type": "code",
   "execution_count": 16,
   "id": "e1de56ef-9e14-43b4-a1bc-c630e045f70f",
   "metadata": {},
   "outputs": [
    {
     "name": "stdout",
     "output_type": "stream",
     "text": [
      "90% Confidence Interval: (63.13906055411732, 66.86093944588268)\n"
     ]
    }
   ],
   "source": [
    "#ANSWER 13\n",
    "\n",
    "import numpy as np\n",
    "import scipy.stats as stats\n",
    "\n",
    "population_mean = 60\n",
    "population_std_dev = 8\n",
    "sample_mean = 65\n",
    "sample_size = 50\n",
    "confidence_level = 0.90\n",
    "\n",
    "# Calculate standard error\n",
    "standard_error = population_std_dev / np.sqrt(sample_size)\n",
    "\n",
    "# Calculate margin of error\n",
    "z_critical = stats.norm.ppf((1 + confidence_level) / 2)\n",
    "margin_of_error = z_critical * standard_error\n",
    "\n",
    "# Calculate confidence interval\n",
    "confidence_interval = (sample_mean - margin_of_error, sample_mean + margin_of_error)\n",
    "print(\"90% Confidence Interval:\", confidence_interval)\n"
   ]
  },
  {
   "cell_type": "code",
   "execution_count": 17,
   "id": "6d64a3e5-7cbb-4154-bd14-ebd9a61dc622",
   "metadata": {},
   "outputs": [
    {
     "name": "stdout",
     "output_type": "stream",
     "text": [
      "Reject the null hypothesis. Caffeine has a significant effect on reaction time.\n"
     ]
    }
   ],
   "source": [
    "#ANSWER 14\n",
    "\n",
    "sample_mean = 0.25\n",
    "population_mean = 0  # Null hypothesis: Caffeine has no effect\n",
    "sample_std_dev = 0.05\n",
    "sample_size = 30\n",
    "confidence_level = 0.90\n",
    "\n",
    "t_statistic, p_value = ttest_1samp(range(sample_size), population_mean)\n",
    "if p_value < alpha:\n",
    "    print(\"Reject the null hypothesis. Caffeine has a significant effect on reaction time.\")\n",
    "else:\n",
    "    print(\"Fail to reject the null hypothesis. Caffeine does not have a significant effect on reaction time.\")\n"
   ]
  },
  {
   "cell_type": "code",
   "execution_count": null,
   "id": "953f54a3-30cf-4307-819d-835cbebb7b82",
   "metadata": {},
   "outputs": [],
   "source": []
  }
 ],
 "metadata": {
  "kernelspec": {
   "display_name": "Python 3 (ipykernel)",
   "language": "python",
   "name": "python3"
  },
  "language_info": {
   "codemirror_mode": {
    "name": "ipython",
    "version": 3
   },
   "file_extension": ".py",
   "mimetype": "text/x-python",
   "name": "python",
   "nbconvert_exporter": "python",
   "pygments_lexer": "ipython3",
   "version": "3.10.8"
  }
 },
 "nbformat": 4,
 "nbformat_minor": 5
}
